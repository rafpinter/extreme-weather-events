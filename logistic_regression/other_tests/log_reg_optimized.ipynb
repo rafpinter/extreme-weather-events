{
    "cells": [
        {
            "cell_type": "code",
            "execution_count": 2,
            "metadata": {},
            "outputs": [
                {
                    "name": "stdout",
                    "output_type": "stream",
                    "text": [
                        "The autoreload extension is already loaded. To reload it, use:\n",
                        "  %reload_ext autoreload\n"
                    ]
                }
            ],
            "source": [
                "%load_ext autoreload\n",
                "%autoreload 2"
            ]
        },
        {
            "cell_type": "code",
            "execution_count": 1,
            "metadata": {},
            "outputs": [],
            "source": [
                "from logistic_regression import MultinomialLogisticRegression\n",
                "from preprocess import Preprocess\n",
                "import numpy as np\n",
                "import pandas as pd\n",
                "from datetime import datetime\n",
                "import matplotlib.pyplot as plt"
            ]
        },
        {
            "cell_type": "code",
            "execution_count": 2,
            "metadata": {},
            "outputs": [],
            "source": [
                "raw_train_data = \"../data/train.csv\"\n",
                "raw_test_data = \"../data/test.csv\""
            ]
        },
        {
            "cell_type": "code",
            "execution_count": 3,
            "metadata": {},
            "outputs": [
                {
                    "name": "stdout",
                    "output_type": "stream",
                    "text": [
                        "Index(['lat', 'lon', 'TMQ', 'U850', 'V850', 'UBOT', 'VBOT', 'QREFHT', 'PS',\n",
                        "       'PSL', 'T200', 'T500', 'PRECT', 'TS', 'TREFHT', 'Z1000', 'Z200', 'ZBOT',\n",
                        "       'month', 'Label'],\n",
                        "      dtype='object')\n"
                    ]
                }
            ],
            "source": [
                "preproc = Preprocess()\n",
                "raw_data = preproc.load_data(raw_train_data)\n",
                "\n",
                "train_df, train_data = preproc.preprocess_data(raw_data, drop_cols=[\"SNo\", \"time\"])\n",
                "np.random.shuffle(train_data)\n",
                "X_train, y_train, X_valid, y_valid = preproc.train_valid_split(\n",
                "    train_data, test_size=0.33#, random_state=42\n",
                ")\n",
                "\n",
                "print(train_df.columns)\n",
                "\n",
                "X_train = preproc.normalize_data(X_train)\n",
                "X_valid = preproc.normalize_data(X_valid)"
            ]
        },
        {
            "cell_type": "code",
            "execution_count": 4,
            "metadata": {},
            "outputs": [
                {
                    "data": {
                        "text/plain": [
                            "array([[ 1.17023663,  0.20097484,  0.31264735, ...,  0.83365928,\n",
                            "         0.83502721,  0.87014244],\n",
                            "       [ 1.15999266,  0.18576436, -0.17012304, ..., -1.00192114,\n",
                            "         0.0415953 , -1.7854207 ],\n",
                            "       [-1.19612069,  2.06425976, -1.38622515, ..., -2.21369464,\n",
                            "        -1.7719138 , -0.26795605],\n",
                            "       ...,\n",
                            "       [-0.96050935, -0.65841779, -1.315159  , ...,  0.24493455,\n",
                            "        -1.09001454,  0.11141011],\n",
                            "       [ 1.17023663,  0.20097484,  0.53255638, ...,  0.45748915,\n",
                            "         0.35511203,  1.2495086 ],\n",
                            "       [ 0.71950191, -0.40744472,  0.38802666, ...,  0.81106211,\n",
                            "         0.72945872, -0.64732222]])"
                        ]
                    },
                    "execution_count": 4,
                    "metadata": {},
                    "output_type": "execute_result"
                }
            ],
            "source": [
                "X_train"
            ]
        },
        {
            "cell_type": "code",
            "execution_count": 5,
            "metadata": {},
            "outputs": [
                {
                    "data": {
                        "text/plain": [
                            "0    0.785947\n",
                            "2    0.173280\n",
                            "1    0.040773\n",
                            "Name: Label, dtype: float64"
                        ]
                    },
                    "execution_count": 5,
                    "metadata": {},
                    "output_type": "execute_result"
                }
            ],
            "source": [
                "train_df.Label.value_counts(normalize=True)"
            ]
        },
        {
            "cell_type": "code",
            "execution_count": 6,
            "metadata": {},
            "outputs": [
                {
                    "data": {
                        "text/plain": [
                            "44760"
                        ]
                    },
                    "execution_count": 6,
                    "metadata": {},
                    "output_type": "execute_result"
                }
            ],
            "source": [
                "len(train_df)"
            ]
        },
        {
            "cell_type": "markdown",
            "metadata": {},
            "source": [
                "### Training model"
            ]
        },
        {
            "cell_type": "code",
            "execution_count": 7,
            "metadata": {},
            "outputs": [
                {
                    "name": "stdout",
                    "output_type": "stream",
                    "text": [
                        "Epoch 0, cross entropy loss: 1.0986122886681096\n",
                        "Epoch 100, cross entropy loss: 0.9979980945129286\n",
                        "Epoch 200, cross entropy loss: 0.9635803289884033\n",
                        "Epoch 300, cross entropy loss: 0.9365615691487986\n",
                        "Epoch 400, cross entropy loss: 0.9132114743152208\n",
                        "Epoch 0, cross entropy loss: 1.0986122886681096\n",
                        "Epoch 100, cross entropy loss: 0.8244940761779028\n",
                        "Epoch 200, cross entropy loss: 0.7730855580500634\n",
                        "Epoch 300, cross entropy loss: 0.7525173886502735\n",
                        "Epoch 400, cross entropy loss: 0.7400275769988041\n",
                        "Epoch 0, cross entropy loss: 1.0986122886681096\n",
                        "Epoch 100, cross entropy loss: 0.9982493177849654\n",
                        "Epoch 200, cross entropy loss: 0.9641475079905487\n",
                        "Epoch 300, cross entropy loss: 0.9374402365614247\n",
                        "Epoch 400, cross entropy loss: 0.9143848725996248\n",
                        "Epoch 0, cross entropy loss: 1.0986122886681096\n",
                        "Epoch 100, cross entropy loss: 0.827093448533769\n",
                        "Epoch 200, cross entropy loss: 0.77722020686529\n",
                        "Epoch 300, cross entropy loss: 0.7578096210745404\n",
                        "Epoch 400, cross entropy loss: 0.7463576891129088\n",
                        "Epoch 0, cross entropy loss: 1.0986122886681096\n",
                        "Epoch 100, cross entropy loss: 0.9993658656606842\n",
                        "Epoch 200, cross entropy loss: 0.9666683035556393\n",
                        "Epoch 300, cross entropy loss: 0.941345425061985\n",
                        "Epoch 400, cross entropy loss: 0.9195999760858645\n",
                        "Epoch 0, cross entropy loss: 1.0986122886681096\n",
                        "Epoch 100, cross entropy loss: 0.83864621455984\n",
                        "Epoch 200, cross entropy loss: 0.795596423821853\n",
                        "Epoch 300, cross entropy loss: 0.7813306540712808\n",
                        "Epoch 400, cross entropy loss: 0.7744915207311521\n",
                        "Epoch 0, cross entropy loss: 1.0986122886681096\n",
                        "Epoch 100, cross entropy loss: 1.0007615505053327\n",
                        "Epoch 200, cross entropy loss: 0.9698192980120025\n",
                        "Epoch 300, cross entropy loss: 0.9462269106876855\n",
                        "Epoch 400, cross entropy loss: 0.9261188554436641\n",
                        "Epoch 0, cross entropy loss: 1.0986122886681096\n",
                        "Epoch 100, cross entropy loss: 0.8530871720924288\n",
                        "Epoch 200, cross entropy loss: 0.8185666950175566\n",
                        "Epoch 300, cross entropy loss: 0.8107319453172063\n",
                        "Epoch 400, cross entropy loss: 0.8096588102539561\n"
                    ]
                }
            ],
            "source": [
                "regularizers = np.array([0.001, 0.01, 0.05, 0.1])\n",
                "learning_rates = np.array([0.01, 0.1])\n",
                "\n",
                "params_combination = np.array(\n",
                "    np.meshgrid(regularizers, learning_rates)\n",
                ").T.reshape(-1, 2)\n",
                "\n",
                "valid_errors = []\n",
                "valid_errors_idx = []\n",
                "\n",
                "for reg, l_rate in params_combination:\n",
                "    model = MultinomialLogisticRegression(learning_rate=l_rate, num_iterations=500, regularizer=reg)\n",
                "    model.fit(X_train, y_train, collist=raw_data.columns, valid_x=X_valid, valid_y=y_valid)\n",
                "    \n",
                "    min_error_idx = np.argmin(model.valid_errors)\n",
                "    valid_errors_idx.append(min_error_idx)\n",
                "    \n",
                "    min_error = np.min(model.valid_errors)\n",
                "    valid_errors.append(min_error)"
            ]
        },
        {
            "cell_type": "code",
            "execution_count": 8,
            "metadata": {},
            "outputs": [
                {
                    "data": {
                        "text/plain": [
                            "[0.8918037249915778,\n",
                            " 0.7298191024045938,\n",
                            " 0.8932291710906684,\n",
                            " 0.7370473605112506,\n",
                            " 0.8995644870866264,\n",
                            " 0.769172952096392,\n",
                            " 0.9074836320815739,\n",
                            " 0.8075484212059503]"
                        ]
                    },
                    "execution_count": 8,
                    "metadata": {},
                    "output_type": "execute_result"
                }
            ],
            "source": [
                "(valid_errors)"
            ]
        },
        {
            "cell_type": "code",
            "execution_count": 9,
            "metadata": {},
            "outputs": [
                {
                    "data": {
                        "text/plain": [
                            "[49, 49, 49, 49, 49, 49, 49, 37]"
                        ]
                    },
                    "execution_count": 9,
                    "metadata": {},
                    "output_type": "execute_result"
                }
            ],
            "source": [
                "valid_errors_idx"
            ]
        },
        {
            "cell_type": "code",
            "execution_count": 10,
            "metadata": {},
            "outputs": [
                {
                    "data": {
                        "text/plain": [
                            "array([0.001, 0.1  ])"
                        ]
                    },
                    "execution_count": 10,
                    "metadata": {},
                    "output_type": "execute_result"
                }
            ],
            "source": [
                "opt_params = params_combination[np.argmin(valid_errors)]\n",
                "opt_params"
            ]
        },
        {
            "cell_type": "code",
            "execution_count": 11,
            "metadata": {},
            "outputs": [
                {
                    "data": {
                        "text/plain": [
                            "49"
                        ]
                    },
                    "execution_count": 11,
                    "metadata": {},
                    "output_type": "execute_result"
                }
            ],
            "source": [
                "ite = valid_errors_idx[np.argmin(valid_errors)]\n",
                "ite"
            ]
        },
        {
            "cell_type": "code",
            "execution_count": 12,
            "metadata": {},
            "outputs": [
                {
                    "name": "stdout",
                    "output_type": "stream",
                    "text": [
                        "Epoch 0, cross entropy loss: 1.0986122886681096\n",
                        "Epoch 100, cross entropy loss: 0.8530871720924288\n",
                        "Epoch 200, cross entropy loss: 0.8185666950175566\n",
                        "Epoch 300, cross entropy loss: 0.8107319453172063\n",
                        "Epoch 400, cross entropy loss: 0.8096588102539561\n",
                        "Epoch 500, cross entropy loss: 0.8116154640604673\n",
                        "Epoch 600, cross entropy loss: 0.8153785365220192\n",
                        "Epoch 700, cross entropy loss: 0.8203258507363891\n",
                        "Epoch 800, cross entropy loss: 0.8260848782646829\n",
                        "Epoch 900, cross entropy loss: 0.8324238180589989\n",
                        "Index(['lat', 'lon', 'TMQ', 'U850', 'V850', 'UBOT', 'VBOT', 'QREFHT', 'PS',\n",
                        "       'PSL', 'T200', 'T500', 'PRECT', 'TS', 'TREFHT', 'Z1000', 'Z200', 'ZBOT',\n",
                        "       'month', 'Label'],\n",
                        "      dtype='object')\n",
                        "Confusion Matrix:\n",
                        "[[9936  492 1150]\n",
                        " [ 324  297    0]\n",
                        " [1021   46 1505]] \n",
                        "\n",
                        "Accuracy:\n",
                        "0.7947 \n",
                        "\n",
                        "Precision:\n",
                        "0.6011 \n",
                        "\n",
                        "Recall:\n",
                        "0.6405 \n",
                        "\n",
                        "F1 Score:\n",
                        "0.6202\n"
                    ]
                }
            ],
            "source": [
                "model = MultinomialLogisticRegression(learning_rate=0.1, num_iterations=1000, regularizer=opt_params[1])\n",
                "model.fit(X_train, y_train, collist=raw_data.columns, valid_x=X_valid, valid_y=y_valid)\n",
                "\n",
                "# Make predictions.\n",
                "predictions = model.predict(X_valid)\n",
                "print(train_df.columns)\n",
                "\n",
                "model.get_metrics(y_valid, predictions, return_values=False)"
            ]
        },
        {
            "cell_type": "code",
            "execution_count": 13,
            "metadata": {},
            "outputs": [
                {
                    "data": {
                        "text/plain": [
                            "[<matplotlib.lines.Line2D at 0x1500355b0>]"
                        ]
                    },
                    "execution_count": 13,
                    "metadata": {},
                    "output_type": "execute_result"
                },
                {
                    "data": {
                        "image/png": "[encoded data removed]",
                        "text/plain": [
                            "<Figure size 640x480 with 1 Axes>"
                        ]
                    },
                    "metadata": {},
                    "output_type": "display_data"
                }
            ],
            "source": [
                "plt.plot(\n",
                "    model.iters,\n",
                "    model.train_errors\n",
                ")\n",
                "\n",
                "plt.plot(\n",
                "    model.iters,\n",
                "    model.valid_errors,\n",
                "    color='r'\n",
                ")"
            ]
        },
        {
            "cell_type": "code",
            "execution_count": 14,
            "metadata": {},
            "outputs": [
                {
                    "name": "stdout",
                    "output_type": "stream",
                    "text": [
                        "Epoch 0, cross entropy loss: 1.0986122886681096\n",
                        "Epoch 100, cross entropy loss: 0.8530871720924288\n",
                        "Epoch 200, cross entropy loss: 0.8185666950175566\n",
                        "Epoch 300, cross entropy loss: 0.8107319453172063\n",
                        "Index(['lat', 'lon', 'TMQ', 'U850', 'V850', 'UBOT', 'VBOT', 'QREFHT', 'PS',\n",
                        "       'PSL', 'T200', 'T500', 'PRECT', 'TS', 'TREFHT', 'Z1000', 'Z200', 'ZBOT',\n",
                        "       'month', 'Label'],\n",
                        "      dtype='object')\n",
                        "Confusion Matrix:\n",
                        "[[9485  692 1401]\n",
                        " [ 276  336    9]\n",
                        " [ 853   66 1653]] \n",
                        "\n",
                        "Accuracy:\n",
                        "0.7768 \n",
                        "\n",
                        "Precision:\n",
                        "0.5801 \n",
                        "\n",
                        "Recall:\n",
                        "0.6677 \n",
                        "\n",
                        "F1 Score:\n",
                        "0.6208\n"
                    ]
                }
            ],
            "source": [
                "model = MultinomialLogisticRegression(learning_rate=0.1, num_iterations=np.argmin(model.valid_errors)*10, regularizer=opt_params[1])\n",
                "model.fit(X_train, y_train, collist=raw_data.columns, valid_x=X_valid, valid_y=y_valid)\n",
                "\n",
                "# Make predictions.\n",
                "predictions = model.predict(X_valid)\n",
                "print(train_df.columns)\n",
                "\n",
                "model.get_metrics(y_valid, predictions, return_values=False)"
            ]
        },
        {
            "cell_type": "code",
            "execution_count": 18,
            "metadata": {},
            "outputs": [
                {
                    "data": {
                        "text/html": [
                            "<div>\n",
                            "<style scoped>\n",
                            "    .dataframe tbody tr th:only-of-type {\n",
                            "        vertical-align: middle;\n",
                            "    }\n",
                            "\n",
                            "    .dataframe tbody tr th {\n",
                            "        vertical-align: top;\n",
                            "    }\n",
                            "\n",
                            "    .dataframe thead th {\n",
                            "        text-align: right;\n",
                            "    }\n",
                            "</style>\n",
                            "<table border=\"1\" class=\"dataframe\">\n",
                            "  <thead>\n",
                            "    <tr style=\"text-align: right;\">\n",
                            "      <th></th>\n",
                            "      <th>0</th>\n",
                            "      <th>1</th>\n",
                            "      <th>2</th>\n",
                            "    </tr>\n",
                            "  </thead>\n",
                            "  <tbody>\n",
                            "    <tr>\n",
                            "      <th>lat</th>\n",
                            "      <td>0.520986</td>\n",
                            "      <td>0.231896</td>\n",
                            "      <td>0.752883</td>\n",
                            "    </tr>\n",
                            "    <tr>\n",
                            "      <th>TS</th>\n",
                            "      <td>0.434522</td>\n",
                            "      <td>0.079763</td>\n",
                            "      <td>0.354759</td>\n",
                            "    </tr>\n",
                            "    <tr>\n",
                            "      <th>Z1000</th>\n",
                            "      <td>0.339965</td>\n",
                            "      <td>0.387994</td>\n",
                            "      <td>0.048029</td>\n",
                            "    </tr>\n",
                            "    <tr>\n",
                            "      <th>U850</th>\n",
                            "      <td>0.326092</td>\n",
                            "      <td>0.159444</td>\n",
                            "      <td>0.485536</td>\n",
                            "    </tr>\n",
                            "    <tr>\n",
                            "      <th>PS</th>\n",
                            "      <td>0.324855</td>\n",
                            "      <td>0.287695</td>\n",
                            "      <td>0.037159</td>\n",
                            "    </tr>\n",
                            "    <tr>\n",
                            "      <th>PSL</th>\n",
                            "      <td>0.324550</td>\n",
                            "      <td>0.300846</td>\n",
                            "      <td>0.023703</td>\n",
                            "    </tr>\n",
                            "    <tr>\n",
                            "      <th>TMQ</th>\n",
                            "      <td>0.319955</td>\n",
                            "      <td>0.033876</td>\n",
                            "      <td>0.286079</td>\n",
                            "    </tr>\n",
                            "    <tr>\n",
                            "      <th>Z200</th>\n",
                            "      <td>0.130626</td>\n",
                            "      <td>0.087646</td>\n",
                            "      <td>0.218272</td>\n",
                            "    </tr>\n",
                            "    <tr>\n",
                            "      <th>lon</th>\n",
                            "      <td>0.117573</td>\n",
                            "      <td>0.114903</td>\n",
                            "      <td>0.232475</td>\n",
                            "    </tr>\n",
                            "    <tr>\n",
                            "      <th>T500</th>\n",
                            "      <td>0.106594</td>\n",
                            "      <td>0.050053</td>\n",
                            "      <td>0.156647</td>\n",
                            "    </tr>\n",
                            "    <tr>\n",
                            "      <th>UBOT</th>\n",
                            "      <td>0.102961</td>\n",
                            "      <td>0.023728</td>\n",
                            "      <td>0.126689</td>\n",
                            "    </tr>\n",
                            "    <tr>\n",
                            "      <th>PRECT</th>\n",
                            "      <td>0.094237</td>\n",
                            "      <td>0.058743</td>\n",
                            "      <td>0.035494</td>\n",
                            "    </tr>\n",
                            "    <tr>\n",
                            "      <th>QREFHT</th>\n",
                            "      <td>0.036153</td>\n",
                            "      <td>0.045696</td>\n",
                            "      <td>0.009543</td>\n",
                            "    </tr>\n",
                            "    <tr>\n",
                            "      <th>VBOT</th>\n",
                            "      <td>0.032212</td>\n",
                            "      <td>0.031467</td>\n",
                            "      <td>0.000746</td>\n",
                            "    </tr>\n",
                            "    <tr>\n",
                            "      <th>TREFHT</th>\n",
                            "      <td>0.028972</td>\n",
                            "      <td>0.068742</td>\n",
                            "      <td>0.039770</td>\n",
                            "    </tr>\n",
                            "    <tr>\n",
                            "      <th>month</th>\n",
                            "      <td>0.018246</td>\n",
                            "      <td>0.024296</td>\n",
                            "      <td>0.006050</td>\n",
                            "    </tr>\n",
                            "    <tr>\n",
                            "      <th>ZBOT</th>\n",
                            "      <td>0.017329</td>\n",
                            "      <td>0.030702</td>\n",
                            "      <td>0.048032</td>\n",
                            "    </tr>\n",
                            "    <tr>\n",
                            "      <th>T200</th>\n",
                            "      <td>0.005693</td>\n",
                            "      <td>0.033375</td>\n",
                            "      <td>0.027682</td>\n",
                            "    </tr>\n",
                            "    <tr>\n",
                            "      <th>V850</th>\n",
                            "      <td>0.004291</td>\n",
                            "      <td>0.007605</td>\n",
                            "      <td>0.003314</td>\n",
                            "    </tr>\n",
                            "  </tbody>\n",
                            "</table>\n",
                            "</div>"
                        ],
                        "text/plain": [
                            "               0         1         2\n",
                            "lat     0.520986  0.231896  0.752883\n",
                            "TS      0.434522  0.079763  0.354759\n",
                            "Z1000   0.339965  0.387994  0.048029\n",
                            "U850    0.326092  0.159444  0.485536\n",
                            "PS      0.324855  0.287695  0.037159\n",
                            "PSL     0.324550  0.300846  0.023703\n",
                            "TMQ     0.319955  0.033876  0.286079\n",
                            "Z200    0.130626  0.087646  0.218272\n",
                            "lon     0.117573  0.114903  0.232475\n",
                            "T500    0.106594  0.050053  0.156647\n",
                            "UBOT    0.102961  0.023728  0.126689\n",
                            "PRECT   0.094237  0.058743  0.035494\n",
                            "QREFHT  0.036153  0.045696  0.009543\n",
                            "VBOT    0.032212  0.031467  0.000746\n",
                            "TREFHT  0.028972  0.068742  0.039770\n",
                            "month   0.018246  0.024296  0.006050\n",
                            "ZBOT    0.017329  0.030702  0.048032\n",
                            "T200    0.005693  0.033375  0.027682\n",
                            "V850    0.004291  0.007605  0.003314"
                        ]
                    },
                    "execution_count": 18,
                    "metadata": {},
                    "output_type": "execute_result"
                }
            ],
            "source": [
                "weights = pd.DataFrame(model.weights, index=['lat', 'lon', 'TMQ', 'U850', 'V850', 'UBOT', 'VBOT', 'QREFHT', 'PS',\n",
                "       'PSL', 'T200', 'T500', 'PRECT', 'TS', 'TREFHT', 'Z1000', 'Z200', 'ZBOT', 'month'], columns=[0,1,2])\n",
                "weights.abs().sort_values(by=[0,2], ascending=False)"
            ]
        },
        {
            "cell_type": "code",
            "execution_count": 22,
            "metadata": {},
            "outputs": [
                {
                    "data": {
                        "text/plain": [
                            "Index(['lat', 'TS', 'Z1000', 'U850', 'PS', 'PSL', 'TMQ', 'Z200', 'lon', 'T500',\n",
                            "       'UBOT'],\n",
                            "      dtype='object')"
                        ]
                    },
                    "execution_count": 22,
                    "metadata": {},
                    "output_type": "execute_result"
                }
            ],
            "source": [
                "weights.abs().sort_values(by=[0,2], ascending=False)[:-8].index"
            ]
        },
        {
            "cell_type": "code",
            "execution_count": 23,
            "metadata": {},
            "outputs": [
                {
                    "name": "stdout",
                    "output_type": "stream",
                    "text": [
                        "Index(['lat', 'TS', 'Z1000', 'U850', 'PS', 'PSL', 'TMQ', 'Z200', 'lon', 'T500',\n",
                        "       'UBOT', 'Label'],\n",
                        "      dtype='object')\n"
                    ]
                }
            ],
            "source": [
                "preproc = Preprocess()\n",
                "raw_data = preproc.load_data(raw_train_data)\n",
                "\n",
                "train_df, train_data = preproc.preprocess_data(raw_data, drop_cols=[\"SNo\", \"time\"])\n",
                "\n",
                "cols = ['lat', 'TS', 'Z1000', 'U850', 'PS', 'PSL', 'TMQ', 'Z200', 'lon', 'T500',\n",
                "       'UBOT', \"Label\"] \n",
                "\n",
                "train_df = train_df[cols]\n",
                "\n",
                "np.random.shuffle(train_data)\n",
                "X_train, y_train, X_valid, y_valid = preproc.train_valid_split(\n",
                "    train_df.to_numpy(), test_size=0.33 #, random_state=42\n",
                ")\n",
                "\n",
                "print(train_df.columns)\n",
                "\n",
                "X_train = preproc.normalize_data(X_train)\n",
                "X_valid = preproc.normalize_data(X_valid)"
            ]
        },
        {
            "cell_type": "code",
            "execution_count": 33,
            "metadata": {},
            "outputs": [
                {
                    "name": "stdout",
                    "output_type": "stream",
                    "text": [
                        "Epoch 0, cross entropy loss: 1.0986122886681096\n",
                        "Epoch 100, cross entropy loss: 0.7607495809872818\n",
                        "Epoch 200, cross entropy loss: 0.7310887297818537\n",
                        "Epoch 300, cross entropy loss: 0.7282165811462648\n",
                        "Index(['lat', 'TS', 'Z1000', 'U850', 'PS', 'PSL', 'TMQ', 'Z200', 'lon', 'T500',\n",
                        "       'UBOT', 'Label'],\n",
                        "      dtype='object')\n",
                        "Confusion Matrix:\n",
                        "[[10267   245  1117]\n",
                        " [  345   227     6]\n",
                        " [ 1120    15  1429]] \n",
                        "\n",
                        "Accuracy:\n",
                        "0.8072 \n",
                        "\n",
                        "Precision:\n",
                        "0.6337 \n",
                        "\n",
                        "Recall:\n",
                        "0.611 \n",
                        "\n",
                        "F1 Score:\n",
                        "0.6221\n"
                    ]
                }
            ],
            "source": [
                "model = MultinomialLogisticRegression(learning_rate=0.1, num_iterations=400, regularizer=opt_params[1])\n",
                "model.fit(X_train, y_train, collist=raw_data.columns, valid_x=X_valid, valid_y=y_valid)\n",
                "\n",
                "# Make predictions.\n",
                "predictions = model.predict(X_valid)\n",
                "print(train_df.columns)\n",
                "\n",
                "model.get_metrics(y_valid, predictions, return_values=False)"
            ]
        },
        {
            "cell_type": "markdown",
            "metadata": {},
            "source": [
                "0.767 - submission"
            ]
        },
        {
            "cell_type": "code",
            "execution_count": 19,
            "metadata": {},
            "outputs": [
                {
                    "name": "stdout",
                    "output_type": "stream",
                    "text": [
                        "Index(['lat', 'TS', 'Z1000', 'U850', 'PS', 'PSL', 'TMQ', 'Z200', 'lon', 'T500',\n",
                        "       'Label'],\n",
                        "      dtype='object')\n",
                        "Epoch 0, cross entropy loss: 1.0986122886681096\n",
                        "Epoch 100, cross entropy loss: 0.7604864365664811\n",
                        "Epoch 200, cross entropy loss: 0.7449606033332898\n",
                        "Epoch 300, cross entropy loss: 0.7408726757678747\n",
                        "Epoch 400, cross entropy loss: 0.7398550647397804\n",
                        "Epoch 500, cross entropy loss: 0.7407586767168708\n",
                        "Epoch 600, cross entropy loss: 0.7429022158740011\n",
                        "Epoch 700, cross entropy loss: 0.7458515636114263\n",
                        "Index(['lat', 'TS', 'Z1000', 'U850', 'PS', 'PSL', 'TMQ', 'Z200', 'lon', 'T500',\n",
                        "       'Label'],\n",
                        "      dtype='object')\n",
                        "Confusion Matrix:\n",
                        "[[10247   227  1155]\n",
                        " [  340   228    10]\n",
                        " [ 1100    11  1453]] \n",
                        "\n",
                        "Accuracy:\n",
                        "0.8075 \n",
                        "\n",
                        "Precision:\n",
                        "0.6404 \n",
                        "\n",
                        "Recall:\n",
                        "0.6141 \n",
                        "\n",
                        "F1 Score:\n",
                        "0.627\n"
                    ]
                },
                {
                    "data": {
                        "text/plain": [
                            "[<matplotlib.lines.Line2D at 0x150445280>]"
                        ]
                    },
                    "execution_count": 19,
                    "metadata": {},
                    "output_type": "execute_result"
                },
                {
                    "data": {
                        "image/png": "[encoded data removed]",
                        "text/plain": [
                            "<Figure size 640x480 with 1 Axes>"
                        ]
                    },
                    "metadata": {},
                    "output_type": "display_data"
                }
            ],
            "source": [
                "preproc = Preprocess()\n",
                "raw_data = preproc.load_data(raw_train_data)\n",
                "\n",
                "train_df, train_data = preproc.preprocess_data(raw_data, drop_cols=[\"SNo\", \"time\"])\n",
                "\n",
                "cols = ['lat', 'TS', 'Z1000', 'U850', 'PS', 'PSL', 'TMQ', 'Z200', 'lon', 'T500',\n",
                "        \"Label\"] \n",
                "\n",
                "train_df = train_df[cols]\n",
                "\n",
                "np.random.shuffle(train_data)\n",
                "X_train, y_train, X_valid, y_valid = preproc.train_valid_split(\n",
                "    train_df.to_numpy(), test_size=0.33 #, random_state=42\n",
                ")\n",
                "\n",
                "print(train_df.columns)\n",
                "\n",
                "X_train = preproc.normalize_data(X_train)\n",
                "X_valid = preproc.normalize_data(X_valid)\n",
                "\n",
                "model = MultinomialLogisticRegression(learning_rate=0.1, num_iterations=800, regularizer=opt_params[1])\n",
                "model.fit(X_train, y_train, collist=raw_data.columns, valid_x=X_valid, valid_y=y_valid)\n",
                "\n",
                "# Make predictions.\n",
                "predictions = model.predict(X_valid)\n",
                "print(train_df.columns)\n",
                "\n",
                "model.get_metrics(y_valid, predictions, return_values=False)\n",
                "\n",
                "plt.plot(\n",
                "    model.iters,\n",
                "    model.train_errors\n",
                ")\n",
                "\n",
                "plt.plot(\n",
                "    model.iters,\n",
                "    model.valid_errors,\n",
                "    color='r'\n",
                ")"
            ]
        },
        {
            "cell_type": "code",
            "execution_count": 46,
            "metadata": {},
            "outputs": [
                {
                    "name": "stdout",
                    "output_type": "stream",
                    "text": [
                        "Index(['lat', 'TS', 'Z1000', 'U850', 'PS', 'PSL', 'TMQ', 'Z200', 'Label'], dtype='object')\n",
                        "Epoch 0, cross entropy loss: 1.0986122886681096\n",
                        "Epoch 100, cross entropy loss: 0.7748450919470984\n",
                        "Epoch 200, cross entropy loss: 0.7575519612712298\n",
                        "Epoch 300, cross entropy loss: 0.7541254825834721\n",
                        "Epoch 400, cross entropy loss: 0.754772413455527\n",
                        "Epoch 500, cross entropy loss: 0.756944676099407\n",
                        "Epoch 600, cross entropy loss: 0.7596972822983298\n",
                        "Epoch 700, cross entropy loss: 0.7627046741085174\n",
                        "Index(['lat', 'TS', 'Z1000', 'U850', 'PS', 'PSL', 'TMQ', 'Z200', 'Label'], dtype='object')\n",
                        "Confusion Matrix:\n",
                        "[[9582  211 1836]\n",
                        " [ 322  215   41]\n",
                        " [ 864    5 1695]] \n",
                        "\n",
                        "Accuracy:\n",
                        "0.778 \n",
                        "\n",
                        "Precision:\n",
                        "0.6211 \n",
                        "\n",
                        "Recall:\n",
                        "0.619 \n",
                        "\n",
                        "F1 Score:\n",
                        "0.62\n"
                    ]
                },
                {
                    "data": {
                        "text/plain": [
                            "[<matplotlib.lines.Line2D at 0x286b0c8e0>]"
                        ]
                    },
                    "execution_count": 46,
                    "metadata": {},
                    "output_type": "execute_result"
                },
                {
                    "data": {
                        "image/png": "[encoded data removed]",
                        "text/plain": [
                            "<Figure size 640x480 with 1 Axes>"
                        ]
                    },
                    "metadata": {},
                    "output_type": "display_data"
                }
            ],
            "source": [
                "preproc = Preprocess()\n",
                "raw_data = preproc.load_data(raw_train_data)\n",
                "\n",
                "train_df, train_data = preproc.preprocess_data(raw_data, drop_cols=[\"SNo\", \"time\"])\n",
                "\n",
                "cols = ['lat', 'TS', 'Z1000', 'U850', 'PS', 'PSL', 'TMQ', 'Z200', \"Label\"] \n",
                "\n",
                "train_df = train_df[cols]\n",
                "\n",
                "np.random.shuffle(train_data)\n",
                "X_train, y_train, X_valid, y_valid = preproc.train_valid_split(\n",
                "    train_df.to_numpy(), test_size=0.33 #, random_state=42\n",
                ")\n",
                "\n",
                "print(train_df.columns)\n",
                "\n",
                "X_train = preproc.normalize_data(X_train)\n",
                "X_valid = preproc.normalize_data(X_valid)\n",
                "\n",
                "model = MultinomialLogisticRegression(learning_rate=0.1, num_iterations=800, regularizer=opt_params[1])\n",
                "model.fit(X_train, y_train, collist=raw_data.columns, valid_x=X_valid, valid_y=y_valid)\n",
                "\n",
                "# Make predictions.\n",
                "predictions = model.predict(X_valid)\n",
                "print(train_df.columns)\n",
                "\n",
                "model.get_metrics(y_valid, predictions, return_values=False)\n",
                "\n",
                "plt.plot(\n",
                "    model.iters,\n",
                "    model.train_errors\n",
                ")\n",
                "\n",
                "plt.plot(\n",
                "    model.iters,\n",
                "    model.valid_errors,\n",
                "    color='r'\n",
                ")"
            ]
        },
        {
            "cell_type": "markdown",
            "metadata": {},
            "source": [
                "Ok, parece que tá piorando, vou começar a colocar mais cols"
            ]
        },
        {
            "cell_type": "code",
            "execution_count": 50,
            "metadata": {},
            "outputs": [
                {
                    "name": "stdout",
                    "output_type": "stream",
                    "text": [
                        "Index(['lat', 'TS', 'Z1000', 'U850', 'PS', 'PSL', 'TMQ', 'Z200', 'lon', 'T500',\n",
                        "       'UBOT', 'PRECT', 'Label'],\n",
                        "      dtype='object')\n",
                        "Epoch 0, cross entropy loss: 1.0986122886681096\n",
                        "Epoch 100, cross entropy loss: 0.804455297549811\n",
                        "Epoch 200, cross entropy loss: 0.7680602269014156\n",
                        "Epoch 300, cross entropy loss: 0.758267855910545\n",
                        "Epoch 400, cross entropy loss: 0.7553829890883004\n",
                        "Index(['lat', 'TS', 'Z1000', 'U850', 'PS', 'PSL', 'TMQ', 'Z200', 'lon', 'T500',\n",
                        "       'UBOT', 'PRECT', 'Label'],\n",
                        "      dtype='object')\n",
                        "Confusion Matrix:\n",
                        "[[10124   291  1214]\n",
                        " [  324   249     5]\n",
                        " [ 1053    19  1492]] \n",
                        "\n",
                        "Accuracy:\n",
                        "0.8033 \n",
                        "\n",
                        "Precision:\n",
                        "0.6254 \n",
                        "\n",
                        "Recall:\n",
                        "0.6278 \n",
                        "\n",
                        "F1 Score:\n",
                        "0.6266\n"
                    ]
                },
                {
                    "data": {
                        "text/plain": [
                            "[<matplotlib.lines.Line2D at 0x28694c760>]"
                        ]
                    },
                    "execution_count": 50,
                    "metadata": {},
                    "output_type": "execute_result"
                },
                {
                    "data": {
                        "image/png": "[encoded data removed]",
                        "text/plain": [
                            "<Figure size 640x480 with 1 Axes>"
                        ]
                    },
                    "metadata": {},
                    "output_type": "display_data"
                }
            ],
            "source": [
                "preproc = Preprocess()\n",
                "raw_data = preproc.load_data(raw_train_data)\n",
                "\n",
                "train_df, train_data = preproc.preprocess_data(raw_data, drop_cols=[\"SNo\", \"time\"])\n",
                "\n",
                "cols = ['lat', 'TS', 'Z1000', 'U850', 'PS', 'PSL', 'TMQ', 'Z200', 'lon', 'T500',\n",
                "       'UBOT', 'PRECT', \"Label\"] \n",
                "\n",
                "train_df = train_df[cols]\n",
                "\n",
                "np.random.shuffle(train_data)\n",
                "X_train, y_train, X_valid, y_valid = preproc.train_valid_split(\n",
                "    train_df.to_numpy(), test_size=0.33 #, random_state=42\n",
                ")\n",
                "\n",
                "print(train_df.columns)\n",
                "\n",
                "X_train = preproc.normalize_data(X_train)\n",
                "X_valid = preproc.normalize_data(X_valid)\n",
                "\n",
                "model = MultinomialLogisticRegression(learning_rate=0.1, num_iterations=500, regularizer=opt_params[1])\n",
                "model.fit(X_train, y_train, collist=raw_data.columns, valid_x=X_valid, valid_y=y_valid)\n",
                "\n",
                "# Make predictions.\n",
                "predictions = model.predict(X_valid)\n",
                "print(train_df.columns)\n",
                "\n",
                "model.get_metrics(y_valid, predictions, return_values=False)\n",
                "\n",
                "plt.plot(\n",
                "    model.iters,\n",
                "    model.train_errors\n",
                ")\n",
                "\n",
                "plt.plot(\n",
                "    model.iters,\n",
                "    model.valid_errors,\n",
                "    color='r'\n",
                ")"
            ]
        },
        {
            "cell_type": "code",
            "execution_count": 19,
            "metadata": {},
            "outputs": [
                {
                    "name": "stdout",
                    "output_type": "stream",
                    "text": [
                        "Index(['lat', 'TS', 'Z1000', 'U850', 'PS', 'PSL', 'TMQ', 'Z200', 'lon', 'T500',\n",
                        "       'UBOT', 'PRECT', 'QREFHT', 'Label'],\n",
                        "      dtype='object')\n",
                        "Epoch 0, cross entropy loss: 1.0986122886681096\n",
                        "Epoch 100, cross entropy loss: 0.8040514193711443\n",
                        "Epoch 200, cross entropy loss: 0.7656176411978275\n",
                        "Epoch 300, cross entropy loss: 0.7551086930035138\n",
                        "Epoch 400, cross entropy loss: 0.7521321165868762\n",
                        "Epoch 500, cross entropy loss: 0.7521190023047649\n",
                        "Epoch 600, cross entropy loss: 0.7536814049671082\n",
                        "Epoch 700, cross entropy loss: 0.7562596587277299\n",
                        "Index(['lat', 'TS', 'Z1000', 'U850', 'PS', 'PSL', 'TMQ', 'Z200', 'lon', 'T500',\n",
                        "       'UBOT', 'PRECT', 'QREFHT', 'Label'],\n",
                        "      dtype='object')\n",
                        "Confusion Matrix:\n",
                        "[[10272   248  1109]\n",
                        " [  328   247     3]\n",
                        " [ 1105    18  1441]] \n",
                        "\n",
                        "Accuracy:\n",
                        "0.8097 \n",
                        "\n",
                        "Precision:\n",
                        "0.6412 \n",
                        "\n",
                        "Recall:\n",
                        "0.6242 \n",
                        "\n",
                        "F1 Score:\n",
                        "0.6326\n"
                    ]
                },
                {
                    "data": {
                        "text/plain": [
                            "[<matplotlib.lines.Line2D at 0x17c619100>]"
                        ]
                    },
                    "execution_count": 19,
                    "metadata": {},
                    "output_type": "execute_result"
                },
                {
                    "data": {
                        "image/png": "[encoded data removed]",
                        "text/plain": [
                            "<Figure size 640x480 with 1 Axes>"
                        ]
                    },
                    "metadata": {},
                    "output_type": "display_data"
                }
            ],
            "source": [
                "preproc = Preprocess()\n",
                "raw_data = preproc.load_data(raw_train_data)\n",
                "\n",
                "train_df, train_data = preproc.preprocess_data(raw_data, drop_cols=[\"SNo\", \"time\"])\n",
                "\n",
                "cols = ['lat', 'TS', 'Z1000', 'U850', 'PS', 'PSL', 'TMQ', 'Z200', 'lon', 'T500',\n",
                "       'UBOT', 'PRECT', 'QREFHT', \"Label\"] \n",
                "\n",
                "train_df = train_df[cols]\n",
                "\n",
                "np.random.shuffle(train_data)\n",
                "X_train, y_train, X_valid, y_valid = preproc.train_valid_split(\n",
                "    train_df.to_numpy(), test_size=0.33 #, random_state=42\n",
                ")\n",
                "\n",
                "print(train_df.columns)\n",
                "\n",
                "X_train = preproc.normalize_data(X_train)\n",
                "X_valid = preproc.normalize_data(X_valid)\n",
                "\n",
                "model = MultinomialLogisticRegression(learning_rate=0.1, num_iterations=800, regularizer=0.1)\n",
                "model.fit(X_train, y_train, collist=raw_data.columns, valid_x=X_valid, valid_y=y_valid)\n",
                "\n",
                "# Make predictions.\n",
                "predictions = model.predict(X_valid)\n",
                "print(train_df.columns)\n",
                "\n",
                "model.get_metrics(y_valid, predictions, return_values=False)\n",
                "\n",
                "plt.plot(\n",
                "    model.iters,\n",
                "    model.train_errors\n",
                ")\n",
                "\n",
                "plt.plot(\n",
                "    model.iters,\n",
                "    model.valid_errors,\n",
                "    color='r'\n",
                ")"
            ]
        },
        {
            "cell_type": "code",
            "execution_count": 52,
            "metadata": {},
            "outputs": [
                {
                    "name": "stdout",
                    "output_type": "stream",
                    "text": [
                        "Index(['lat', 'TS', 'Z1000', 'U850', 'PS', 'PSL', 'TMQ', 'Z200', 'lon', 'T500',\n",
                        "       'UBOT', 'PRECT', 'QREFHT', 'VBOT', 'Label'],\n",
                        "      dtype='object')\n",
                        "Epoch 0, cross entropy loss: 1.0986122886681096\n",
                        "Epoch 100, cross entropy loss: 0.8267273415657584\n",
                        "Epoch 200, cross entropy loss: 0.7840647004392649\n",
                        "Epoch 300, cross entropy loss: 0.7744000586901266\n",
                        "Epoch 400, cross entropy loss: 0.7723949364373108\n",
                        "Index(['lat', 'TS', 'Z1000', 'U850', 'PS', 'PSL', 'TMQ', 'Z200', 'lon', 'T500',\n",
                        "       'UBOT', 'PRECT', 'QREFHT', 'VBOT', 'Label'],\n",
                        "      dtype='object')\n",
                        "Confusion Matrix:\n",
                        "[[9967  433 1229]\n",
                        " [ 293  284    1]\n",
                        " [ 990   53 1521]] \n",
                        "\n",
                        "Accuracy:\n",
                        "0.797 \n",
                        "\n",
                        "Precision:\n",
                        "0.6026 \n",
                        "\n",
                        "Recall:\n",
                        "0.6472 \n",
                        "\n",
                        "F1 Score:\n",
                        "0.6241\n"
                    ]
                },
                {
                    "data": {
                        "text/plain": [
                            "[<matplotlib.lines.Line2D at 0x286e078b0>]"
                        ]
                    },
                    "execution_count": 52,
                    "metadata": {},
                    "output_type": "execute_result"
                },
                {
                    "data": {
                        "image/png": "[encoded data removed]",
                        "text/plain": [
                            "<Figure size 640x480 with 1 Axes>"
                        ]
                    },
                    "metadata": {},
                    "output_type": "display_data"
                }
            ],
            "source": [
                "preproc = Preprocess()\n",
                "raw_data = preproc.load_data(raw_train_data)\n",
                "\n",
                "train_df, train_data = preproc.preprocess_data(raw_data, drop_cols=[\"SNo\", \"time\"])\n",
                "\n",
                "cols = ['lat', 'TS', 'Z1000', 'U850', 'PS', 'PSL', 'TMQ', 'Z200', 'lon', 'T500',\n",
                "       'UBOT', 'PRECT', 'QREFHT', 'VBOT', \"Label\"] \n",
                "\n",
                "train_df = train_df[cols]\n",
                "\n",
                "np.random.shuffle(train_data)\n",
                "X_train, y_train, X_valid, y_valid = preproc.train_valid_split(\n",
                "    train_df.to_numpy(), test_size=0.33 #, random_state=42\n",
                ")\n",
                "\n",
                "print(train_df.columns)\n",
                "\n",
                "X_train = preproc.normalize_data(X_train)\n",
                "X_valid = preproc.normalize_data(X_valid)\n",
                "\n",
                "model = MultinomialLogisticRegression(learning_rate=0.1, num_iterations=500, regularizer=opt_params[1])\n",
                "model.fit(X_train, y_train, collist=raw_data.columns, valid_x=X_valid, valid_y=y_valid)\n",
                "\n",
                "# Make predictions.\n",
                "predictions = model.predict(X_valid)\n",
                "print(train_df.columns)\n",
                "\n",
                "model.get_metrics(y_valid, predictions, return_values=False)\n",
                "\n",
                "plt.plot(\n",
                "    model.iters,\n",
                "    model.train_errors\n",
                ")\n",
                "\n",
                "plt.plot(\n",
                "    model.iters,\n",
                "    model.valid_errors,\n",
                "    color='r'\n",
                ")"
            ]
        },
        {
            "cell_type": "markdown",
            "metadata": {},
            "source": [
                "começou a piorar... vou deixar o melhor aqui embaixo:"
            ]
        },
        {
            "cell_type": "code",
            "execution_count": 54,
            "metadata": {},
            "outputs": [
                {
                    "name": "stdout",
                    "output_type": "stream",
                    "text": [
                        "Index(['lat', 'TS', 'Z1000', 'U850', 'PS', 'PSL', 'TMQ', 'Z200', 'lon', 'T500',\n",
                        "       'Label'],\n",
                        "      dtype='object')\n",
                        "Epoch 0, cross entropy loss: 1.0986122886681096\n",
                        "Epoch 100, cross entropy loss: 0.7604864365664811\n",
                        "Epoch 200, cross entropy loss: 0.7449606033332898\n",
                        "Epoch 300, cross entropy loss: 0.7408726757678747\n",
                        "Epoch 400, cross entropy loss: 0.7398550647397804\n",
                        "Index(['lat', 'TS', 'Z1000', 'U850', 'PS', 'PSL', 'TMQ', 'Z200', 'lon', 'T500',\n",
                        "       'Label'],\n",
                        "      dtype='object')\n",
                        "Confusion Matrix:\n",
                        "[[10146   242  1241]\n",
                        " [  341   224    13]\n",
                        " [ 1048    11  1505]] \n",
                        "\n",
                        "Accuracy:\n",
                        "0.8039 \n",
                        "\n",
                        "Precision:\n",
                        "0.6316 \n",
                        "\n",
                        "Recall:\n",
                        "0.6157 \n",
                        "\n",
                        "F1 Score:\n",
                        "0.6235\n"
                    ]
                },
                {
                    "data": {
                        "text/plain": [
                            "[<matplotlib.lines.Line2D at 0x287001f70>]"
                        ]
                    },
                    "execution_count": 54,
                    "metadata": {},
                    "output_type": "execute_result"
                },
                {
                    "data": {
                        "image/png": "[encoded data removed]",
                        "text/plain": [
                            "<Figure size 640x480 with 1 Axes>"
                        ]
                    },
                    "metadata": {},
                    "output_type": "display_data"
                }
            ],
            "source": [
                "preproc = Preprocess()\n",
                "raw_data = preproc.load_data(raw_train_data)\n",
                "\n",
                "train_df, train_data = preproc.preprocess_data(raw_data, drop_cols=[\"SNo\", \"time\"])\n",
                "\n",
                "cols = ['lat', 'TS', 'Z1000', 'U850', 'PS', 'PSL', 'TMQ', 'Z200', 'lon', 'T500',\n",
                "        \"Label\"] \n",
                "\n",
                "train_df = train_df[cols]\n",
                "\n",
                "np.random.shuffle(train_data)\n",
                "X_train, y_train, X_valid, y_valid = preproc.train_valid_split(\n",
                "    train_df.to_numpy(), test_size=0.33 #, random_state=42\n",
                ")\n",
                "\n",
                "print(train_df.columns)\n",
                "\n",
                "X_train = preproc.normalize_data(X_train)\n",
                "X_valid = preproc.normalize_data(X_valid)\n",
                "\n",
                "model = MultinomialLogisticRegression(learning_rate=0.1, num_iterations=500, regularizer=opt_params[1])\n",
                "model.fit(X_train, y_train, collist=raw_data.columns, valid_x=X_valid, valid_y=y_valid)\n",
                "\n",
                "# Make predictions.\n",
                "predictions = model.predict(X_valid)\n",
                "print(train_df.columns)\n",
                "\n",
                "model.get_metrics(y_valid, predictions, return_values=False)\n",
                "\n",
                "plt.plot(\n",
                "    model.iters,\n",
                "    model.train_errors\n",
                ")\n",
                "\n",
                "plt.plot(\n",
                "    model.iters,\n",
                "    model.valid_errors,\n",
                "    color='r'\n",
                ")"
            ]
        },
        {
            "cell_type": "markdown",
            "metadata": {},
            "source": [
                "Tentando algumas combinações não lineares"
            ]
        },
        {
            "cell_type": "code",
            "execution_count": 12,
            "metadata": {},
            "outputs": [
                {
                    "name": "stderr",
                    "output_type": "stream",
                    "text": [
                        "/var/folders/hw/4hw4rbpn1h3fl_fsrpw80hd80000gn/T/ipykernel_95710/4181548979.py:14: SettingWithCopyWarning: \n",
                        "A value is trying to be set on a copy of a slice from a DataFrame.\n",
                        "Try using .loc[row_indexer,col_indexer] = value instead\n",
                        "\n",
                        "See the caveats in the documentation: https://pandas.pydata.org/pandas-docs/stable/user_guide/indexing.html#returning-a-view-versus-a-copy\n",
                        "  train_tmp[f\"{col1}*{col2}\"] = train_df[col2] * train_df[col1]\n",
                        "/var/folders/hw/4hw4rbpn1h3fl_fsrpw80hd80000gn/T/ipykernel_95710/4181548979.py:14: SettingWithCopyWarning: \n",
                        "A value is trying to be set on a copy of a slice from a DataFrame.\n",
                        "Try using .loc[row_indexer,col_indexer] = value instead\n",
                        "\n",
                        "See the caveats in the documentation: https://pandas.pydata.org/pandas-docs/stable/user_guide/indexing.html#returning-a-view-versus-a-copy\n",
                        "  train_tmp[f\"{col1}*{col2}\"] = train_df[col2] * train_df[col1]\n",
                        "/var/folders/hw/4hw4rbpn1h3fl_fsrpw80hd80000gn/T/ipykernel_95710/4181548979.py:14: SettingWithCopyWarning: \n",
                        "A value is trying to be set on a copy of a slice from a DataFrame.\n",
                        "Try using .loc[row_indexer,col_indexer] = value instead\n",
                        "\n",
                        "See the caveats in the documentation: https://pandas.pydata.org/pandas-docs/stable/user_guide/indexing.html#returning-a-view-versus-a-copy\n",
                        "  train_tmp[f\"{col1}*{col2}\"] = train_df[col2] * train_df[col1]\n",
                        "/var/folders/hw/4hw4rbpn1h3fl_fsrpw80hd80000gn/T/ipykernel_95710/4181548979.py:14: SettingWithCopyWarning: \n",
                        "A value is trying to be set on a copy of a slice from a DataFrame.\n",
                        "Try using .loc[row_indexer,col_indexer] = value instead\n",
                        "\n",
                        "See the caveats in the documentation: https://pandas.pydata.org/pandas-docs/stable/user_guide/indexing.html#returning-a-view-versus-a-copy\n",
                        "  train_tmp[f\"{col1}*{col2}\"] = train_df[col2] * train_df[col1]\n",
                        "/var/folders/hw/4hw4rbpn1h3fl_fsrpw80hd80000gn/T/ipykernel_95710/4181548979.py:14: SettingWithCopyWarning: \n",
                        "A value is trying to be set on a copy of a slice from a DataFrame.\n",
                        "Try using .loc[row_indexer,col_indexer] = value instead\n",
                        "\n",
                        "See the caveats in the documentation: https://pandas.pydata.org/pandas-docs/stable/user_guide/indexing.html#returning-a-view-versus-a-copy\n",
                        "  train_tmp[f\"{col1}*{col2}\"] = train_df[col2] * train_df[col1]\n",
                        "/var/folders/hw/4hw4rbpn1h3fl_fsrpw80hd80000gn/T/ipykernel_95710/4181548979.py:14: SettingWithCopyWarning: \n",
                        "A value is trying to be set on a copy of a slice from a DataFrame.\n",
                        "Try using .loc[row_indexer,col_indexer] = value instead\n",
                        "\n",
                        "See the caveats in the documentation: https://pandas.pydata.org/pandas-docs/stable/user_guide/indexing.html#returning-a-view-versus-a-copy\n",
                        "  train_tmp[f\"{col1}*{col2}\"] = train_df[col2] * train_df[col1]\n",
                        "/var/folders/hw/4hw4rbpn1h3fl_fsrpw80hd80000gn/T/ipykernel_95710/4181548979.py:14: SettingWithCopyWarning: \n",
                        "A value is trying to be set on a copy of a slice from a DataFrame.\n",
                        "Try using .loc[row_indexer,col_indexer] = value instead\n",
                        "\n",
                        "See the caveats in the documentation: https://pandas.pydata.org/pandas-docs/stable/user_guide/indexing.html#returning-a-view-versus-a-copy\n",
                        "  train_tmp[f\"{col1}*{col2}\"] = train_df[col2] * train_df[col1]\n",
                        "/var/folders/hw/4hw4rbpn1h3fl_fsrpw80hd80000gn/T/ipykernel_95710/4181548979.py:14: SettingWithCopyWarning: \n",
                        "A value is trying to be set on a copy of a slice from a DataFrame.\n",
                        "Try using .loc[row_indexer,col_indexer] = value instead\n",
                        "\n",
                        "See the caveats in the documentation: https://pandas.pydata.org/pandas-docs/stable/user_guide/indexing.html#returning-a-view-versus-a-copy\n",
                        "  train_tmp[f\"{col1}*{col2}\"] = train_df[col2] * train_df[col1]\n",
                        "/var/folders/hw/4hw4rbpn1h3fl_fsrpw80hd80000gn/T/ipykernel_95710/4181548979.py:14: SettingWithCopyWarning: \n",
                        "A value is trying to be set on a copy of a slice from a DataFrame.\n",
                        "Try using .loc[row_indexer,col_indexer] = value instead\n",
                        "\n",
                        "See the caveats in the documentation: https://pandas.pydata.org/pandas-docs/stable/user_guide/indexing.html#returning-a-view-versus-a-copy\n",
                        "  train_tmp[f\"{col1}*{col2}\"] = train_df[col2] * train_df[col1]\n"
                    ]
                },
                {
                    "name": "stdout",
                    "output_type": "stream",
                    "text": [
                        "Index(['lat', 'lon', 'TMQ', 'U850', 'V850', 'UBOT', 'VBOT', 'QREFHT', 'PS',\n",
                        "       'PSL', 'T200', 'T500', 'PRECT', 'TS', 'TREFHT', 'Z1000', 'Z200', 'ZBOT',\n",
                        "       'month', 'Label'],\n",
                        "      dtype='object')\n",
                        "Epoch 0, cross entropy loss: 1.0986122886681096\n",
                        "Epoch 100, cross entropy loss: 0.8783541169080953\n",
                        "Epoch 200, cross entropy loss: 0.8112513169840527\n",
                        "Epoch 300, cross entropy loss: 0.7860893528866358\n",
                        "Epoch 400, cross entropy loss: 0.7809921557326719\n",
                        "Epoch 500, cross entropy loss: 0.785620097968487\n",
                        "Epoch 600, cross entropy loss: 0.7947613562395061\n",
                        "Epoch 700, cross entropy loss: 0.8057038897471528\n",
                        "Index(['lat', 'lon', 'TMQ', 'U850', 'V850', 'UBOT', 'VBOT', 'QREFHT', 'PS',\n",
                        "       'PSL', 'T200', 'T500', 'PRECT', 'TS', 'TREFHT', 'Z1000', 'Z200', 'ZBOT',\n",
                        "       'month', 'Label'],\n",
                        "      dtype='object')\n",
                        "Confusion Matrix:\n",
                        "[[9656  667 1306]\n",
                        " [ 222  349    7]\n",
                        " [ 957   75 1532]] \n",
                        "\n",
                        "Accuracy:\n",
                        "0.7811 \n",
                        "\n",
                        "Precision:\n",
                        "0.5832 \n",
                        "\n",
                        "Recall:\n",
                        "0.6772 \n",
                        "\n",
                        "F1 Score:\n",
                        "0.6267\n"
                    ]
                },
                {
                    "data": {
                        "text/plain": [
                            "[<matplotlib.lines.Line2D at 0x17c9d4520>]"
                        ]
                    },
                    "execution_count": 12,
                    "metadata": {},
                    "output_type": "execute_result"
                },
                {
                    "data": {
                        "image/png": "[encoded data removed]",
                        "text/plain": [
                            "<Figure size 640x480 with 1 Axes>"
                        ]
                    },
                    "metadata": {},
                    "output_type": "display_data"
                }
            ],
            "source": [
                "preproc = Preprocess()\n",
                "raw_data = preproc.load_data(raw_train_data)\n",
                "\n",
                "train_df, train_data = preproc.preprocess_data(raw_data, drop_cols=[\"SNo\", \"time\"])\n",
                "\n",
                "train_tmp = train_df.drop(\"Label\", axis=1)\n",
                "cols = ['lat', 'TS', 'Z1000', 'U850', 'PS', 'PSL', 'TMQ', 'Z200', 'lon', 'T500'] \n",
                "train_tmp = train_df[cols]\n",
                "\n",
                "cols_imp = ['lat', 'TS', 'Z1000', 'U850']\n",
                "\n",
                "for col1 in cols_imp:\n",
                "    for col2 in cols_imp:\n",
                "        train_tmp[f\"{col1}*{col2}\"] = train_df[col2] * train_df[col1]\n",
                "\n",
                "train_tmp[\"Label\"] = train_df[\"Label\"]\n",
                "\n",
                "np.random.shuffle(train_data)\n",
                "X_train, y_train, X_valid, y_valid = preproc.train_valid_split(\n",
                "    train_tmp.to_numpy(), test_size=0.33 #, random_state=42\n",
                ")\n",
                "\n",
                "print(train_df.columns)\n",
                "\n",
                "X_train = preproc.normalize_data(X_train)\n",
                "X_valid = preproc.normalize_data(X_valid)\n",
                "\n",
                "model = MultinomialLogisticRegression(learning_rate=0.01, num_iterations=800, regularizer=0.1)\n",
                "model.fit(X_train, y_train, collist=raw_data.columns, valid_x=X_valid, valid_y=y_valid)\n",
                "\n",
                "# Make predictions.\n",
                "predictions = model.predict(X_valid)\n",
                "print(train_df.columns)\n",
                "\n",
                "model.get_metrics(y_valid, predictions, return_values=False)\n",
                "\n",
                "plt.plot(\n",
                "    model.iters,\n",
                "    model.train_errors\n",
                ")\n",
                "\n",
                "plt.plot(\n",
                "    model.iters,\n",
                "    model.valid_errors,\n",
                "    color='r'\n",
                ")"
            ]
        },
        {
            "cell_type": "markdown",
            "metadata": {},
            "source": [
                "Não rolou também "
            ]
        },
        {
            "cell_type": "code",
            "execution_count": 14,
            "metadata": {},
            "outputs": [
                {
                    "name": "stdout",
                    "output_type": "stream",
                    "text": [
                        "Index(['lat', 'TS', 'Z1000', 'U850', 'PS', 'PSL', 'TMQ', 'Z200', 'lon', 'T500',\n",
                        "       'Label'],\n",
                        "      dtype='object')\n",
                        "Epoch 0, cross entropy loss: 1.0986122886681096\n",
                        "Epoch 100, cross entropy loss: 0.7604864365664811\n",
                        "Epoch 200, cross entropy loss: 0.7449606033332898\n",
                        "Epoch 300, cross entropy loss: 0.7408726757678747\n",
                        "Epoch 400, cross entropy loss: 0.7398550647397804\n",
                        "Epoch 500, cross entropy loss: 0.7407586767168708\n",
                        "Epoch 600, cross entropy loss: 0.7429022158740011\n",
                        "Epoch 700, cross entropy loss: 0.7458515636114263\n",
                        "Index(['lat', 'TS', 'Z1000', 'U850', 'PS', 'PSL', 'TMQ', 'Z200', 'lon', 'T500',\n",
                        "       'Label'],\n",
                        "      dtype='object')\n",
                        "Confusion Matrix:\n",
                        "[[10247   227  1155]\n",
                        " [  340   228    10]\n",
                        " [ 1100    11  1453]] \n",
                        "\n",
                        "Accuracy:\n",
                        "0.8075 \n",
                        "\n",
                        "Precision:\n",
                        "0.6404 \n",
                        "\n",
                        "Recall:\n",
                        "0.6141 \n",
                        "\n",
                        "F1 Score:\n",
                        "0.627\n"
                    ]
                },
                {
                    "data": {
                        "text/plain": [
                            "[<matplotlib.lines.Line2D at 0x17ca87c70>]"
                        ]
                    },
                    "execution_count": 14,
                    "metadata": {},
                    "output_type": "execute_result"
                },
                {
                    "data": {
                        "image/png": "[encoded data removed]",
                        "text/plain": [
                            "<Figure size 640x480 with 1 Axes>"
                        ]
                    },
                    "metadata": {},
                    "output_type": "display_data"
                }
            ],
            "source": [
                "preproc = Preprocess()\n",
                "raw_data = preproc.load_data(raw_train_data)\n",
                "\n",
                "train_df, train_data = preproc.preprocess_data(raw_data, drop_cols=[\"SNo\", \"time\"])\n",
                "\n",
                "cols = ['lat', 'TS', 'Z1000', 'U850', 'PS', 'PSL', 'TMQ', 'Z200', 'lon', 'T500',\n",
                "        \"Label\"] \n",
                "\n",
                "train_df = train_df[cols]\n",
                "\n",
                "np.random.shuffle(train_data)\n",
                "X_train, y_train, X_valid, y_valid = preproc.train_valid_split(\n",
                "    train_df.to_numpy(), test_size=0.33 #, random_state=42\n",
                ")\n",
                "\n",
                "print(train_df.columns)\n",
                "\n",
                "X_train = preproc.normalize_data(X_train)\n",
                "X_valid = preproc.normalize_data(X_valid)\n",
                "\n",
                "model = MultinomialLogisticRegression(learning_rate=0.1, num_iterations=800, regularizer=0.1)\n",
                "model.fit(X_train, y_train, collist=raw_data.columns, valid_x=X_valid, valid_y=y_valid)\n",
                "\n",
                "# Make predictions.\n",
                "predictions = model.predict(X_valid)\n",
                "print(train_df.columns)\n",
                "\n",
                "model.get_metrics(y_valid, predictions, return_values=False)\n",
                "\n",
                "plt.plot(\n",
                "    model.iters,\n",
                "    model.train_errors\n",
                ")\n",
                "\n",
                "plt.plot(\n",
                "    model.iters,\n",
                "    model.valid_errors,\n",
                "    color='r'\n",
                ")"
            ]
        },
        {
            "cell_type": "markdown",
            "metadata": {},
            "source": [
                "Tirando um ALEATORIO"
            ]
        },
        {
            "cell_type": "code",
            "execution_count": 17,
            "metadata": {},
            "outputs": [
                {
                    "name": "stdout",
                    "output_type": "stream",
                    "text": [
                        "Index(['lat', 'Z1000', 'U850', 'PS', 'PSL', 'TMQ', 'Z200', 'lon', 'T500',\n",
                        "       'Label'],\n",
                        "      dtype='object')\n",
                        "Epoch 0, cross entropy loss: 1.0986122886681096\n",
                        "Epoch 100, cross entropy loss: 0.8276903898731006\n",
                        "Epoch 200, cross entropy loss: 0.8204062311521209\n",
                        "Epoch 300, cross entropy loss: 0.8187493674548106\n",
                        "Epoch 400, cross entropy loss: 0.8177596590785982\n",
                        "Epoch 500, cross entropy loss: 0.8177934914124132\n",
                        "Epoch 600, cross entropy loss: 0.8187099343998343\n",
                        "Epoch 700, cross entropy loss: 0.8202872424694188\n",
                        "Index(['lat', 'Z1000', 'U850', 'PS', 'PSL', 'TMQ', 'Z200', 'lon', 'T500',\n",
                        "       'Label'],\n",
                        "      dtype='object')\n",
                        "Confusion Matrix:\n",
                        "[[8972  294 2363]\n",
                        " [ 335  182   61]\n",
                        " [ 696    8 1860]] \n",
                        "\n",
                        "Accuracy:\n",
                        "0.7457 \n",
                        "\n",
                        "Precision:\n",
                        "0.569 \n",
                        "\n",
                        "Recall:\n",
                        "0.6039 \n",
                        "\n",
                        "F1 Score:\n",
                        "0.586\n"
                    ]
                },
                {
                    "data": {
                        "text/plain": [
                            "[<matplotlib.lines.Line2D at 0x17e753d00>]"
                        ]
                    },
                    "execution_count": 17,
                    "metadata": {},
                    "output_type": "execute_result"
                },
                {
                    "data": {
                        "image/png": "[encoded data removed]",
                        "text/plain": [
                            "<Figure size 640x480 with 1 Axes>"
                        ]
                    },
                    "metadata": {},
                    "output_type": "display_data"
                }
            ],
            "source": [
                "preproc = Preprocess()\n",
                "raw_data = preproc.load_data(raw_train_data)\n",
                "\n",
                "train_df, train_data = preproc.preprocess_data(raw_data, drop_cols=[\"SNo\", \"time\"])\n",
                "\n",
                "cols = ['lat', 'Z1000', 'U850', 'PS', 'PSL', 'TMQ', 'Z200', 'lon', 'T500',\n",
                "        \"Label\"] \n",
                "\n",
                "train_df = train_df[cols]\n",
                "\n",
                "np.random.shuffle(train_data)\n",
                "X_train, y_train, X_valid, y_valid = preproc.train_valid_split(\n",
                "    train_df.to_numpy(), test_size=0.33 #, random_state=42\n",
                ")\n",
                "\n",
                "print(train_df.columns)\n",
                "\n",
                "X_train = preproc.normalize_data(X_train)\n",
                "X_valid = preproc.normalize_data(X_valid)\n",
                "\n",
                "model = MultinomialLogisticRegression(learning_rate=0.1, num_iterations=800, regularizer=0.1)\n",
                "model.fit(X_train, y_train, collist=raw_data.columns, valid_x=X_valid, valid_y=y_valid)\n",
                "\n",
                "# Make predictions.\n",
                "predictions = model.predict(X_valid)\n",
                "print(train_df.columns)\n",
                "\n",
                "model.get_metrics(y_valid, predictions, return_values=False)\n",
                "\n",
                "plt.plot(\n",
                "    model.iters,\n",
                "    model.train_errors\n",
                ")\n",
                "\n",
                "plt.plot(\n",
                "    model.iters,\n",
                "    model.valid_errors,\n",
                "    color='r'\n",
                ")"
            ]
        },
        {
            "cell_type": "markdown",
            "metadata": {},
            "source": [
                "É, ficou ruim"
            ]
        },
        {
            "cell_type": "markdown",
            "metadata": {},
            "source": [
                "---\n",
                "melhor modelo"
            ]
        },
        {
            "cell_type": "code",
            "execution_count": 23,
            "metadata": {},
            "outputs": [
                {
                    "name": "stdout",
                    "output_type": "stream",
                    "text": [
                        "Index(['lat', 'TS', 'Z1000', 'U850', 'PS', 'PSL', 'TMQ', 'Z200', 'lon', 'T500',\n",
                        "       'UBOT', 'PRECT', 'QREFHT', 'Label'],\n",
                        "      dtype='object')\n",
                        "Epoch 0, cross entropy loss: 1.0986122886681093\n",
                        "Epoch 100, cross entropy loss: 0.7901766866898843\n",
                        "Epoch 200, cross entropy loss: 0.7502195656418431\n",
                        "Epoch 300, cross entropy loss: 0.7398312137284624\n",
                        "Epoch 400, cross entropy loss: 0.7374666378561038\n",
                        "Epoch 500, cross entropy loss: 0.7382697217883099\n",
                        "Epoch 600, cross entropy loss: 0.7407087875528959\n",
                        "Index(['lat', 'TS', 'Z1000', 'U850', 'PS', 'PSL', 'TMQ', 'Z200', 'lon', 'T500',\n",
                        "       'UBOT', 'PRECT', 'QREFHT', 'Label'],\n",
                        "      dtype='object')\n",
                        "Confusion Matrix:\n",
                        "[[15701   336  1561]\n",
                        " [  541   347     3]\n",
                        " [ 1736    22  2133]] \n",
                        "\n",
                        "Accuracy:\n",
                        "0.8124 \n",
                        "\n",
                        "Precision:\n",
                        "0.6475 \n",
                        "\n",
                        "Recall:\n",
                        "0.6099 \n",
                        "\n",
                        "F1 Score:\n",
                        "0.6282\n"
                    ]
                },
                {
                    "data": {
                        "text/plain": [
                            "[<matplotlib.lines.Line2D at 0x17ea39340>]"
                        ]
                    },
                    "execution_count": 23,
                    "metadata": {},
                    "output_type": "execute_result"
                },
                {
                    "data": {
                        "image/png": "[encoded data removed]",
                        "text/plain": [
                            "<Figure size 640x480 with 1 Axes>"
                        ]
                    },
                    "metadata": {},
                    "output_type": "display_data"
                }
            ],
            "source": [
                "preproc = Preprocess()\n",
                "raw_data = preproc.load_data(raw_train_data)\n",
                "\n",
                "train_df, train_data = preproc.preprocess_data(raw_data, drop_cols=[\"SNo\", \"time\"])\n",
                "\n",
                "cols = ['lat', 'TS', 'Z1000', 'U850', 'PS', 'PSL', 'TMQ', 'Z200', 'lon', 'T500',\n",
                "       'UBOT', 'PRECT', 'QREFHT', \"Label\"] \n",
                "\n",
                "train_df = train_df[cols]\n",
                "\n",
                "np.random.shuffle(train_data)\n",
                "X_train, y_train, X_valid, y_valid = preproc.train_valid_split(\n",
                "    train_df.to_numpy(), test_size=0.5 #, random_state=42\n",
                ")\n",
                "\n",
                "print(train_df.columns)\n",
                "\n",
                "X_train = preproc.normalize_data(X_train)\n",
                "X_valid = preproc.normalize_data(X_valid)\n",
                "\n",
                "model = MultinomialLogisticRegression(learning_rate=0.1, num_iterations=700, regularizer=0.1)\n",
                "model.fit(X_train, y_train, collist=raw_data.columns, valid_x=X_valid, valid_y=y_valid)\n",
                "\n",
                "# Make predictions.\n",
                "predictions = model.predict(X_valid)\n",
                "print(train_df.columns)\n",
                "\n",
                "model.get_metrics(y_valid, predictions, return_values=False)\n",
                "\n",
                "plt.plot(\n",
                "    model.iters,\n",
                "    model.train_errors\n",
                ")\n",
                "\n",
                "plt.plot(\n",
                "    model.iters,\n",
                "    model.valid_errors,\n",
                "    color='r'\n",
                ")"
            ]
        },
        {
            "cell_type": "markdown",
            "metadata": {},
            "source": [
                "### Training model"
            ]
        },
        {
            "cell_type": "markdown",
            "metadata": {},
            "source": [
                "---"
            ]
        },
        {
            "cell_type": "code",
            "execution_count": 25,
            "metadata": {},
            "outputs": [],
            "source": [
                "preproc = Preprocess()\n",
                "raw_data = preproc.load_data(raw_test_data)\n",
                "\n",
                "test_df, test_data = preproc.preprocess_data(raw_data, drop_cols=[\"SNo\", \"time\"], is_test=True)\n",
                "\n",
                "test_data = test_df[['lat', 'TS', 'Z1000', 'U850', 'PS', 'PSL', 'TMQ', 'Z200', 'lon', 'T500', 'UBOT', 'PRECT', 'QREFHT']].to_numpy()\n",
                "\n",
                "test_data = preproc.normalize_data(test_data)\n",
                "\n",
                "y_pred_test = model.predict(X=test_data)"
            ]
        },
        {
            "cell_type": "code",
            "execution_count": 26,
            "metadata": {},
            "outputs": [],
            "source": [
                "submition = raw_data['SNo'].reset_index().copy()\n",
                "submition['Label'] = pd.Series(y_pred_test)\n",
                "submition.drop(\"index\", axis=1, inplace=True)\n",
                "submition.to_csv(f\"predictions_{datetime.now()}.csv\", index=False)"
            ]
        }
    ],
    "metadata": {
        "kernelspec": {
            "display_name": "dc1-env",
            "language": "python",
            "name": "python3"
        },
        "language_info": {
            "codemirror_mode": {
                "name": "ipython",
                "version": 3
            },
            "file_extension": ".py",
            "mimetype": "text/x-python",
            "name": "python",
            "nbconvert_exporter": "python",
            "pygments_lexer": "ipython3",
            "version": "3.9.18"
        }
    },
    "nbformat": 4,
    "nbformat_minor": 2
}
