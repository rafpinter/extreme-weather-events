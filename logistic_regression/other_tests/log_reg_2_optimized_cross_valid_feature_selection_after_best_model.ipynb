{
 "cells": [
  {
   "cell_type": "code",
   "execution_count": 1,
   "metadata": {},
   "outputs": [],
   "source": [
    "%load_ext autoreload\n",
    "%autoreload 2"
   ]
  },
  {
   "cell_type": "code",
   "execution_count": 2,
   "metadata": {},
   "outputs": [],
   "source": [
    "from multinomial_kernel import MultinomialLogisticRegression\n",
    "from preprocess import Preprocess\n",
    "import numpy as np\n",
    "import pandas as pd\n",
    "from datetime import datetime\n",
    "import matplotlib.pyplot as plt\n",
    "\n",
    "pd.set_option(\"display.max_columns\", None)"
   ]
  },
  {
   "cell_type": "code",
   "execution_count": 3,
   "metadata": {},
   "outputs": [],
   "source": [
    "raw_train_data = \"../../data/train.csv\"\n",
    "raw_test_data = \"../../data/test.csv\""
   ]
  },
  {
   "cell_type": "code",
   "execution_count": 4,
   "metadata": {},
   "outputs": [
    {
     "name": "stdout",
     "output_type": "stream",
     "text": [
      "Index(['lat', 'TS', 'Z1000', 'U850', 'PS', 'PSL', 'TMQ', 'Z200', 'lon', 'T500',\n",
      "       'Label'],\n",
      "      dtype='object')\n"
     ]
    }
   ],
   "source": [
    "preproc = Preprocess()\n",
    "raw_data = preproc.load_data(raw_train_data)\n",
    "\n",
    "cols = ['lat', 'TS', 'Z1000', 'U850', 'PS', 'PSL', 'TMQ', 'Z200', 'lon', 'T500',\n",
    "        \"Label\"] \n",
    "\n",
    "train_df, train_data = preproc.preprocess_data(raw_data, drop_cols=[\"SNo\", \"time\"])\n",
    "train_df = train_df[cols]\n",
    "\n",
    "np.random.shuffle(train_data)\n",
    "X_train, y_train, X_valid, y_valid = preproc.train_valid_split(\n",
    "    train_df.to_numpy(), test_size=0.25, #shuffle=False #, random_state=42\n",
    ")\n",
    "\n",
    "print(train_df.columns)\n",
    "\n",
    "X_train = preproc.normalize_data(X_train)\n",
    "X_valid = preproc.normalize_data(X_valid)\n",
    "X_normalized = preproc.normalize_data(train_data[:,:-1])"
   ]
  },
  {
   "cell_type": "code",
   "execution_count": 5,
   "metadata": {},
   "outputs": [
    {
     "data": {
      "text/plain": [
       "(33570, 10)"
      ]
     },
     "execution_count": 5,
     "metadata": {},
     "output_type": "execute_result"
    }
   ],
   "source": [
    "X_train.shape"
   ]
  },
  {
   "cell_type": "markdown",
   "metadata": {},
   "source": [
    "# Train"
   ]
  },
  {
   "cell_type": "code",
   "execution_count": 6,
   "metadata": {},
   "outputs": [
    {
     "name": "stdout",
     "output_type": "stream",
     "text": [
      "Epoch 0, cross entropy loss: 1.0986122886681096\n",
      "Epoch 100, cross entropy loss: 0.7355654754742053\n",
      "Epoch 200, cross entropy loss: 0.7063938053460103\n",
      "Epoch 300, cross entropy loss: 0.6942502399316988\n",
      "Epoch 400, cross entropy loss: 0.6865818190377301\n",
      "Epoch 500, cross entropy loss: 0.6810817010164208\n",
      "Epoch 600, cross entropy loss: 0.6768147942622325\n",
      "Epoch 700, cross entropy loss: 0.673309711563747\n",
      "Epoch 800, cross entropy loss: 0.6703247237157237\n",
      "Epoch 900, cross entropy loss: 0.6677303950102951\n",
      "Epoch 1000, cross entropy loss: 0.6654504455285082\n",
      "Epoch 1100, cross entropy loss: 0.6634343650781361\n",
      "Epoch 1200, cross entropy loss: 0.6616451895157559\n",
      "Epoch 1300, cross entropy loss: 0.6600539386028864\n",
      "Epoch 1400, cross entropy loss: 0.6586369020159414\n",
      "Epoch 1500, cross entropy loss: 0.6573741696995484\n",
      "Epoch 1600, cross entropy loss: 0.656248742340914\n",
      "Epoch 1700, cross entropy loss: 0.6552459394789576\n",
      "Epoch 1800, cross entropy loss: 0.6543529771403739\n",
      "Epoch 1900, cross entropy loss: 0.6535586513707254\n",
      "Index(['lat', 'TS', 'Z1000', 'U850', 'PS', 'PSL', 'TMQ', 'Z200', 'lon', 'T500',\n",
      "       'Label'],\n",
      "      dtype='object')\n",
      "Confusion Matrix:\n",
      "[[7947  152  720]\n",
      " [ 280  167    3]\n",
      " [ 881    2 1038]] \n",
      "\n",
      "Accuracy:\n",
      "0.8179 \n",
      "\n",
      "Precision:\n",
      "0.6607 \n",
      "\n",
      "Recall:\n",
      "0.6042 \n",
      "\n",
      "F1 Score:\n",
      "0.6312\n"
     ]
    }
   ],
   "source": [
    "model = MultinomialLogisticRegression(learning_rate=0.1, num_iterations=2000, regularizer=0.01)\n",
    "model.fit(X_train, y_train, collist=raw_data.columns, valid_x=X_valid, valid_y=y_valid)\n",
    "\n",
    "# Make predictions.\n",
    "predictions = model.predict(X_valid)\n",
    "print(train_df.columns)\n",
    "\n",
    "model.get_metrics(y_valid, predictions, return_values=False)"
   ]
  },
  {
   "cell_type": "code",
   "execution_count": 7,
   "metadata": {},
   "outputs": [
    {
     "data": {
      "text/plain": [
       "[<matplotlib.lines.Line2D at 0x17319ffd0>]"
      ]
     },
     "execution_count": 7,
     "metadata": {},
     "output_type": "execute_result"
    },
    {
     "data": {
      "image/png": "[encoded data removed]",
      "text/plain": [
       "<Figure size 640x480 with 1 Axes>"
      ]
     },
     "metadata": {},
     "output_type": "display_data"
    }
   ],
   "source": [
    "plt.plot(\n",
    "    model.iters,\n",
    "    model.train_errors\n",
    ")\n",
    "\n",
    "plt.plot(\n",
    "    model.iters,\n",
    "    model.valid_errors,\n",
    "    color='r'\n",
    ")"
   ]
  },
  {
   "cell_type": "markdown",
   "metadata": {},
   "source": [
    "---\n",
    "\n",
    "Trying to add more columns to the best model"
   ]
  },
  {
   "cell_type": "code",
   "execution_count": 9,
   "metadata": {},
   "outputs": [
    {
     "name": "stdout",
     "output_type": "stream",
     "text": [
      "Index(['lat', 'TS', 'Z1000', 'U850', 'PS', 'PSL', 'TMQ', 'Z200', 'lon', 'T500',\n",
      "       'UBOT', 'Label'],\n",
      "      dtype='object')\n"
     ]
    }
   ],
   "source": [
    "preproc = Preprocess()\n",
    "raw_data = preproc.load_data(raw_train_data)\n",
    "\n",
    "cols = ['lat', 'TS', 'Z1000', 'U850', 'PS', 'PSL', 'TMQ', 'Z200', 'lon', 'T500', \"UBOT\",\n",
    "        \"Label\"] \n",
    "\n",
    "train_df, train_data = preproc.preprocess_data(raw_data, drop_cols=[\"SNo\", \"time\"])\n",
    "train_df = train_df[cols]\n",
    "\n",
    "np.random.shuffle(train_data)\n",
    "X_train, y_train, X_valid, y_valid = preproc.train_valid_split(\n",
    "    train_df.to_numpy(), test_size=0.33 #, random_state=42\n",
    ")\n",
    "\n",
    "print(train_df.columns)\n",
    "\n",
    "X_train = preproc.normalize_data(X_train)\n",
    "X_valid = preproc.normalize_data(X_valid)"
   ]
  },
  {
   "cell_type": "code",
   "execution_count": 13,
   "metadata": {},
   "outputs": [
    {
     "name": "stdout",
     "output_type": "stream",
     "text": [
      "Epoch 0, cross entropy loss: 1.0986122886681096\n",
      "Epoch 100, cross entropy loss: 0.7351263558850039\n",
      "Epoch 200, cross entropy loss: 0.6886336795186007\n",
      "Epoch 300, cross entropy loss: 0.6733528922188606\n",
      "Epoch 400, cross entropy loss: 0.6655558201934964\n",
      "Epoch 500, cross entropy loss: 0.6605410418355145\n",
      "Epoch 600, cross entropy loss: 0.656880299413959\n",
      "Epoch 700, cross entropy loss: 0.6540069853220013\n",
      "Epoch 800, cross entropy loss: 0.6516503357928456\n",
      "Epoch 900, cross entropy loss: 0.6496621133077801\n",
      "Index(['lat', 'TS', 'Z1000', 'U850', 'PS', 'PSL', 'TMQ', 'Z200', 'lon', 'T500',\n",
      "       'UBOT', 'Label'],\n",
      "      dtype='object')\n",
      "Confusion Matrix:\n",
      "[[10400   191  1038]\n",
      " [  344   229     5]\n",
      " [ 1164    15  1385]] \n",
      "\n",
      "Accuracy:\n",
      "0.8134 \n",
      "\n",
      "Precision:\n",
      "0.6567 \n",
      "\n",
      "Recall:\n",
      "0.6102 \n",
      "\n",
      "F1 Score:\n",
      "0.6326\n"
     ]
    }
   ],
   "source": [
    "model = MultinomialLogisticRegression(learning_rate=0.1, num_iterations=1000, regularizer=0.01)\n",
    "model.fit(X_train, y_train, collist=raw_data.columns, valid_x=X_valid, valid_y=y_valid)\n",
    "\n",
    "# Make predictions.\n",
    "predictions = model.predict(X_valid)\n",
    "print(train_df.columns)\n",
    "\n",
    "model.get_metrics(y_valid, predictions, return_values=False)"
   ]
  },
  {
   "cell_type": "markdown",
   "metadata": {},
   "source": [
    "--- "
   ]
  },
  {
   "cell_type": "code",
   "execution_count": 7,
   "metadata": {},
   "outputs": [
    {
     "name": "stdout",
     "output_type": "stream",
     "text": [
      "Index(['lat', 'TS', 'Z1000', 'U850', 'PS', 'PSL', 'TMQ', 'Z200', 'lon', 'T500',\n",
      "       'Label'],\n",
      "      dtype='object')\n"
     ]
    }
   ],
   "source": [
    "preproc = Preprocess()\n",
    "raw_data = preproc.load_data(raw_train_data)\n",
    "\n",
    "cols = ['lat', 'TS', 'Z1000', 'U850', 'PS', 'PSL', 'TMQ', 'Z200', 'lon', 'T500',\n",
    "        \"Label\"] \n",
    "\n",
    "train_df, train_data = preproc.preprocess_data(raw_data, drop_cols=[\"SNo\", \"time\"])\n",
    "train_df = train_df[cols]\n",
    "\n",
    "np.random.shuffle(train_data)\n",
    "X_train, y_train, X_valid, y_valid = preproc.train_valid_split(\n",
    "    train_df.to_numpy(), test_size=0.33 #, random_state=42\n",
    ")\n",
    "\n",
    "print(train_df.columns)\n",
    "\n",
    "X_train = preproc.normalize_data(X_train)\n",
    "X_valid = preproc.normalize_data(X_valid)"
   ]
  },
  {
   "cell_type": "code",
   "execution_count": 11,
   "metadata": {},
   "outputs": [
    {
     "name": "stdout",
     "output_type": "stream",
     "text": [
      "Epoch 0, cross entropy loss: 1.0986122886681096\n",
      "Epoch 100, cross entropy loss: 0.7321367608559549\n",
      "Epoch 200, cross entropy loss: 0.7025375952097122\n",
      "Epoch 300, cross entropy loss: 0.6901944412188235\n",
      "Epoch 400, cross entropy loss: 0.6823958055239414\n",
      "Epoch 500, cross entropy loss: 0.6768100367932977\n",
      "Epoch 600, cross entropy loss: 0.6724842026230518\n",
      "Epoch 700, cross entropy loss: 0.6689317377061312\n",
      "Epoch 800, cross entropy loss: 0.6659021679045767\n",
      "Epoch 900, cross entropy loss: 0.663262203066028\n",
      "Index(['lat', 'TS', 'Z1000', 'U850', 'PS', 'PSL', 'TMQ', 'Z200', 'lon', 'T500',\n",
      "       'Label'],\n",
      "      dtype='object')\n",
      "Confusion Matrix:\n",
      "[[10302   217  1110]\n",
      " [  341   230     7]\n",
      " [ 1123     9  1432]] \n",
      "\n",
      "Accuracy:\n",
      "0.81 \n",
      "\n",
      "Precision:\n",
      "0.6472 \n",
      "\n",
      "Recall:\n",
      "0.6141 \n",
      "\n",
      "F1 Score:\n",
      "0.6302\n"
     ]
    }
   ],
   "source": [
    "model = MultinomialLogisticRegression(learning_rate=0.1, num_iterations=1000, regularizer=0.01)\n",
    "model.fit(X_train, y_train, collist=raw_data.columns, valid_x=X_valid, valid_y=y_valid)\n",
    "\n",
    "# Make predictions.\n",
    "predictions = model.predict(X_valid)\n",
    "print(train_df.columns)\n",
    "\n",
    "model.get_metrics(y_valid, predictions, return_values=False)"
   ]
  },
  {
   "cell_type": "code",
   "execution_count": 13,
   "metadata": {},
   "outputs": [
    {
     "name": "stdout",
     "output_type": "stream",
     "text": [
      "Epoch 0, cross entropy loss: 1.0986122886681096\n",
      "Epoch 100, cross entropy loss: 0.7604864365664811\n",
      "Epoch 200, cross entropy loss: 0.7449606033332898\n",
      "Epoch 300, cross entropy loss: 0.7408726757678747\n",
      "Epoch 400, cross entropy loss: 0.7398550647397804\n",
      "Epoch 500, cross entropy loss: 0.7407586767168708\n",
      "Epoch 600, cross entropy loss: 0.7429022158740011\n",
      "Epoch 700, cross entropy loss: 0.7458515636114263\n",
      "Epoch 800, cross entropy loss: 0.7493591294289564\n",
      "Epoch 900, cross entropy loss: 0.7532825662289293\n",
      "Index(['lat', 'TS', 'Z1000', 'U850', 'PS', 'PSL', 'TMQ', 'Z200', 'lon', 'T500',\n",
      "       'Label'],\n",
      "      dtype='object')\n",
      "Confusion Matrix:\n",
      "[[10302   217  1110]\n",
      " [  341   230     7]\n",
      " [ 1123     9  1432]] \n",
      "\n",
      "Accuracy:\n",
      "0.81 \n",
      "\n",
      "Precision:\n",
      "0.6472 \n",
      "\n",
      "Recall:\n",
      "0.6141 \n",
      "\n",
      "F1 Score:\n",
      "0.6302\n"
     ]
    }
   ],
   "source": [
    "model = MultinomialLogisticRegression(learning_rate=0.1, num_iterations=1000, regularizer=0.1)\n",
    "model.fit(X_train, y_train, collist=raw_data.columns, valid_x=X_valid, valid_y=y_valid)\n",
    "\n",
    "# Make predictions.\n",
    "predictions = model.predict(X_valid)\n",
    "print(train_df.columns)\n",
    "\n",
    "model.get_metrics(y_valid, predictions, return_values=False)"
   ]
  },
  {
   "cell_type": "markdown",
   "metadata": {},
   "source": [
    "---"
   ]
  },
  {
   "cell_type": "code",
   "execution_count": 14,
   "metadata": {},
   "outputs": [],
   "source": [
    "preproc = Preprocess()\n",
    "raw_data = preproc.load_data(raw_test_data)\n",
    "\n",
    "test_df, test_data = preproc.preprocess_data(raw_data, drop_cols=[\"SNo\", \"time\"], is_test=True)\n",
    "\n",
    "test_data = test_df[['lat', 'TS', 'Z1000', 'U850', 'PS', 'PSL', 'TMQ', 'Z200', 'lon', 'T500']].to_numpy()\n",
    "\n",
    "test_data = preproc.normalize_data(test_data)"
   ]
  },
  {
   "cell_type": "code",
   "execution_count": 15,
   "metadata": {},
   "outputs": [
    {
     "data": {
      "text/plain": [
       "(10320, 11)"
      ]
     },
     "execution_count": 15,
     "metadata": {},
     "output_type": "execute_result"
    }
   ],
   "source": [
    "test_data.shape"
   ]
  },
  {
   "cell_type": "code",
   "execution_count": 16,
   "metadata": {},
   "outputs": [],
   "source": [
    "y_pred_test = model.predict(X=test_data)"
   ]
  },
  {
   "cell_type": "code",
   "execution_count": 17,
   "metadata": {},
   "outputs": [],
   "source": [
    "submition = raw_data['SNo'].reset_index().copy()\n",
    "submition['Label'] = pd.Series(y_pred_test)\n",
    "submition.drop(\"index\", axis=1, inplace=True)\n",
    "submition.to_csv(f\"predictions_{datetime.now()}_opt_multinomial_more_training_plus_ubot.csv\", index=False)"
   ]
  },
  {
   "cell_type": "code",
   "execution_count": null,
   "metadata": {},
   "outputs": [],
   "source": []
  }
 ],
 "metadata": {
  "kernelspec": {
   "display_name": "dc1-env",
   "language": "python",
   "name": "python3"
  },
  "language_info": {
   "codemirror_mode": {
    "name": "ipython",
    "version": 3
   },
   "file_extension": ".py",
   "mimetype": "text/x-python",
   "name": "python",
   "nbconvert_exporter": "python",
   "pygments_lexer": "ipython3",
   "version": "3.9.18"
  }
 },
 "nbformat": 4,
 "nbformat_minor": 2
}
