{
    "cells": [
        {
            "cell_type": "markdown",
            "metadata": {},
            "source": [
                "# Logistic Regression"
            ]
        },
        {
            "cell_type": "code",
            "execution_count": 2,
            "metadata": {},
            "outputs": [],
            "source": [
                "%load_ext autoreload\n",
                "%autoreload 2"
            ]
        },
        {
            "cell_type": "code",
            "execution_count": 3,
            "metadata": {},
            "outputs": [],
            "source": [
                "from logistic_regression import MultinomialLogisticRegression\n",
                "from preprocess import Preprocess\n",
                "import numpy as np\n",
                "import pandas as pd\n",
                "from datetime import datetime\n",
                "import matplotlib.pyplot as plt"
            ]
        },
        {
            "cell_type": "code",
            "execution_count": 4,
            "metadata": {},
            "outputs": [],
            "source": [
                "# Paths of the raw data\n",
                "# Plase changhe this in order to execute the code on your machine\n",
                "raw_train_data = \"../data/train.csv\"\n",
                "raw_test_data = \"../data/test.csv\""
            ]
        },
        {
            "cell_type": "code",
            "execution_count": 70,
            "metadata": {},
            "outputs": [
                {
                    "name": "stdout",
                    "output_type": "stream",
                    "text": [
                        "Index(['lat', 'lon', 'TMQ', 'U850', 'V850', 'UBOT', 'VBOT', 'QREFHT', 'PS',\n",
                        "       'PSL', 'T200', 'T500', 'PRECT', 'TS', 'TREFHT', 'Z1000', 'Z200', 'ZBOT',\n",
                        "       'month', 'Label'],\n",
                        "      dtype='object')\n"
                    ]
                }
            ],
            "source": [
                "# Preprocessing\n",
                "preproc = Preprocess()\n",
                "raw_data = preproc.load_data(raw_train_data)\n",
                "\n",
                "# Selecting data from each label\n",
                "raw_data_0 = raw_data[raw_data[\"Label\"]== 0]\n",
                "raw_data_1 = raw_data[raw_data[\"Label\"]== 1]\n",
                "raw_data_2 = raw_data[raw_data[\"Label\"]== 2]\n",
                "\n",
                "# Split train and test\n",
                "train_df, train_data = preproc.preprocess_data(raw_data, drop_cols=[\"SNo\", \"time\"])\n",
                "np.random.shuffle(train_data)\n",
                "X_train, y_train, X_valid, y_valid = preproc.train_valid_split(\n",
                "    train_data, test_size=0.33#, random_state=42\n",
                ")\n",
                "\n",
                "# Check columns\n",
                "print(train_df.columns)\n",
                "\n",
                "# Normalize data\n",
                "X_train = preproc.normalize_data(X_train)\n",
                "X_valid = preproc.normalize_data(X_valid)"
            ]
        },
        {
            "cell_type": "code",
            "execution_count": 71,
            "metadata": {},
            "outputs": [
                {
                    "name": "stdout",
                    "output_type": "stream",
                    "text": [
                        "Epoch 0, cross entropy loss: 1.0986122886681096\n",
                        "Epoch 100, cross entropy loss: 0.993644483162475\n",
                        "Epoch 200, cross entropy loss: 0.9573295595468179\n",
                        "Epoch 300, cross entropy loss: 0.9290054333613618\n",
                        "Epoch 400, cross entropy loss: 0.9046738293644808\n",
                        "Epoch 0, cross entropy loss: 1.0986122886681096\n",
                        "Epoch 100, cross entropy loss: 0.8128941512959614\n",
                        "Epoch 200, cross entropy loss: 0.7594128543499958\n",
                        "Epoch 300, cross entropy loss: 0.7377492921865354\n",
                        "Epoch 400, cross entropy loss: 0.7246261212758425\n",
                        "Epoch 0, cross entropy loss: 1.0986122886681096\n",
                        "Epoch 100, cross entropy loss: 0.9939041136820228\n",
                        "Epoch 200, cross entropy loss: 0.9579163742845913\n",
                        "Epoch 300, cross entropy loss: 0.9299144087559139\n",
                        "Epoch 400, cross entropy loss: 0.9058872591352831\n",
                        "Epoch 0, cross entropy loss: 1.0986122886681096\n",
                        "Epoch 100, cross entropy loss: 0.8155826213540521\n",
                        "Epoch 200, cross entropy loss: 0.7637242609954311\n",
                        "Epoch 300, cross entropy loss: 0.7433273375947094\n",
                        "Epoch 400, cross entropy loss: 0.7313705234806887\n",
                        "Epoch 0, cross entropy loss: 1.0986122886681096\n",
                        "Epoch 100, cross entropy loss: 0.9950580271022352\n",
                        "Epoch 200, cross entropy loss: 0.9605244397858063\n",
                        "Epoch 300, cross entropy loss: 0.9339542993983682\n",
                        "Epoch 400, cross entropy loss: 0.9112802803388489\n",
                        "Epoch 0, cross entropy loss: 1.0986122886681096\n",
                        "Epoch 100, cross entropy loss: 0.8275313771677882\n",
                        "Epoch 200, cross entropy loss: 0.7828860683084771\n",
                        "Epoch 300, cross entropy loss: 0.7681186505199268\n",
                        "Epoch 400, cross entropy loss: 0.7613456443911161\n",
                        "Epoch 0, cross entropy loss: 1.0986122886681096\n",
                        "Epoch 100, cross entropy loss: 0.9965004188775007\n",
                        "Epoch 200, cross entropy loss: 0.9637845216623249\n",
                        "Epoch 300, cross entropy loss: 0.939004162701436\n",
                        "Epoch 400, cross entropy loss: 0.9180215568433062\n",
                        "Epoch 0, cross entropy loss: 1.0986122886681096\n",
                        "Epoch 100, cross entropy loss: 0.8424673219349584\n",
                        "Epoch 200, cross entropy loss: 0.8068383274497843\n",
                        "Epoch 300, cross entropy loss: 0.7991077916764484\n",
                        "Epoch 400, cross entropy loss: 0.7988145455291498\n"
                    ]
                }
            ],
            "source": [
                "# Grid search\n",
                "regularizers = np.array([0.001, 0.01, 0.05, 0.1])\n",
                "learning_rates = np.array([0.01, 0.1])\n",
                "\n",
                "# Create all combinations\n",
                "params_combination = np.array(\n",
                "    np.meshgrid(regularizers, learning_rates)\n",
                ").T.reshape(-1, 2)\n",
                "\n",
                "# Lists to store results\n",
                "valid_errors = []\n",
                "valid_errors_idx = []\n",
                "\n",
                "# Grid search\n",
                "for reg, l_rate in params_combination:\n",
                "    # fit model\n",
                "    model = MultinomialLogisticRegression(learning_rate=l_rate, num_iterations=500, regularizer=reg)\n",
                "    model.fit(X_train, y_train, collist=raw_data.columns, valid_x=X_valid, valid_y=y_valid)\n",
                "    \n",
                "    # Save min error index\n",
                "    min_error_idx = np.argmin(model.valid_errors)\n",
                "    valid_errors_idx.append(min_error_idx)\n",
                "    \n",
                "    # Save min error\n",
                "    min_error = np.min(model.valid_errors)\n",
                "    valid_errors.append(min_error)"
            ]
        },
        {
            "cell_type": "markdown",
            "metadata": {},
            "source": [
                "Validation errors and indices"
            ]
        },
        {
            "cell_type": "code",
            "execution_count": 75,
            "metadata": {},
            "outputs": [
                {
                    "data": {
                        "text/plain": [
                            "[0.889627447746625,\n",
                            " 0.723274806487763,\n",
                            " 0.8911010637220999,\n",
                            " 0.7310484515582987,\n",
                            " 0.8976504680575431,\n",
                            " 0.7655979852051232,\n",
                            " 0.9058372234768473,\n",
                            " 0.8050143776937151]"
                        ]
                    },
                    "execution_count": 75,
                    "metadata": {},
                    "output_type": "execute_result"
                }
            ],
            "source": [
                "(valid_errors)"
            ]
        },
        {
            "cell_type": "code",
            "execution_count": 33,
            "metadata": {},
            "outputs": [
                {
                    "data": {
                        "text/plain": [
                            "[49, 5, 49, 5, 42, 4, 33, 3]"
                        ]
                    },
                    "execution_count": 33,
                    "metadata": {},
                    "output_type": "execute_result"
                }
            ],
            "source": [
                "valid_errors_idx"
            ]
        },
        {
            "cell_type": "markdown",
            "metadata": {},
            "source": [
                "Which were the best parameters?"
            ]
        },
        {
            "cell_type": "code",
            "execution_count": 34,
            "metadata": {},
            "outputs": [
                {
                    "data": {
                        "text/plain": [
                            "array([0.001, 0.1  ])"
                        ]
                    },
                    "execution_count": 34,
                    "metadata": {},
                    "output_type": "execute_result"
                }
            ],
            "source": [
                "opt_params = params_combination[np.argmin(valid_errors)]\n",
                "opt_params"
            ]
        },
        {
            "cell_type": "markdown",
            "metadata": {},
            "source": [
                "Which was the best iteration (it's divided by 10)"
            ]
        },
        {
            "cell_type": "code",
            "execution_count": 76,
            "metadata": {},
            "outputs": [
                {
                    "data": {
                        "text/plain": [
                            "49"
                        ]
                    },
                    "execution_count": 76,
                    "metadata": {},
                    "output_type": "execute_result"
                }
            ],
            "source": [
                "ite = valid_errors_idx[np.argmin(valid_errors)]\n",
                "ite"
            ]
        },
        {
            "cell_type": "code",
            "execution_count": 77,
            "metadata": {},
            "outputs": [
                {
                    "name": "stdout",
                    "output_type": "stream",
                    "text": [
                        "Epoch 0, cross entropy loss: 1.0986122886681096\n",
                        "Epoch 100, cross entropy loss: 1.0725466486156243\n",
                        "Epoch 200, cross entropy loss: 1.0546504317767231\n",
                        "Epoch 300, cross entropy loss: 1.0416111896344893\n",
                        "Epoch 400, cross entropy loss: 1.0315783859446133\n",
                        "Epoch 500, cross entropy loss: 1.0234864746815464\n",
                        "Epoch 600, cross entropy loss: 1.0167005667694677\n",
                        "Epoch 700, cross entropy loss: 1.0108287643332818\n",
                        "Epoch 800, cross entropy loss: 1.0056204618415454\n",
                        "Epoch 900, cross entropy loss: 1.0009097622238567\n",
                        "Index(['lat', 'lon', 'TMQ', 'U850', 'V850', 'UBOT', 'VBOT', 'QREFHT', 'PS',\n",
                        "       'PSL', 'T200', 'T500', 'PRECT', 'TS', 'TREFHT', 'Z1000', 'Z200', 'ZBOT',\n",
                        "       'month', 'Label'],\n",
                        "      dtype='object')\n",
                        "Confusion Matrix:\n",
                        "[[6590 2864 2145]\n",
                        " [ 137  473    8]\n",
                        " [ 671  491 1392]] \n",
                        "\n",
                        "Accuracy:\n",
                        "0.5724 \n",
                        "\n",
                        "Precision:\n",
                        "0.469 \n",
                        "\n",
                        "Recall:\n",
                        "0.6262 \n",
                        "\n",
                        "F1 Score:\n",
                        "0.5363\n"
                    ]
                }
            ],
            "source": [
                "# Fit the model\n",
                "model = MultinomialLogisticRegression(learning_rate=0.001, num_iterations=1000, regularizer=opt_params[1])\n",
                "model.fit(X_train, y_train, collist=raw_data.columns, valid_x=X_valid, valid_y=y_valid)\n",
                "\n",
                "# Make predictions.\n",
                "predictions = model.predict(X_valid)\n",
                "print(train_df.columns)\n",
                "\n",
                "model.get_metrics(y_valid, predictions, return_values=False)"
            ]
        },
        {
            "cell_type": "markdown",
            "metadata": {},
            "source": [
                "This is a bad accuracy. I will explain more in the report."
            ]
        }
    ],
    "metadata": {
        "kernelspec": {
            "display_name": "dc1-env",
            "language": "python",
            "name": "python3"
        },
        "language_info": {
            "codemirror_mode": {
                "name": "ipython",
                "version": 3
            },
            "file_extension": ".py",
            "mimetype": "text/x-python",
            "name": "python",
            "nbconvert_exporter": "python",
            "pygments_lexer": "ipython3",
            "version": "3.9.18"
        }
    },
    "nbformat": 4,
    "nbformat_minor": 2
}
