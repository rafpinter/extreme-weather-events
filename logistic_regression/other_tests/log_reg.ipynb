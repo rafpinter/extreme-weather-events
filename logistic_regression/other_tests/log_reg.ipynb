{
    "cells": [
        {
            "cell_type": "markdown",
            "metadata": {},
            "source": [
                "# Logistic Regression\n",
                "\n",
                "Please note that this code is old. These tests were conducted before the optimization and development of the Preprocess class."
            ]
        },
        {
            "cell_type": "code",
            "execution_count": 2,
            "metadata": {},
            "outputs": [],
            "source": [
                "%load_ext autoreload\n",
                "%autoreload 2"
            ]
        },
        {
            "cell_type": "code",
            "execution_count": 3,
            "metadata": {},
            "outputs": [],
            "source": [
                "from logistic_regression import MultinomialLogisticRegression\n",
                "from preprocess import Preprocess\n",
                "import numpy as np\n",
                "import pandas as pd\n",
                "from datetime import datetime\n",
                "import matplotlib.pyplot as plt"
            ]
        },
        {
            "cell_type": "code",
            "execution_count": 4,
            "metadata": {},
            "outputs": [],
            "source": [
                "raw_train_data = \"../data/train.csv\"\n",
                "raw_test_data = \"../data/test.csv\""
            ]
        },
        {
            "cell_type": "code",
            "execution_count": 38,
            "metadata": {},
            "outputs": [
                {
                    "name": "stdout",
                    "output_type": "stream",
                    "text": [
                        "Index(['lat', 'lon', 'TMQ', 'U850', 'V850', 'UBOT', 'VBOT', 'QREFHT', 'PS',\n",
                        "       'PSL', 'T200', 'T500', 'PRECT', 'TS', 'TREFHT', 'Z1000', 'Z200', 'ZBOT',\n",
                        "       'month', 'Label'],\n",
                        "      dtype='object')\n"
                    ]
                }
            ],
            "source": [
                "preproc = Preprocess()\n",
                "raw_data = preproc.load_data(raw_train_data)\n",
                "\n",
                "## OPTIONAL STEP: feature selection\n",
                "# cols = [\n",
                "#     \"lat\",\n",
                "#     \"Z1000\",\n",
                "#     \"Z200\",\n",
                "#     \"TMQ\",\n",
                "#     \"PSL\",\n",
                "#     \"U850\",\n",
                "#     \"VBOT\",\n",
                "#     \"TS\",\n",
                "#     \"QREFHT\",\n",
                "#     \"UBOT\",\n",
                "#     \"time\",\n",
                "# ]\n",
                "# raw_data = raw_data[cols + [\"Label\"]]\n",
                "\n",
                "train_df, train_data = preproc.preprocess_data(raw_data, drop_cols=[\"SNo\", \"time\"])\n",
                "np.random.shuffle(train_data)\n",
                "X_train, y_train, X_valid, y_valid = preproc.train_valid_split(\n",
                "    train_data, test_size=0.33#, random_state=42\n",
                ")\n",
                "\n",
                "print(train_df.columns)\n",
                "\n",
                "X_train = preproc.normalize_data(X_train)\n",
                "X_valid = preproc.normalize_data(X_valid)"
            ]
        },
        {
            "cell_type": "markdown",
            "metadata": {},
            "source": [
                "Training a model without regularizer and high number of iterations"
            ]
        },
        {
            "cell_type": "code",
            "execution_count": 39,
            "metadata": {},
            "outputs": [
                {
                    "name": "stdout",
                    "output_type": "stream",
                    "text": [
                        "Epoch 0, cross entropy loss: 1.0986122886681096\n",
                        "Epoch 100, cross entropy loss: 0.8288327220317376\n",
                        "Epoch 200, cross entropy loss: 0.7810605029190739\n",
                        "Epoch 300, cross entropy loss: 0.7626222646672134\n",
                        "Epoch 400, cross entropy loss: 0.7509607830835595\n",
                        "Epoch 500, cross entropy loss: 0.742043659298631\n",
                        "Epoch 600, cross entropy loss: 0.7348061801842695\n",
                        "Epoch 700, cross entropy loss: 0.7287748861603649\n",
                        "Epoch 800, cross entropy loss: 0.7236528818360525\n",
                        "Epoch 900, cross entropy loss: 0.7192296313835093\n",
                        "Epoch 1000, cross entropy loss: 0.7153507857919972\n",
                        "Epoch 1100, cross entropy loss: 0.7119021665785337\n",
                        "Epoch 1200, cross entropy loss: 0.7087990097478425\n",
                        "Epoch 1300, cross entropy loss: 0.7059782018582907\n",
                        "Epoch 1400, cross entropy loss: 0.7033925812622689\n",
                        "Epoch 1500, cross entropy loss: 0.7010067450857224\n",
                        "Epoch 1600, cross entropy loss: 0.6987939657206557\n",
                        "Epoch 1700, cross entropy loss: 0.696733924417611\n",
                        "Epoch 1800, cross entropy loss: 0.6948110450955993\n",
                        "Epoch 1900, cross entropy loss: 0.6930132681032021\n",
                        "Index(['lat', 'lon', 'TMQ', 'U850', 'V850', 'UBOT', 'VBOT', 'QREFHT', 'PS',\n",
                        "       'PSL', 'T200', 'T500', 'PRECT', 'TS', 'TREFHT', 'Z1000', 'Z200', 'ZBOT',\n",
                        "       'month', 'Label'],\n",
                        "      dtype='object')\n",
                        "Confusion Matrix:\n",
                        "[[10246   402  1073]\n",
                        " [  306   272     0]\n",
                        " [ 1017    54  1401]] \n",
                        "\n",
                        "Accuracy:\n",
                        "0.8069 \n",
                        "\n",
                        "Precision:\n",
                        "0.6085 \n",
                        "\n",
                        "Recall:\n",
                        "0.6372 \n",
                        "\n",
                        "F1 Score:\n",
                        "0.6225\n"
                    ]
                }
            ],
            "source": [
                "# Create and train the model\n",
                "model = MultinomialLogisticRegression(learning_rate=0.1, num_iterations=2000, regularizer=0)\n",
                "model.fit(X_train, y_train, collist=raw_data.columns, valid_x=X_valid, valid_y=y_valid)\n",
                "\n",
                "# Make predictions.\n",
                "predictions = model.predict(X_valid)\n",
                "print(train_df.columns)\n",
                "\n",
                "model.get_metrics(y_valid, predictions, return_values=False)"
            ]
        },
        {
            "cell_type": "code",
            "execution_count": 40,
            "metadata": {},
            "outputs": [
                {
                    "data": {
                        "text/plain": [
                            "[<matplotlib.lines.Line2D at 0x157819be0>]"
                        ]
                    },
                    "execution_count": 40,
                    "metadata": {},
                    "output_type": "execute_result"
                },
                {
                    "data": {
                        "image/png": "[encoded data removed]",
                        "text/plain": [
                            "<Figure size 640x480 with 1 Axes>"
                        ]
                    },
                    "metadata": {},
                    "output_type": "display_data"
                }
            ],
            "source": [
                "plt.plot(\n",
                "    model.iters,\n",
                "    model.train_errors\n",
                ")\n",
                "\n",
                "plt.plot(\n",
                "    model.iters,\n",
                "    model.valid_errors,\n",
                "    color='r'\n",
                ")"
            ]
        },
        {
            "cell_type": "markdown",
            "metadata": {},
            "source": [
                "Training a model without regularizer and low number of iterations"
            ]
        },
        {
            "cell_type": "code",
            "execution_count": 41,
            "metadata": {},
            "outputs": [
                {
                    "name": "stdout",
                    "output_type": "stream",
                    "text": [
                        "Epoch 0, cross entropy loss: 1.0986122886681096\n",
                        "Epoch 100, cross entropy loss: 0.8288327220317376\n",
                        "Index(['lat', 'lon', 'TMQ', 'U850', 'V850', 'UBOT', 'VBOT', 'QREFHT', 'PS',\n",
                        "       'PSL', 'T200', 'T500', 'PRECT', 'TS', 'TREFHT', 'Z1000', 'Z200', 'ZBOT',\n",
                        "       'month', 'Label'],\n",
                        "      dtype='object')\n",
                        "Confusion Matrix:\n",
                        "[[9114  887 1720]\n",
                        " [ 212  361    5]\n",
                        " [ 711   91 1670]] \n",
                        "\n",
                        "Accuracy:\n",
                        "0.7545 \n",
                        "\n",
                        "Precision:\n",
                        "0.5565 \n",
                        "\n",
                        "Recall:\n",
                        "0.6926 \n",
                        "\n",
                        "F1 Score:\n",
                        "0.6171\n"
                    ]
                }
            ],
            "source": [
                "# Create and train the model.\n",
                "model = MultinomialLogisticRegression(learning_rate=0.1, num_iterations=200, regularizer=0)\n",
                "model.fit(X_train, y_train, collist=raw_data.columns, valid_x=X_valid, valid_y=y_valid)\n",
                "\n",
                "# Make predictions.\n",
                "predictions = model.predict(X_valid)\n",
                "print(train_df.columns)\n",
                "\n",
                "model.get_metrics(y_valid, predictions, return_values=False)"
            ]
        },
        {
            "cell_type": "markdown",
            "metadata": {},
            "source": [
                "## Adding regularizer"
            ]
        },
        {
            "cell_type": "code",
            "execution_count": 42,
            "metadata": {},
            "outputs": [
                {
                    "name": "stdout",
                    "output_type": "stream",
                    "text": [
                        "Epoch 0, cross entropy loss: 1.0986122886681096\n",
                        "Epoch 100, cross entropy loss: 0.8591674717485175\n",
                        "Epoch 200, cross entropy loss: 0.829069233524812\n",
                        "Epoch 300, cross entropy loss: 0.8236590938779967\n",
                        "Epoch 400, cross entropy loss: 0.8235379655877284\n",
                        "Epoch 500, cross entropy loss: 0.8255456166922973\n",
                        "Epoch 600, cross entropy loss: 0.8288924549424719\n",
                        "Epoch 700, cross entropy loss: 0.8332243816922598\n",
                        "Epoch 800, cross entropy loss: 0.8383185495499988\n",
                        "Epoch 900, cross entropy loss: 0.8440200572358992\n",
                        "Index(['lat', 'lon', 'TMQ', 'U850', 'V850', 'UBOT', 'VBOT', 'QREFHT', 'PS',\n",
                        "       'PSL', 'T200', 'T500', 'PRECT', 'TS', 'TREFHT', 'Z1000', 'Z200', 'ZBOT',\n",
                        "       'month', 'Label'],\n",
                        "      dtype='object')\n",
                        "Confusion Matrix:\n",
                        "[[9924  551 1246]\n",
                        " [ 277  300    1]\n",
                        " [ 894   66 1512]] \n",
                        "\n",
                        "Accuracy:\n",
                        "0.7945 \n",
                        "\n",
                        "Precision:\n",
                        "0.5899 \n",
                        "\n",
                        "Recall:\n",
                        "0.6591 \n",
                        "\n",
                        "F1 Score:\n",
                        "0.6226\n"
                    ]
                }
            ],
            "source": [
                "# Create and train the model.\n",
                "model = MultinomialLogisticRegression(learning_rate=0.1, num_iterations=1000, regularizer=0.1)\n",
                "model.fit(X_train, y_train, collist=raw_data.columns, valid_x=X_valid, valid_y=y_valid)\n",
                "\n",
                "# Make predictions.\n",
                "predictions = model.predict(X_valid)\n",
                "print(train_df.columns)\n",
                "\n",
                "model.get_metrics(y_valid, predictions, return_values=False)"
            ]
        },
        {
            "cell_type": "code",
            "execution_count": 43,
            "metadata": {},
            "outputs": [
                {
                    "data": {
                        "text/plain": [
                            "[<matplotlib.lines.Line2D at 0x1572633a0>]"
                        ]
                    },
                    "execution_count": 43,
                    "metadata": {},
                    "output_type": "execute_result"
                },
                {
                    "data": {
                        "image/png": "[encoded data removed]",
                        "text/plain": [
                            "<Figure size 640x480 with 1 Axes>"
                        ]
                    },
                    "metadata": {},
                    "output_type": "display_data"
                }
            ],
            "source": [
                "plt.plot(\n",
                "    model.iters,\n",
                "    model.train_errors\n",
                ")\n",
                "\n",
                "plt.plot(\n",
                "    model.iters,\n",
                "    model.valid_errors\n",
                ")"
            ]
        }
    ],
    "metadata": {
        "kernelspec": {
            "display_name": "dc1-env",
            "language": "python",
            "name": "python3"
        },
        "language_info": {
            "codemirror_mode": {
                "name": "ipython",
                "version": 3
            },
            "file_extension": ".py",
            "mimetype": "text/x-python",
            "name": "python",
            "nbconvert_exporter": "python",
            "pygments_lexer": "ipython3",
            "version": "3.9.18"
        }
    },
    "nbformat": 4,
    "nbformat_minor": 2
}
