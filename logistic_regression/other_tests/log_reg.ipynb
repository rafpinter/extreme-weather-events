{
 "cells": [
  {
   "cell_type": "code",
   "execution_count": 9,
   "metadata": {},
   "outputs": [],
   "source": [
    "from multinomial import MultinomialLogisticRegression\n",
    "from preprocess import Preprocess\n",
    "import numpy as np\n",
    "import pandas as pd\n",
    "from datetime import datetime"
   ]
  },
  {
   "cell_type": "code",
   "execution_count": 4,
   "metadata": {},
   "outputs": [],
   "source": [
    "raw_train_data = \"../data/train.csv\"\n",
    "raw_test_data = \"../data/test.csv\""
   ]
  },
  {
   "cell_type": "code",
   "execution_count": 14,
   "metadata": {},
   "outputs": [
    {
     "name": "stdout",
     "output_type": "stream",
     "text": [
      "Index(['lat', 'lon', 'TMQ', 'U850', 'V850', 'UBOT', 'VBOT', 'QREFHT', 'PS',\n",
      "       'PSL', 'T200', 'T500', 'PRECT', 'TS', 'TREFHT', 'Z1000', 'Z200', 'ZBOT',\n",
      "       'month', 'Label'],\n",
      "      dtype='object')\n"
     ]
    }
   ],
   "source": [
    "preproc = Preprocess()\n",
    "raw_data = preproc.load_data(raw_train_data)\n",
    "\n",
    "# cols = [\n",
    "#     \"lat\",\n",
    "#     \"Z1000\",\n",
    "#     \"Z200\",\n",
    "#     \"TMQ\",\n",
    "#     \"PSL\",\n",
    "#     \"U850\",\n",
    "#     \"VBOT\",\n",
    "#     \"TS\",\n",
    "#     \"QREFHT\",\n",
    "#     \"UBOT\",\n",
    "#     \"time\",\n",
    "# ]\n",
    "\n",
    "# raw_data = raw_data[cols + [\"Label\"]]\n",
    "\n",
    "train_df, train_data = preproc.preprocess_data(raw_data, drop_cols=[\"SNo\", \"time\"])\n",
    "np.random.shuffle(train_data)\n",
    "X_train, y_train, X_valid, y_valid = preproc.train_valid_split(\n",
    "    train_data, test_size=0.33, random_state=42\n",
    ")\n",
    "\n",
    "print(train_df.columns)\n",
    "\n",
    "X_train = preproc.normalize_data(X_train)\n",
    "X_valid = preproc.normalize_data(X_valid)"
   ]
  },
  {
   "cell_type": "code",
   "execution_count": 15,
   "metadata": {},
   "outputs": [
    {
     "name": "stdout",
     "output_type": "stream",
     "text": [
      "Epoch 0, cross entropy loss: 1.0986122886681096"
     ]
    },
    {
     "name": "stdout",
     "output_type": "stream",
     "text": [
      "\n",
      "Epoch 100, cross entropy loss: 0.8295995308663886\n",
      "Epoch 200, cross entropy loss: 0.7770580626953214\n",
      "Epoch 300, cross entropy loss: 0.755675514793755\n",
      "Epoch 400, cross entropy loss: 0.7424951326476658\n",
      "Epoch 500, cross entropy loss: 0.7329129311226104\n",
      "Epoch 600, cross entropy loss: 0.7254817087634824\n",
      "Epoch 700, cross entropy loss: 0.7194970993182681\n",
      "Epoch 800, cross entropy loss: 0.7145299752898114\n",
      "Epoch 900, cross entropy loss: 0.7102980429963403\n",
      "Index(['lat', 'lon', 'TMQ', 'U850', 'V850', 'UBOT', 'VBOT', 'QREFHT', 'PS',\n",
      "       'PSL', 'T200', 'T500', 'PRECT', 'TS', 'TREFHT', 'Z1000', 'Z200', 'ZBOT',\n",
      "       'month', 'Label'],\n",
      "      dtype='object')\n",
      "Confusion Matrix:\n",
      "[[9977  491 1099]\n",
      " [ 305  298    1]\n",
      " [1063   59 1478]] \n",
      "\n",
      "Accuracy:\n",
      "0.7957 \n",
      "\n",
      "Precision:\n",
      "0.6014 \n",
      "\n",
      "Recall:\n",
      "0.6415 \n",
      "\n",
      "F1 Score:\n",
      "0.6208\n"
     ]
    }
   ],
   "source": [
    "# Create and train the model.\n",
    "model = MultinomialLogisticRegression(learning_rate=0.1, num_iterations=1000)\n",
    "model.fit(X_train, y_train, collist=raw_data.columns)\n",
    "\n",
    "# Make predictions.\n",
    "predictions = model.predict(X_valid)\n",
    "print(train_df.columns)\n",
    "\n",
    "model.get_metrics(y_valid, predictions, return_values=False)"
   ]
  },
  {
   "cell_type": "code",
   "execution_count": 16,
   "metadata": {},
   "outputs": [
    {
     "name": "stdout",
     "output_type": "stream",
     "text": [
      "Index(['lat', 'lon', 'TMQ', 'U850', 'V850', 'UBOT', 'VBOT', 'QREFHT', 'PS',\n",
      "       'PSL', 'T200', 'T500', 'PRECT', 'TS', 'TREFHT', 'Z1000', 'Z200', 'ZBOT',\n",
      "       'month'],\n",
      "      dtype='object')\n"
     ]
    }
   ],
   "source": [
    "# test\n",
    "preproc = Preprocess()\n",
    "raw_data = preproc.load_data(raw_test_data)\n",
    "# raw_data = raw_data[cols + [\"SNo\"]]\n",
    "\n",
    "test_df, test_data = preproc.preprocess_data(\n",
    "    raw_data, drop_cols=[\"SNo\", \"time\"], is_test=True\n",
    ")\n",
    "\n",
    "print(test_df.columns)\n",
    "\n",
    "test_data = preproc.normalize_data(test_data)\n",
    "y_pred_test = model.predict(test_data)\n",
    "\n",
    "submition = raw_data[\"SNo\"].reset_index().copy()\n",
    "submition[\"Label\"] = pd.Series(y_pred_test)\n",
    "submition.drop(\"index\", axis=1, inplace=True)\n",
    "submition.to_csv(f\"predictions_{datetime.now()}.csv\", index=False)\n"
   ]
  },
  {
   "cell_type": "code",
   "execution_count": 7,
   "metadata": {},
   "outputs": [
    {
     "ename": "AttributeError",
     "evalue": "'MultinomialLogisticRegression' object has no attribute 'train_errors'",
     "output_type": "error",
     "traceback": [
      "\u001b[0;31m---------------------------------------------------------------------------\u001b[0m",
      "\u001b[0;31mAttributeError\u001b[0m                            Traceback (most recent call last)",
      "\u001b[1;32m/Users/rafaelapinter/Library/Mobile Documents/com~apple~CloudDocs/1.UdeM/github-projects/extreme-weather-events-ift6380/notebooks/multinomial_log_reg.ipynb Cell 5\u001b[0m line \u001b[0;36m1\n\u001b[0;32m----> <a href='vscode-notebook-cell:/Users/rafaelapinter/Library/Mobile%20Documents/com~apple~CloudDocs/1.UdeM/github-projects/extreme-weather-events-ift6380/notebooks/multinomial_log_reg.ipynb#W4sZmlsZQ%3D%3D?line=0'>1</a>\u001b[0m model\u001b[39m.\u001b[39;49mtrain_errors\n",
      "\u001b[0;31mAttributeError\u001b[0m: 'MultinomialLogisticRegression' object has no attribute 'train_errors'"
     ]
    }
   ],
   "source": [
    "model.train_errors"
   ]
  }
 ],
 "metadata": {
  "kernelspec": {
   "display_name": "dc1-env",
   "language": "python",
   "name": "python3"
  },
  "language_info": {
   "codemirror_mode": {
    "name": "ipython",
    "version": 3
   },
   "file_extension": ".py",
   "mimetype": "text/x-python",
   "name": "python",
   "nbconvert_exporter": "python",
   "pygments_lexer": "ipython3",
   "version": "3.9.18"
  }
 },
 "nbformat": 4,
 "nbformat_minor": 2
}
