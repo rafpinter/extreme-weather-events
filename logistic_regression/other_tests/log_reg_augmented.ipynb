{
 "cells": [
  {
   "cell_type": "code",
   "execution_count": 28,
   "metadata": {},
   "outputs": [
    {
     "name": "stdout",
     "output_type": "stream",
     "text": [
      "The autoreload extension is already loaded. To reload it, use:\n",
      "  %reload_ext autoreload\n"
     ]
    }
   ],
   "source": [
    "%load_ext autoreload\n",
    "%autoreload 2"
   ]
  },
  {
   "cell_type": "code",
   "execution_count": 29,
   "metadata": {},
   "outputs": [],
   "source": [
    "from multinomial import MultinomialLogisticRegression\n",
    "from preprocess import Preprocess\n",
    "import numpy as np\n",
    "import pandas as pd\n",
    "from datetime import datetime\n",
    "import matplotlib.pyplot as plt"
   ]
  },
  {
   "cell_type": "code",
   "execution_count": 30,
   "metadata": {},
   "outputs": [],
   "source": [
    "raw_train_data = \"../data/train.csv\"\n",
    "raw_test_data = \"../data/test.csv\""
   ]
  },
  {
   "cell_type": "code",
   "execution_count": 26,
   "metadata": {},
   "outputs": [
    {
     "name": "stdout",
     "output_type": "stream",
     "text": [
      "Index(['lat', 'lon', 'TMQ', 'U850', 'V850', 'UBOT', 'VBOT', 'QREFHT', 'PS',\n",
      "       'PSL', 'T200', 'T500', 'PRECT', 'TS', 'TREFHT', 'Z1000', 'Z200', 'ZBOT',\n",
      "       'month', 'Label'],\n",
      "      dtype='object')\n"
     ]
    }
   ],
   "source": [
    "preproc = Preprocess()\n",
    "raw_data = preproc.load_data(raw_train_data)\n",
    "\n",
    "# cols = [\n",
    "#     \"lat\",\n",
    "#     \"Z1000\",\n",
    "#     \"Z200\",\n",
    "#     \"TMQ\",\n",
    "#     \"PSL\",\n",
    "#     \"U850\",\n",
    "#     \"VBOT\",\n",
    "#     \"TS\",\n",
    "#     \"QREFHT\",\n",
    "#     \"UBOT\",\n",
    "#     \"time\",\n",
    "# ]\n",
    "\n",
    "# raw_data = raw_data[cols + [\"Label\"]]\n",
    "\n",
    "train_df, train_data = preproc.preprocess_data(raw_data, drop_cols=[\"SNo\", \"time\"])\n",
    "np.random.shuffle(train_data)\n",
    "X_train, y_train, X_valid, y_valid = preproc.train_valid_split(\n",
    "    train_data, test_size=0.33#, random_state=42\n",
    ")\n",
    "\n",
    "print(train_df.columns)\n",
    "\n",
    "X_train = preproc.normalize_data(X_train)\n",
    "X_valid = preproc.normalize_data(X_valid)"
   ]
  },
  {
   "cell_type": "markdown",
   "metadata": {},
   "source": [
    "# Wrapper method"
   ]
  },
  {
   "cell_type": "code",
   "execution_count": null,
   "metadata": {},
   "outputs": [],
   "source": [
    "# Create and train the model.\n",
    "model = MultinomialLogisticRegression(learning_rate=0.1, num_iterations=2000, regularizer=0.1)\n",
    "model.fit(X_train, y_train, collist=raw_data.columns, valid_x=X_valid, valid_y=y_valid)\n",
    "\n",
    "# Make predictions.\n",
    "predictions = model.predict(X_valid)\n",
    "print(train_df.columns)\n",
    "\n",
    "model.get_metrics(y_valid, predictions, return_values=False)"
   ]
  },
  {
   "cell_type": "code",
   "execution_count": null,
   "metadata": {},
   "outputs": [
    {
     "data": {
      "text/plain": [
       "[<matplotlib.lines.Line2D at 0x157819be0>]"
      ]
     },
     "execution_count": 40,
     "metadata": {},
     "output_type": "execute_result"
    },
    {
     "data": {
      "image/png": "[encoded data removed]",
      "text/plain": [
       "<Figure size 640x480 with 1 Axes>"
      ]
     },
     "metadata": {},
     "output_type": "display_data"
    }
   ],
   "source": [
    "plt.plot(\n",
    "    model.iters,\n",
    "    model.train_errors\n",
    ")\n",
    "\n",
    "plt.plot(\n",
    "    model.iters,\n",
    "    model.valid_errors,\n",
    "    color='r'\n",
    ")"
   ]
  },
  {
   "cell_type": "code",
   "execution_count": null,
   "metadata": {},
   "outputs": [
    {
     "name": "stdout",
     "output_type": "stream",
     "text": [
      "Epoch 0, cross entropy loss: 1.0986122886681096\n",
      "Epoch 100, cross entropy loss: 0.8288327220317376\n",
      "Index(['lat', 'lon', 'TMQ', 'U850', 'V850', 'UBOT', 'VBOT', 'QREFHT', 'PS',\n",
      "       'PSL', 'T200', 'T500', 'PRECT', 'TS', 'TREFHT', 'Z1000', 'Z200', 'ZBOT',\n",
      "       'month', 'Label'],\n",
      "      dtype='object')\n",
      "Confusion Matrix:\n",
      "[[9114  887 1720]\n",
      " [ 212  361    5]\n",
      " [ 711   91 1670]] \n",
      "\n",
      "Accuracy:\n",
      "0.7545 \n",
      "\n",
      "Precision:\n",
      "0.5565 \n",
      "\n",
      "Recall:\n",
      "0.6926 \n",
      "\n",
      "F1 Score:\n",
      "0.6171\n"
     ]
    }
   ],
   "source": [
    "# Create and train the model.\n",
    "model = MultinomialLogisticRegression(learning_rate=0.1, num_iterations=200, regularizer=0)\n",
    "model.fit(X_train, y_train, collist=raw_data.columns, valid_x=X_valid, valid_y=y_valid)\n",
    "\n",
    "# Make predictions.\n",
    "predictions = model.predict(X_valid)\n",
    "print(train_df.columns)\n",
    "\n",
    "model.get_metrics(y_valid, predictions, return_values=False)"
   ]
  },
  {
   "cell_type": "markdown",
   "metadata": {},
   "source": [
    "## Adding reg"
   ]
  },
  {
   "cell_type": "code",
   "execution_count": 42,
   "metadata": {},
   "outputs": [
    {
     "name": "stdout",
     "output_type": "stream",
     "text": [
      "Epoch 0, cross entropy loss: 1.0986122886681096\n",
      "Epoch 100, cross entropy loss: 0.8591674717485175\n",
      "Epoch 200, cross entropy loss: 0.829069233524812\n",
      "Epoch 300, cross entropy loss: 0.8236590938779967\n",
      "Epoch 400, cross entropy loss: 0.8235379655877284\n",
      "Epoch 500, cross entropy loss: 0.8255456166922973\n",
      "Epoch 600, cross entropy loss: 0.8288924549424719\n",
      "Epoch 700, cross entropy loss: 0.8332243816922598\n",
      "Epoch 800, cross entropy loss: 0.8383185495499988\n",
      "Epoch 900, cross entropy loss: 0.8440200572358992\n",
      "Index(['lat', 'lon', 'TMQ', 'U850', 'V850', 'UBOT', 'VBOT', 'QREFHT', 'PS',\n",
      "       'PSL', 'T200', 'T500', 'PRECT', 'TS', 'TREFHT', 'Z1000', 'Z200', 'ZBOT',\n",
      "       'month', 'Label'],\n",
      "      dtype='object')\n",
      "Confusion Matrix:\n",
      "[[9924  551 1246]\n",
      " [ 277  300    1]\n",
      " [ 894   66 1512]] \n",
      "\n",
      "Accuracy:\n",
      "0.7945 \n",
      "\n",
      "Precision:\n",
      "0.5899 \n",
      "\n",
      "Recall:\n",
      "0.6591 \n",
      "\n",
      "F1 Score:\n",
      "0.6226\n"
     ]
    }
   ],
   "source": [
    "# Create and train the model.\n",
    "model = MultinomialLogisticRegression(learning_rate=0.1, num_iterations=1000, regularizer=0.1)\n",
    "model.fit(X_train, y_train, collist=raw_data.columns, valid_x=X_valid, valid_y=y_valid)\n",
    "\n",
    "# Make predictions.\n",
    "predictions = model.predict(X_valid)\n",
    "print(train_df.columns)\n",
    "\n",
    "model.get_metrics(y_valid, predictions, return_values=False)"
   ]
  },
  {
   "cell_type": "code",
   "execution_count": 43,
   "metadata": {},
   "outputs": [
    {
     "data": {
      "text/plain": [
       "[<matplotlib.lines.Line2D at 0x1572633a0>]"
      ]
     },
     "execution_count": 43,
     "metadata": {},
     "output_type": "execute_result"
    },
    {
     "data": {
      "image/png": "[encoded data removed]",
      "text/plain": [
       "<Figure size 640x480 with 1 Axes>"
      ]
     },
     "metadata": {},
     "output_type": "display_data"
    }
   ],
   "source": [
    "plt.plot(\n",
    "    model.iters,\n",
    "    model.train_errors\n",
    ")\n",
    "\n",
    "plt.plot(\n",
    "    model.iters,\n",
    "    model.valid_errors\n",
    ")"
   ]
  },
  {
   "cell_type": "code",
   "execution_count": 52,
   "metadata": {},
   "outputs": [
    {
     "data": {
      "text/plain": [
       "980"
      ]
     },
     "execution_count": 52,
     "metadata": {},
     "output_type": "execute_result"
    }
   ],
   "source": [
    "model.iters[np.argmin(model.valid_errors)]"
   ]
  },
  {
   "cell_type": "code",
   "execution_count": 45,
   "metadata": {},
   "outputs": [
    {
     "name": "stdout",
     "output_type": "stream",
     "text": [
      "Epoch 0, cross entropy loss: 1.0986122886681096\n",
      "Epoch 100, cross entropy loss: 0.8318661970034156\n",
      "Epoch 200, cross entropy loss: 0.7858613759796478\n",
      "Epoch 300, cross entropy loss: 0.7687259475882917\n",
      "Epoch 400, cross entropy loss: 0.7582185013339766\n",
      "Epoch 500, cross entropy loss: 0.7503938550379979\n",
      "Epoch 600, cross entropy loss: 0.7442148076600898\n",
      "Epoch 700, cross entropy loss: 0.7392198357135547\n",
      "Epoch 800, cross entropy loss: 0.7351194486074474\n",
      "Epoch 900, cross entropy loss: 0.7317086739687486\n",
      "Index(['lat', 'lon', 'TMQ', 'U850', 'V850', 'UBOT', 'VBOT', 'QREFHT', 'PS',\n",
      "       'PSL', 'T200', 'T500', 'PRECT', 'TS', 'TREFHT', 'Z1000', 'Z200', 'ZBOT',\n",
      "       'month', 'Label'],\n",
      "      dtype='object')\n",
      "Confusion Matrix:\n",
      "[[9924  551 1246]\n",
      " [ 277  300    1]\n",
      " [ 894   66 1512]] \n",
      "\n",
      "Accuracy:\n",
      "0.7945 \n",
      "\n",
      "Precision:\n",
      "0.5899 \n",
      "\n",
      "Recall:\n",
      "0.6591 \n",
      "\n",
      "F1 Score:\n",
      "0.6226\n"
     ]
    }
   ],
   "source": [
    "# Create and train the model.\n",
    "model = MultinomialLogisticRegression(learning_rate=0.1, num_iterations=1000, regularizer=0.01)\n",
    "model.fit(X_train, y_train, collist=raw_data.columns, valid_x=X_valid, valid_y=y_valid)\n",
    "\n",
    "# Make predictions.\n",
    "predictions = model.predict(X_valid)\n",
    "print(train_df.columns)\n",
    "\n",
    "model.get_metrics(y_valid, predictions, return_values=False)"
   ]
  },
  {
   "cell_type": "code",
   "execution_count": 46,
   "metadata": {},
   "outputs": [
    {
     "data": {
      "text/plain": [
       "0.7303972961328655"
      ]
     },
     "execution_count": 46,
     "metadata": {},
     "output_type": "execute_result"
    }
   ],
   "source": [
    "np.min(model.valid_errors)"
   ]
  },
  {
   "cell_type": "code",
   "execution_count": 47,
   "metadata": {},
   "outputs": [
    {
     "data": {
      "text/plain": [
       "990"
      ]
     },
     "execution_count": 47,
     "metadata": {},
     "output_type": "execute_result"
    }
   ],
   "source": [
    "model.iters[np.argmin(model.valid_errors)]"
   ]
  },
  {
   "cell_type": "code",
   "execution_count": 48,
   "metadata": {},
   "outputs": [
    {
     "name": "stdout",
     "output_type": "stream",
     "text": [
      "Epoch 0, cross entropy loss: 1.0986122886681096\n",
      "Epoch 100, cross entropy loss: 0.8318661970034156\n",
      "Epoch 200, cross entropy loss: 0.7858613759796478\n",
      "Epoch 300, cross entropy loss: 0.7687259475882917\n",
      "Epoch 400, cross entropy loss: 0.7582185013339766\n",
      "Epoch 500, cross entropy loss: 0.7503938550379979\n",
      "Epoch 600, cross entropy loss: 0.7442148076600898\n",
      "Epoch 700, cross entropy loss: 0.7392198357135547\n",
      "Epoch 800, cross entropy loss: 0.7351194486074474\n",
      "Epoch 900, cross entropy loss: 0.7317086739687486\n",
      "Index(['lat', 'lon', 'TMQ', 'U850', 'V850', 'UBOT', 'VBOT', 'QREFHT', 'PS',\n",
      "       'PSL', 'T200', 'T500', 'PRECT', 'TS', 'TREFHT', 'Z1000', 'Z200', 'ZBOT',\n",
      "       'month', 'Label'],\n",
      "      dtype='object')\n",
      "Confusion Matrix:\n",
      "[[9915  556 1250]\n",
      " [ 277  300    1]\n",
      " [ 889   66 1517]] \n",
      "\n",
      "Accuracy:\n",
      "0.7943 \n",
      "\n",
      "Precision:\n",
      "0.5894 \n",
      "\n",
      "Recall:\n",
      "0.6595 \n",
      "\n",
      "F1 Score:\n",
      "0.6225\n"
     ]
    }
   ],
   "source": [
    "# Create and train the model.\n",
    "model = MultinomialLogisticRegression(\n",
    "    learning_rate=0.1, \n",
    "    num_iterations=model.iters[np.argmin(model.valid_errors)], \n",
    "    regularizer=0.01)\n",
    "model.fit(X_train, y_train, collist=raw_data.columns, valid_x=X_valid, valid_y=y_valid)\n",
    "\n",
    "# Make predictions.\n",
    "predictions = model.predict(X_valid)\n",
    "print(train_df.columns)\n",
    "\n",
    "model.get_metrics(y_valid, predictions, return_values=False)"
   ]
  },
  {
   "cell_type": "code",
   "execution_count": 49,
   "metadata": {},
   "outputs": [
    {
     "data": {
      "text/plain": [
       "[<matplotlib.lines.Line2D at 0x15747e130>]"
      ]
     },
     "execution_count": 49,
     "metadata": {},
     "output_type": "execute_result"
    },
    {
     "data": {
      "image/png": "[encoded data removed]",
      "text/plain": [
       "<Figure size 640x480 with 1 Axes>"
      ]
     },
     "metadata": {},
     "output_type": "display_data"
    }
   ],
   "source": [
    "plt.plot(\n",
    "    model.iters,\n",
    "    model.train_errors\n",
    ")\n",
    "\n",
    "plt.plot(\n",
    "    model.iters,\n",
    "    model.valid_errors\n",
    ")"
   ]
  },
  {
   "cell_type": "code",
   "execution_count": 50,
   "metadata": {},
   "outputs": [
    {
     "name": "stdout",
     "output_type": "stream",
     "text": [
      "Index(['lat', 'lon', 'TMQ', 'U850', 'V850', 'UBOT', 'VBOT', 'QREFHT', 'PS',\n",
      "       'PSL', 'T200', 'T500', 'PRECT', 'TS', 'TREFHT', 'Z1000', 'Z200', 'ZBOT',\n",
      "       'month'],\n",
      "      dtype='object')\n"
     ]
    }
   ],
   "source": [
    "# test\n",
    "preproc = Preprocess()\n",
    "raw_data = preproc.load_data(raw_test_data)\n",
    "# raw_data = raw_data[cols + [\"SNo\"]]\n",
    "\n",
    "test_df, test_data = preproc.preprocess_data(\n",
    "    raw_data, drop_cols=[\"SNo\", \"time\"], is_test=True\n",
    ")\n",
    "\n",
    "print(test_df.columns)\n",
    "\n",
    "test_data = preproc.normalize_data(test_data)\n",
    "y_pred_test = model.predict(test_data)\n",
    "\n",
    "submition = raw_data[\"SNo\"].reset_index().copy()\n",
    "submition[\"Label\"] = pd.Series(y_pred_test)\n",
    "submition.drop(\"index\", axis=1, inplace=True)\n",
    "submition.to_csv(f\"predictions_{datetime.now()}.csv\", index=False)\n"
   ]
  },
  {
   "cell_type": "code",
   "execution_count": 51,
   "metadata": {},
   "outputs": [],
   "source": [
    "import numpy as np\n",
    "all_combs = np.array(np.meshgrid([1,2,3], [4, 5])).T.reshape(-1, 2)"
   ]
  },
  {
   "cell_type": "code",
   "execution_count": null,
   "metadata": {},
   "outputs": [],
   "source": []
  }
 ],
 "metadata": {
  "kernelspec": {
   "display_name": "dc1-env",
   "language": "python",
   "name": "python3"
  },
  "language_info": {
   "codemirror_mode": {
    "name": "ipython",
    "version": 3
   },
   "file_extension": ".py",
   "mimetype": "text/x-python",
   "name": "python",
   "nbconvert_exporter": "python",
   "pygments_lexer": "ipython3",
   "version": "3.9.18"
  }
 },
 "nbformat": 4,
 "nbformat_minor": 2
}
