{
    "cells": [
        {
            "cell_type": "markdown",
            "metadata": {},
            "source": [
                "# Logistic Regression"
            ]
        },
        {
            "cell_type": "code",
            "execution_count": 1,
            "metadata": {},
            "outputs": [],
            "source": [
                "%load_ext autoreload\n",
                "%autoreload 2"
            ]
        },
        {
            "cell_type": "code",
            "execution_count": 2,
            "metadata": {},
            "outputs": [],
            "source": [
                "from logistic_regression import MultinomialLogisticRegression\n",
                "from preprocess import Preprocess\n",
                "import numpy as np\n",
                "import pandas as pd\n",
                "from datetime import datetime\n",
                "import matplotlib.pyplot as plt"
            ]
        },
        {
            "cell_type": "markdown",
            "metadata": {},
            "source": [
                "## Loading data"
            ]
        },
        {
            "cell_type": "code",
            "execution_count": 3,
            "metadata": {},
            "outputs": [],
            "source": [
                "raw_train_data = \"../data/train.csv\"\n",
                "raw_test_data = \"../data/test.csv\""
            ]
        },
        {
            "cell_type": "code",
            "execution_count": 4,
            "metadata": {},
            "outputs": [
                {
                    "name": "stdout",
                    "output_type": "stream",
                    "text": [
                        "Index(['lat', 'lon', 'TMQ', 'U850', 'V850', 'UBOT', 'VBOT', 'QREFHT', 'PS',\n",
                        "       'PSL', 'T200', 'T500', 'PRECT', 'TS', 'TREFHT', 'Z1000', 'Z200', 'ZBOT',\n",
                        "       'PS*PSL', 'T200*T500', 'TREFHT*T200', 'TREFHT*T500', 'U850*UBOT',\n",
                        "       'V850*VBOT', 'Z200*Z1000', 'ZBOT*Z1000', 'ZBOT*Z200', 'V850*U850',\n",
                        "       'UBOT*VBOT', 'month', 'Label'],\n",
                        "      dtype='object')\n"
                    ]
                }
            ],
            "source": [
                "preproc = Preprocess()\n",
                "raw_data = preproc.load_data(raw_train_data)\n",
                "\n",
                "train_df, train_data = preproc.preprocess_data(raw_data, drop_cols=[\"SNo\", \"time\"])\n",
                "np.random.shuffle(train_data)\n",
                "X_train, y_train, X_valid, y_valid = preproc.train_valid_split(\n",
                "    train_data, test_size=0.33#, random_state=42\n",
                ")\n",
                "\n",
                "print(train_df.columns)\n",
                "\n",
                "X_train = preproc.normalize_data(X_train)\n",
                "X_valid = preproc.normalize_data(X_valid)"
            ]
        },
        {
            "cell_type": "markdown",
            "metadata": {},
            "source": [
                "## Grid search"
            ]
        },
        {
            "cell_type": "code",
            "execution_count": null,
            "metadata": {},
            "outputs": [],
            "source": [
                "regularizers = np.array([0.001,0.01,0.05,0.1])\n",
                "learning_rates = np.array([0.001,0.01])\n",
                "\n",
                "params_combination = np.array(\n",
                "    np.meshgrid(regularizers, learning_rates)\n",
                ").T.reshape(-1, 2)\n",
                "\n",
                "valid_errors = []\n",
                "valid_errors_idx = []\n",
                "\n",
                "for reg, l_rate in params_combination:\n",
                "    model = MultinomialLogisticRegression(learning_rate=l_rate, num_iterations=1000, regularizer=reg)\n",
                "    model.fit(X_train, y_train, collist=raw_data.columns, valid_x=X_valid, valid_y=y_valid)\n",
                "    \n",
                "    min_error_idx = np.argmin(model.valid_errors)\n",
                "    valid_errors_idx.append(min_error_idx)\n",
                "    \n",
                "    min_error = np.min(model.valid_errors)\n",
                "    valid_errors.append(min_error)"
            ]
        },
        {
            "cell_type": "code",
            "execution_count": 20,
            "metadata": {},
            "outputs": [
                {
                    "data": {
                        "text/plain": [
                            "[0.9967435009861294,\n",
                            " 0.8178738838911292,\n",
                            " 0.9969944606524058,\n",
                            " 0.820457410705028,\n",
                            " 0.9981098369469674,\n",
                            " 0.831939752100134,\n",
                            " 0.9995040573151694,\n",
                            " 0.8462926788440163]"
                        ]
                    },
                    "execution_count": 20,
                    "metadata": {},
                    "output_type": "execute_result"
                }
            ],
            "source": [
                "(valid_errors)"
            ]
        },
        {
            "cell_type": "code",
            "execution_count": 21,
            "metadata": {},
            "outputs": [
                {
                    "data": {
                        "text/plain": [
                            "[99, 99, 99, 99, 99, 99, 99, 99]"
                        ]
                    },
                    "execution_count": 21,
                    "metadata": {},
                    "output_type": "execute_result"
                }
            ],
            "source": [
                "valid_errors_idx"
            ]
        },
        {
            "cell_type": "code",
            "execution_count": 22,
            "metadata": {},
            "outputs": [
                {
                    "data": {
                        "text/plain": [
                            "array([[0.001, 0.001],\n",
                            "       [0.001, 0.01 ],\n",
                            "       [0.01 , 0.001],\n",
                            "       [0.01 , 0.01 ],\n",
                            "       [0.05 , 0.001],\n",
                            "       [0.05 , 0.01 ],\n",
                            "       [0.1  , 0.001],\n",
                            "       [0.1  , 0.01 ]])"
                        ]
                    },
                    "execution_count": 22,
                    "metadata": {},
                    "output_type": "execute_result"
                }
            ],
            "source": [
                "params_combination"
            ]
        },
        {
            "cell_type": "code",
            "execution_count": 53,
            "metadata": {},
            "outputs": [
                {
                    "name": "stdout",
                    "output_type": "stream",
                    "text": [
                        "Epoch 0, cross entropy loss: 1.0986122886681096\n",
                        "Epoch 100, cross entropy loss: 1.056854431633615\n",
                        "Epoch 200, cross entropy loss: 1.0301214529640212\n",
                        "Epoch 300, cross entropy loss: 1.0111319398878729\n",
                        "Epoch 400, cross entropy loss: 0.9966877256690968\n",
                        "Epoch 500, cross entropy loss: 0.9852301732760498\n",
                        "Epoch 600, cross entropy loss: 0.9759110419457141\n",
                        "Epoch 700, cross entropy loss: 0.9682185844558615\n",
                        "Epoch 800, cross entropy loss: 0.9618156831292978\n",
                        "Epoch 900, cross entropy loss: 0.9564642311423223\n",
                        "Index(['lat', 'U850', 'U850*UBOT', 'V850*VBOT', 'UBOT', 'UBOT*VBOT', 'TS',\n",
                        "       'TMQ', 'V850*U850', 'PSL', 'PS*PSL', 'PS', 'TREFHT', 'month', 'PRECT',\n",
                        "       'ZBOT', 'VBOT', 'ZBOT*Z200', 'TREFHT*T500', 'TREFHT*T200', 'Z200',\n",
                        "       'ZBOT*Z1000', 'Z1000', 'Z200*Z1000', 'lon', 'T500', 'QREFHT', 'V850',\n",
                        "       'T200*T500', 'Label'],\n",
                        "      dtype='object')\n",
                        "Confusion Matrix:\n",
                        "[[8012 1879 1738]\n",
                        " [ 132  439    7]\n",
                        " [ 894  450 1220]] \n",
                        "\n",
                        "Accuracy:\n",
                        "0.6547 \n",
                        "\n",
                        "Precision:\n",
                        "0.4855 \n",
                        "\n",
                        "Recall:\n",
                        "0.6414 \n",
                        "\n",
                        "F1 Score:\n",
                        "0.5527\n"
                    ]
                }
            ],
            "source": [
                "model = MultinomialLogisticRegression(learning_rate=0.001, num_iterations=1000, regularizer=0.01)\n",
                "model.fit(X_train, y_train, collist=raw_data.columns, valid_x=X_valid, valid_y=y_valid)\n",
                "\n",
                "# Make predictions.\n",
                "predictions = model.predict(X_valid)\n",
                "print(train_df.columns)\n",
                "\n",
                "model.get_metrics(y_valid, predictions, return_values=False)"
            ]
        },
        {
            "cell_type": "code",
            "execution_count": 7,
            "metadata": {},
            "outputs": [
                {
                    "data": {
                        "text/plain": [
                            "[<matplotlib.lines.Line2D at 0x288b88820>]"
                        ]
                    },
                    "execution_count": 7,
                    "metadata": {},
                    "output_type": "execute_result"
                },
                {
                    "data": {
                        "image/png": "[encoded data removed]",
                        "text/plain": [
                            "<Figure size 640x480 with 1 Axes>"
                        ]
                    },
                    "metadata": {},
                    "output_type": "display_data"
                }
            ],
            "source": [
                "plt.plot(\n",
                "    model.iters,\n",
                "    model.train_errors\n",
                ")\n",
                "\n",
                "plt.plot(\n",
                "    model.iters,\n",
                "    model.valid_errors,\n",
                "    color='r'\n",
                ")"
            ]
        },
        {
            "cell_type": "markdown",
            "metadata": {},
            "source": [
                "Interesting, the error increases a lot."
            ]
        },
        {
            "cell_type": "code",
            "execution_count": 8,
            "metadata": {},
            "outputs": [
                {
                    "name": "stdout",
                    "output_type": "stream",
                    "text": [
                        "Epoch 0, cross entropy loss: 1.0986122886681096\n",
                        "Epoch 100, cross entropy loss: 0.9566936976549321\n",
                        "Epoch 200, cross entropy loss: 0.9401392613200452\n",
                        "Index(['lat', 'lon', 'TMQ', 'U850', 'V850', 'UBOT', 'VBOT', 'QREFHT', 'PS',\n",
                        "       'PSL', 'T200', 'T500', 'PRECT', 'TS', 'TREFHT', 'Z1000', 'Z200', 'ZBOT',\n",
                        "       'PS*PSL', 'T200*T500', 'TREFHT*T200', 'TREFHT*T500', 'U850*UBOT',\n",
                        "       'V850*VBOT', 'Z200*Z1000', 'ZBOT*Z1000', 'ZBOT*Z200', 'V850*U850',\n",
                        "       'UBOT*VBOT', 'month', 'Label'],\n",
                        "      dtype='object')\n",
                        "Confusion Matrix:\n",
                        "[[7877 2202 1504]\n",
                        " [ 127  481    5]\n",
                        " [ 760  562 1253]] \n",
                        "\n",
                        "Accuracy:\n",
                        "0.6507 \n",
                        "\n",
                        "Precision:\n",
                        "0.5002 \n",
                        "\n",
                        "Recall:\n",
                        "0.6504 \n",
                        "\n",
                        "F1 Score:\n",
                        "0.5655\n"
                    ]
                }
            ],
            "source": [
                "model = MultinomialLogisticRegression(learning_rate=0.01, num_iterations=210, regularizer=0.01)\n",
                "model.fit(X_train, y_train, collist=raw_data.columns, valid_x=X_valid, valid_y=y_valid)\n",
                "\n",
                "# Make predictions.\n",
                "predictions = model.predict(X_valid)\n",
                "print(train_df.columns)\n",
                "\n",
                "model.get_metrics(y_valid, predictions, return_values=False)"
            ]
        },
        {
            "cell_type": "code",
            "execution_count": 33,
            "metadata": {},
            "outputs": [
                {
                    "data": {
                        "text/html": [
                            "<div>\n",
                            "<style scoped>\n",
                            "    .dataframe tbody tr th:only-of-type {\n",
                            "        vertical-align: middle;\n",
                            "    }\n",
                            "\n",
                            "    .dataframe tbody tr th {\n",
                            "        vertical-align: top;\n",
                            "    }\n",
                            "\n",
                            "    .dataframe thead th {\n",
                            "        text-align: right;\n",
                            "    }\n",
                            "</style>\n",
                            "<table border=\"1\" class=\"dataframe\">\n",
                            "  <thead>\n",
                            "    <tr style=\"text-align: right;\">\n",
                            "      <th></th>\n",
                            "      <th>0</th>\n",
                            "      <th>1</th>\n",
                            "      <th>2</th>\n",
                            "    </tr>\n",
                            "  </thead>\n",
                            "  <tbody>\n",
                            "    <tr>\n",
                            "      <th>lat</th>\n",
                            "      <td>0.138196</td>\n",
                            "      <td>0.008668</td>\n",
                            "      <td>-0.146864</td>\n",
                            "    </tr>\n",
                            "    <tr>\n",
                            "      <th>lon</th>\n",
                            "      <td>0.014038</td>\n",
                            "      <td>0.017715</td>\n",
                            "      <td>-0.031753</td>\n",
                            "    </tr>\n",
                            "    <tr>\n",
                            "      <th>TMQ</th>\n",
                            "      <td>-0.053261</td>\n",
                            "      <td>0.034667</td>\n",
                            "      <td>0.018594</td>\n",
                            "    </tr>\n",
                            "    <tr>\n",
                            "      <th>U850</th>\n",
                            "      <td>-0.115974</td>\n",
                            "      <td>-0.009377</td>\n",
                            "      <td>0.125351</td>\n",
                            "    </tr>\n",
                            "    <tr>\n",
                            "      <th>V850</th>\n",
                            "      <td>0.005831</td>\n",
                            "      <td>0.023609</td>\n",
                            "      <td>-0.029440</td>\n",
                            "    </tr>\n",
                            "    <tr>\n",
                            "      <th>UBOT</th>\n",
                            "      <td>-0.077447</td>\n",
                            "      <td>0.006663</td>\n",
                            "      <td>0.070783</td>\n",
                            "    </tr>\n",
                            "    <tr>\n",
                            "      <th>VBOT</th>\n",
                            "      <td>-0.029001</td>\n",
                            "      <td>0.018373</td>\n",
                            "      <td>0.010628</td>\n",
                            "    </tr>\n",
                            "    <tr>\n",
                            "      <th>QREFHT</th>\n",
                            "      <td>0.007539</td>\n",
                            "      <td>0.011913</td>\n",
                            "      <td>-0.019452</td>\n",
                            "    </tr>\n",
                            "    <tr>\n",
                            "      <th>PS</th>\n",
                            "      <td>0.036074</td>\n",
                            "      <td>-0.028987</td>\n",
                            "      <td>-0.007086</td>\n",
                            "    </tr>\n",
                            "    <tr>\n",
                            "      <th>PSL</th>\n",
                            "      <td>0.036748</td>\n",
                            "      <td>-0.029245</td>\n",
                            "      <td>-0.007503</td>\n",
                            "    </tr>\n",
                            "    <tr>\n",
                            "      <th>T200</th>\n",
                            "      <td>-0.003854</td>\n",
                            "      <td>0.017049</td>\n",
                            "      <td>-0.013194</td>\n",
                            "    </tr>\n",
                            "    <tr>\n",
                            "      <th>T500</th>\n",
                            "      <td>0.008455</td>\n",
                            "      <td>0.005544</td>\n",
                            "      <td>-0.013999</td>\n",
                            "    </tr>\n",
                            "    <tr>\n",
                            "      <th>PRECT</th>\n",
                            "      <td>-0.031314</td>\n",
                            "      <td>0.020812</td>\n",
                            "      <td>0.010502</td>\n",
                            "    </tr>\n",
                            "    <tr>\n",
                            "      <th>TS</th>\n",
                            "      <td>0.068402</td>\n",
                            "      <td>-0.007323</td>\n",
                            "      <td>-0.061079</td>\n",
                            "    </tr>\n",
                            "    <tr>\n",
                            "      <th>TREFHT</th>\n",
                            "      <td>0.035272</td>\n",
                            "      <td>-0.002336</td>\n",
                            "      <td>-0.032936</td>\n",
                            "    </tr>\n",
                            "    <tr>\n",
                            "      <th>Z1000</th>\n",
                            "      <td>0.020744</td>\n",
                            "      <td>-0.012841</td>\n",
                            "      <td>-0.007903</td>\n",
                            "    </tr>\n",
                            "    <tr>\n",
                            "      <th>Z200</th>\n",
                            "      <td>0.021991</td>\n",
                            "      <td>0.000621</td>\n",
                            "      <td>-0.022612</td>\n",
                            "    </tr>\n",
                            "    <tr>\n",
                            "      <th>ZBOT</th>\n",
                            "      <td>0.029177</td>\n",
                            "      <td>-0.000128</td>\n",
                            "      <td>-0.029048</td>\n",
                            "    </tr>\n",
                            "    <tr>\n",
                            "      <th>PS*PSL</th>\n",
                            "      <td>0.036414</td>\n",
                            "      <td>-0.028604</td>\n",
                            "      <td>-0.007809</td>\n",
                            "    </tr>\n",
                            "    <tr>\n",
                            "      <th>T200*T500</th>\n",
                            "      <td>0.003934</td>\n",
                            "      <td>0.013432</td>\n",
                            "      <td>-0.017366</td>\n",
                            "    </tr>\n",
                            "    <tr>\n",
                            "      <th>TREFHT*T200</th>\n",
                            "      <td>0.022230</td>\n",
                            "      <td>0.007983</td>\n",
                            "      <td>-0.030213</td>\n",
                            "    </tr>\n",
                            "    <tr>\n",
                            "      <th>TREFHT*T500</th>\n",
                            "      <td>0.023901</td>\n",
                            "      <td>0.002039</td>\n",
                            "      <td>-0.025940</td>\n",
                            "    </tr>\n",
                            "    <tr>\n",
                            "      <th>U850*UBOT</th>\n",
                            "      <td>-0.107398</td>\n",
                            "      <td>0.065008</td>\n",
                            "      <td>0.042390</td>\n",
                            "    </tr>\n",
                            "    <tr>\n",
                            "      <th>V850*VBOT</th>\n",
                            "      <td>-0.097027</td>\n",
                            "      <td>0.063150</td>\n",
                            "      <td>0.033877</td>\n",
                            "    </tr>\n",
                            "    <tr>\n",
                            "      <th>Z200*Z1000</th>\n",
                            "      <td>0.020663</td>\n",
                            "      <td>-0.013994</td>\n",
                            "      <td>-0.006669</td>\n",
                            "    </tr>\n",
                            "    <tr>\n",
                            "      <th>ZBOT*Z1000</th>\n",
                            "      <td>0.021561</td>\n",
                            "      <td>-0.014683</td>\n",
                            "      <td>-0.006878</td>\n",
                            "    </tr>\n",
                            "    <tr>\n",
                            "      <th>ZBOT*Z200</th>\n",
                            "      <td>0.028085</td>\n",
                            "      <td>0.000475</td>\n",
                            "      <td>-0.028560</td>\n",
                            "    </tr>\n",
                            "    <tr>\n",
                            "      <th>V850*U850</th>\n",
                            "      <td>0.051538</td>\n",
                            "      <td>-0.019293</td>\n",
                            "      <td>-0.032245</td>\n",
                            "    </tr>\n",
                            "    <tr>\n",
                            "      <th>UBOT*VBOT</th>\n",
                            "      <td>0.069603</td>\n",
                            "      <td>-0.015003</td>\n",
                            "      <td>-0.054601</td>\n",
                            "    </tr>\n",
                            "    <tr>\n",
                            "      <th>month</th>\n",
                            "      <td>-0.031417</td>\n",
                            "      <td>0.014364</td>\n",
                            "      <td>0.017053</td>\n",
                            "    </tr>\n",
                            "  </tbody>\n",
                            "</table>\n",
                            "</div>"
                        ],
                        "text/plain": [
                            "                    0         1         2\n",
                            "lat          0.138196  0.008668 -0.146864\n",
                            "lon          0.014038  0.017715 -0.031753\n",
                            "TMQ         -0.053261  0.034667  0.018594\n",
                            "U850        -0.115974 -0.009377  0.125351\n",
                            "V850         0.005831  0.023609 -0.029440\n",
                            "UBOT        -0.077447  0.006663  0.070783\n",
                            "VBOT        -0.029001  0.018373  0.010628\n",
                            "QREFHT       0.007539  0.011913 -0.019452\n",
                            "PS           0.036074 -0.028987 -0.007086\n",
                            "PSL          0.036748 -0.029245 -0.007503\n",
                            "T200        -0.003854  0.017049 -0.013194\n",
                            "T500         0.008455  0.005544 -0.013999\n",
                            "PRECT       -0.031314  0.020812  0.010502\n",
                            "TS           0.068402 -0.007323 -0.061079\n",
                            "TREFHT       0.035272 -0.002336 -0.032936\n",
                            "Z1000        0.020744 -0.012841 -0.007903\n",
                            "Z200         0.021991  0.000621 -0.022612\n",
                            "ZBOT         0.029177 -0.000128 -0.029048\n",
                            "PS*PSL       0.036414 -0.028604 -0.007809\n",
                            "T200*T500    0.003934  0.013432 -0.017366\n",
                            "TREFHT*T200  0.022230  0.007983 -0.030213\n",
                            "TREFHT*T500  0.023901  0.002039 -0.025940\n",
                            "U850*UBOT   -0.107398  0.065008  0.042390\n",
                            "V850*VBOT   -0.097027  0.063150  0.033877\n",
                            "Z200*Z1000   0.020663 -0.013994 -0.006669\n",
                            "ZBOT*Z1000   0.021561 -0.014683 -0.006878\n",
                            "ZBOT*Z200    0.028085  0.000475 -0.028560\n",
                            "V850*U850    0.051538 -0.019293 -0.032245\n",
                            "UBOT*VBOT    0.069603 -0.015003 -0.054601\n",
                            "month       -0.031417  0.014364  0.017053"
                        ]
                    },
                    "execution_count": 33,
                    "metadata": {},
                    "output_type": "execute_result"
                }
            ],
            "source": [
                "weights = pd.DataFrame(model.weights, index=['lat', 'lon', 'TMQ', 'U850', 'V850', 'UBOT', 'VBOT', 'QREFHT', 'PS',\n",
                "       'PSL', 'T200', 'T500', 'PRECT', 'TS', 'TREFHT', 'Z1000', 'Z200', 'ZBOT',\n",
                "       'PS*PSL', 'T200*T500', 'TREFHT*T200', 'TREFHT*T500', 'U850*UBOT',\n",
                "       'V850*VBOT', 'Z200*Z1000', 'ZBOT*Z1000', 'ZBOT*Z200', 'V850*U850',\n",
                "       'UBOT*VBOT', 'month'], columns=[0,1,2])\n",
                "weights"
            ]
        },
        {
            "cell_type": "code",
            "execution_count": 40,
            "metadata": {},
            "outputs": [
                {
                    "data": {
                        "text/plain": [
                            "Index(['lat', 'U850', 'U850*UBOT', 'V850*VBOT', 'UBOT', 'UBOT*VBOT', 'TS',\n",
                            "       'TMQ', 'V850*U850', 'PSL', 'PS*PSL', 'PS', 'TREFHT', 'month', 'PRECT',\n",
                            "       'ZBOT', 'VBOT', 'ZBOT*Z200', 'TREFHT*T500', 'TREFHT*T200', 'Z200',\n",
                            "       'ZBOT*Z1000', 'Z1000', 'Z200*Z1000', 'lon', 'T500', 'QREFHT', 'V850',\n",
                            "       'T200*T500'],\n",
                            "      dtype='object')"
                        ]
                    },
                    "execution_count": 40,
                    "metadata": {},
                    "output_type": "execute_result"
                }
            ],
            "source": [
                "weights.abs().sort_values(by=[0,1,2], ascending=False).index[:-1]"
            ]
        },
        {
            "cell_type": "code",
            "execution_count": 47,
            "metadata": {},
            "outputs": [
                {
                    "name": "stdout",
                    "output_type": "stream",
                    "text": [
                        "Index(['lat', 'U850', 'U850*UBOT', 'V850*VBOT', 'UBOT', 'UBOT*VBOT', 'TS',\n",
                        "       'TMQ', 'V850*U850', 'PSL', 'PS*PSL', 'PS', 'TREFHT', 'month', 'PRECT',\n",
                        "       'ZBOT', 'VBOT', 'ZBOT*Z200', 'TREFHT*T500', 'TREFHT*T200', 'Z200',\n",
                        "       'ZBOT*Z1000', 'Z1000', 'Z200*Z1000', 'lon', 'T500', 'QREFHT', 'V850',\n",
                        "       'T200*T500', 'Label'],\n",
                        "      dtype='object')\n"
                    ]
                }
            ],
            "source": [
                "preproc = Preprocess()\n",
                "raw_data = preproc.load_data(raw_train_data)\n",
                "\n",
                "train_df, train_data = preproc.preprocess_data(raw_data, drop_cols=[\"SNo\", \"time\"])\n",
                "np.random.shuffle(train_data)\n",
                "\n",
                "collist = list(weights.abs().sort_values(by=[0,1,2], ascending=False).index[:-1]) + [\"Label\"]\n",
                "\n",
                "train_df = train_df[collist]\n",
                "\n",
                "X_train, y_train, X_valid, y_valid = preproc.train_valid_split(\n",
                "    train_df.to_numpy(), test_size=0.33#, random_state=42\n",
                ")\n",
                "\n",
                "print(train_df.columns)\n",
                "\n",
                "X_train = preproc.normalize_data(X_train)\n",
                "X_valid = preproc.normalize_data(X_valid)"
            ]
        },
        {
            "cell_type": "code",
            "execution_count": 50,
            "metadata": {},
            "outputs": [
                {
                    "name": "stdout",
                    "output_type": "stream",
                    "text": [
                        "Epoch 0, cross entropy loss: 1.0986122886681096\n",
                        "Epoch 100, cross entropy loss: 0.951679193334503\n",
                        "Epoch 200, cross entropy loss: 0.934627521076061\n",
                        "Epoch 300, cross entropy loss: 0.9393923072159662\n",
                        "Epoch 400, cross entropy loss: 0.951235406772387\n",
                        "Index(['lat', 'U850', 'U850*UBOT', 'V850*VBOT', 'UBOT', 'UBOT*VBOT', 'TS',\n",
                        "       'TMQ', 'V850*U850', 'PSL', 'PS*PSL', 'PS', 'TREFHT', 'month', 'PRECT',\n",
                        "       'ZBOT', 'VBOT', 'ZBOT*Z200', 'TREFHT*T500', 'TREFHT*T200', 'Z200',\n",
                        "       'ZBOT*Z1000', 'Z1000', 'Z200*Z1000', 'lon', 'T500', 'QREFHT', 'V850',\n",
                        "       'T200*T500', 'Label'],\n",
                        "      dtype='object')\n",
                        "Confusion Matrix:\n",
                        "[[6781 3252 1596]\n",
                        " [  75  496    7]\n",
                        " [ 512  625 1427]] \n",
                        "\n",
                        "Accuracy:\n",
                        "0.5893 \n",
                        "\n",
                        "Precision:\n",
                        "0.5016 \n",
                        "\n",
                        "Recall:\n",
                        "0.6659 \n",
                        "\n",
                        "F1 Score:\n",
                        "0.5722\n"
                    ]
                }
            ],
            "source": [
                "\n",
                "\n",
                "\n",
                "    model = MultinomialLogisticRegression(learning_rate=0.01, num_iterations=500, regularizer=0.01)\n",
                "    model.fit(X_train, y_train, collist=raw_data.columns, valid_x=X_valid, valid_y=y_valid)\n",
                "\n",
                "    # Make predictions.\n",
                "    predictions = model.predict(X_valid)\n",
                "    print(train_df.columns)\n",
                "\n",
                "    model.get_metrics(y_valid, predictions, return_values=False)"
            ]
        },
        {
            "cell_type": "code",
            "execution_count": 52,
            "metadata": {},
            "outputs": [
                {
                    "data": {
                        "text/plain": [
                            "[<matplotlib.lines.Line2D at 0x28715b0a0>]"
                        ]
                    },
                    "execution_count": 52,
                    "metadata": {},
                    "output_type": "execute_result"
                },
                {
                    "data": {
                        "image/png": "[encoded data removed]",
                        "text/plain": [
                            "<Figure size 640x480 with 1 Axes>"
                        ]
                    },
                    "metadata": {},
                    "output_type": "display_data"
                }
            ],
            "source": [
                "plt.plot(\n",
                "    model.iters,\n",
                "    model.train_errors\n",
                ")\n",
                "\n",
                "plt.plot(\n",
                "    model.iters,\n",
                "    model.valid_errors,\n",
                "    color='r'\n",
                ")"
            ]
        }
    ],
    "metadata": {
        "kernelspec": {
            "display_name": "dc1-env",
            "language": "python",
            "name": "python3"
        },
        "language_info": {
            "codemirror_mode": {
                "name": "ipython",
                "version": 3
            },
            "file_extension": ".py",
            "mimetype": "text/x-python",
            "name": "python",
            "nbconvert_exporter": "python",
            "pygments_lexer": "ipython3",
            "version": "3.9.18"
        }
    },
    "nbformat": 4,
    "nbformat_minor": 2
}
