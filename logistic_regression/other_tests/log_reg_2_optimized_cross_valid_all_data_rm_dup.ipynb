{
 "cells": [
  {
   "cell_type": "code",
   "execution_count": null,
   "metadata": {},
   "outputs": [],
   "source": [
    "%load_ext autoreload\n",
    "%autoreload 2"
   ]
  },
  {
   "cell_type": "code",
   "execution_count": 1,
   "metadata": {},
   "outputs": [],
   "source": [
    "from multinomial_kernel import MultinomialLogisticRegression\n",
    "from preprocess import Preprocess\n",
    "import numpy as np\n",
    "import pandas as pd\n",
    "from datetime import datetime\n",
    "import matplotlib.pyplot as plt"
   ]
  },
  {
   "cell_type": "code",
   "execution_count": 2,
   "metadata": {},
   "outputs": [],
   "source": [
    "raw_train_data = \"../../data/train.csv\"\n",
    "raw_test_data = \"../../data/test.csv\""
   ]
  },
  {
   "cell_type": "code",
   "execution_count": 3,
   "metadata": {},
   "outputs": [],
   "source": [
    "preproc = Preprocess()\n",
    "raw_data = preproc.load_data(raw_train_data)\n",
    "\n",
    "raw_data[raw_data.columns[~raw_data.columns.isin([\"time\", \"SNo\"])]].columns\n",
    "raw_data_count = raw_data.groupby(['lat', 'lon', 'TMQ', 'U850', 'V850', 'UBOT', 'VBOT', 'QREFHT', 'PS',\n",
    "       'PSL', 'T200', 'T500', 'PRECT', 'TS', 'TREFHT', 'Z1000', 'Z200', 'ZBOT']).Label.nunique().reset_index(name=\"Label_count\")\n",
    "raw_data_count = pd.merge(raw_data, raw_data_count, how='left', on=['lat', 'lon', 'TMQ', 'U850', 'V850', 'UBOT', 'VBOT', 'QREFHT', 'PS',\n",
    "       'PSL', 'T200', 'T500', 'PRECT', 'TS', 'TREFHT', 'Z1000', 'Z200', 'ZBOT'])"
   ]
  },
  {
   "cell_type": "code",
   "execution_count": 6,
   "metadata": {},
   "outputs": [],
   "source": [
    "raw_data_count = raw_data_count[~(\n",
    "    (raw_data_count[\"Label\"].isin([1])) & (raw_data_count[\"Label_count\"] == 3)\n",
    "    )]"
   ]
  },
  {
   "cell_type": "code",
   "execution_count": 7,
   "metadata": {},
   "outputs": [],
   "source": [
    "raw_data_count = raw_data_count.drop(\"SNo\", axis=1).drop_duplicates(keep=\"first\")"
   ]
  },
  {
   "cell_type": "code",
   "execution_count": 8,
   "metadata": {},
   "outputs": [
    {
     "name": "stdout",
     "output_type": "stream",
     "text": [
      "Index(['lat', 'TS', 'TMQ', 'U850', 'PS', 'Z1000', 'PSL', 'Z200', 'lon', 'UBOT',\n",
      "       'T500', 'Label'],\n",
      "      dtype='object')\n"
     ]
    }
   ],
   "source": [
    "cols = ['lat', 'TS', 'TMQ', 'U850', 'PS', 'Z1000', 'PSL', 'Z200', 'lon', 'UBOT', 'T500',\n",
    "        \"Label\"]\n",
    "\n",
    "train_df, train_data = preproc.preprocess_data(raw_data, drop_cols=[\"SNo\", \"time\"])\n",
    "train_df = train_df[cols]\n",
    "\n",
    "np.random.shuffle(train_data)\n",
    "X_train, y_train, X_valid, y_valid = preproc.train_valid_split(\n",
    "    train_df.to_numpy(), test_size=0.33 #, random_state=42\n",
    ")\n",
    "\n",
    "print(train_df.columns)\n",
    "\n",
    "X_train = preproc.normalize_data(X_train)\n",
    "X_valid = preproc.normalize_data(X_valid)\n",
    "\n",
    "train_df_norm = preproc.normalize_data(train_df.to_numpy())"
   ]
  },
  {
   "cell_type": "markdown",
   "metadata": {},
   "source": [
    "# Wrapper method"
   ]
  },
  {
   "cell_type": "code",
   "execution_count": 10,
   "metadata": {},
   "outputs": [
    {
     "name": "stdout",
     "output_type": "stream",
     "text": [
      "Epoch 0, cross entropy loss: 1.0986122886681096\n",
      "Epoch 100, cross entropy loss: 0.7351263558850039\n",
      "Epoch 200, cross entropy loss: 0.6886336795186007\n",
      "Epoch 300, cross entropy loss: 0.6733528922188606\n",
      "Epoch 400, cross entropy loss: 0.6655558201934962\n",
      "Epoch 500, cross entropy loss: 0.6605410418355144\n",
      "Epoch 600, cross entropy loss: 0.656880299413959\n",
      "Epoch 700, cross entropy loss: 0.6540069853220013\n",
      "Epoch 800, cross entropy loss: 0.6516503357928456\n",
      "Epoch 900, cross entropy loss: 0.64966211330778\n",
      "Index(['lat', 'TS', 'TMQ', 'U850', 'PS', 'Z1000', 'PSL', 'Z200', 'lon', 'UBOT',\n",
      "       'T500', 'Label'],\n",
      "      dtype='object')\n",
      "Confusion Matrix:\n",
      "[[10400   191  1038]\n",
      " [  344   229     5]\n",
      " [ 1164    15  1385]] \n",
      "\n",
      "Accuracy:\n",
      "0.8134 \n",
      "\n",
      "Precision:\n",
      "0.6567 \n",
      "\n",
      "Recall:\n",
      "0.6102 \n",
      "\n",
      "F1 Score:\n",
      "0.6326\n"
     ]
    }
   ],
   "source": [
    "model = MultinomialLogisticRegression(learning_rate=0.1, num_iterations=1000, regularizer=0.01)\n",
    "model.fit(X_train, y_train, collist=raw_data.columns, valid_x=X_valid, valid_y=y_valid)\n",
    "\n",
    "# Make predictions.\n",
    "predictions = model.predict(X_valid)\n",
    "print(train_df.columns)\n",
    "\n",
    "model.get_metrics(y_valid, predictions, return_values=False)"
   ]
  },
  {
   "cell_type": "code",
   "execution_count": 12,
   "metadata": {},
   "outputs": [
    {
     "data": {
      "text/plain": [
       "[<matplotlib.lines.Line2D at 0x2843e6eb0>]"
      ]
     },
     "execution_count": 12,
     "metadata": {},
     "output_type": "execute_result"
    },
    {
     "data": {
      "image/png": "[encoded data removed]",
      "text/plain": [
       "<Figure size 640x480 with 1 Axes>"
      ]
     },
     "metadata": {},
     "output_type": "display_data"
    }
   ],
   "source": [
    "plt.plot(\n",
    "    model.iters,\n",
    "    model.train_errors\n",
    ")\n",
    "\n",
    "plt.plot(\n",
    "    model.iters,\n",
    "    model.valid_errors,\n",
    "    color='r'\n",
    ")"
   ]
  },
  {
   "cell_type": "markdown",
   "metadata": {},
   "source": [
    "predictions_2023-10-25 23:37:22.889423_opt_multinomial_rm_dupls -> todas as colunas + reg = 0.01\n",
    "\n",
    "acc = 0.735"
   ]
  },
  {
   "cell_type": "markdown",
   "metadata": {},
   "source": [
    "predictions_2023-10-25 23:37:22.889423_opt_multinomial_rm_dupls_top_cols -> 'lat', 'TS', 'TMQ', 'U850', 'PS', 'Z1000', 'PSL', 'Z200', 'lon', 'UBOT' (top 50% cols) + reg = 0.1\n",
    "\n",
    "acc = 0.755"
   ]
  },
  {
   "cell_type": "markdown",
   "metadata": {},
   "source": [
    "predictions_2023-10-25 23:37:22.889423_opt_multinomial_rm_dupls_top_cols -> 'lat', 'TS', 'TMQ', 'U850', 'PS', 'Z1000', 'PSL', 'Z200', 'lon', 'UBOT', 'T500', (top 50% cols) + reg = 0.1 + count < 3\n",
    "\n",
    "acc = "
   ]
  },
  {
   "cell_type": "markdown",
   "metadata": {},
   "source": [
    "predictions_2023-11-03 21:00:45.548655_rm_dupls_top_cols_rmdups_1_2 removendo duplicados do 1 e do 2\n",
    "\n",
    "acc = 0.753"
   ]
  },
  {
   "cell_type": "markdown",
   "metadata": {},
   "source": [
    "predictions_2023-11-03 21:00:45.548655_rm_dupls_top_cols_rmdups_1_2\n",
    "\n",
    "acc 0.769"
   ]
  },
  {
   "cell_type": "markdown",
   "metadata": {},
   "source": [
    "---"
   ]
  },
  {
   "cell_type": "code",
   "execution_count": 13,
   "metadata": {},
   "outputs": [],
   "source": [
    "preproc = Preprocess()\n",
    "raw_data = preproc.load_data(raw_test_data)\n",
    "\n",
    "test_df, test_data = preproc.preprocess_data(raw_data, drop_cols=[\"SNo\", \"time\"], is_test=True)\n",
    "\n",
    "test_data = test_df[['lat', 'TS', 'TMQ', 'U850', 'PS', 'Z1000', 'PSL', 'Z200', 'lon', 'UBOT', 'T500']].to_numpy()\n",
    "\n",
    "test_data = preproc.normalize_data(test_data)"
   ]
  },
  {
   "cell_type": "code",
   "execution_count": 14,
   "metadata": {},
   "outputs": [
    {
     "data": {
      "text/plain": [
       "(10320, 11)"
      ]
     },
     "execution_count": 14,
     "metadata": {},
     "output_type": "execute_result"
    }
   ],
   "source": [
    "test_data.shape"
   ]
  },
  {
   "cell_type": "code",
   "execution_count": 63,
   "metadata": {},
   "outputs": [],
   "source": [
    "y_pred_test = model.predict(X=test_data)"
   ]
  },
  {
   "cell_type": "code",
   "execution_count": 64,
   "metadata": {},
   "outputs": [],
   "source": [
    "submition = raw_data['SNo'].reset_index().copy()\n",
    "submition['Label'] = pd.Series(y_pred_test)\n",
    "submition.drop(\"index\", axis=1, inplace=True)\n",
    "submition.to_csv(f\"predictions_{datetime.now()}_rm_dupls_top_cols_rmdups_1_2_dropdupls.csv\", index=False)"
   ]
  },
  {
   "cell_type": "code",
   "execution_count": null,
   "metadata": {},
   "outputs": [],
   "source": []
  }
 ],
 "metadata": {
  "kernelspec": {
   "display_name": "dc1-env",
   "language": "python",
   "name": "python3"
  },
  "language_info": {
   "codemirror_mode": {
    "name": "ipython",
    "version": 3
   },
   "file_extension": ".py",
   "mimetype": "text/x-python",
   "name": "python",
   "nbconvert_exporter": "python",
   "pygments_lexer": "ipython3",
   "version": "3.9.18"
  }
 },
 "nbformat": 4,
 "nbformat_minor": 2
}
