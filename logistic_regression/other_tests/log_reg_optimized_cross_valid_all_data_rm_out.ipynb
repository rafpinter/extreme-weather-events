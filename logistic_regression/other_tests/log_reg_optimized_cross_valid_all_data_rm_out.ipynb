{
    "cells": [
        {
            "cell_type": "code",
            "execution_count": 1,
            "metadata": {},
            "outputs": [],
            "source": [
                "%load_ext autoreload\n",
                "%autoreload 2"
            ]
        },
        {
            "cell_type": "code",
            "execution_count": 2,
            "metadata": {},
            "outputs": [],
            "source": [
                "from logistic_regression import MultinomialLogisticRegression\n",
                "from preprocess import Preprocess\n",
                "import numpy as np\n",
                "import pandas as pd\n",
                "from datetime import datetime\n",
                "import matplotlib.pyplot as plt"
            ]
        },
        {
            "cell_type": "code",
            "execution_count": 3,
            "metadata": {},
            "outputs": [],
            "source": [
                "raw_train_data = \"../data/train.csv\"\n",
                "raw_test_data = \"../data/test.csv\""
            ]
        },
        {
            "cell_type": "code",
            "execution_count": 16,
            "metadata": {},
            "outputs": [
                {
                    "name": "stdout",
                    "output_type": "stream",
                    "text": [
                        "Index(['lat', 'TS', 'Z1000', 'U850', 'PS', 'PSL', 'TMQ', 'Z200', 'lon', 'T500',\n",
                        "       'Label'],\n",
                        "      dtype='object')\n"
                    ]
                }
            ],
            "source": [
                "preproc = Preprocess()\n",
                "raw_data = preproc.load_data(raw_train_data)\n",
                "\n",
                "cols = ['lat', 'TS', 'Z1000', 'U850', 'PS', 'PSL', 'TMQ', 'Z200', 'lon', 'T500',\n",
                "        \"Label\"] \n",
                "\n",
                "train_df, train_data = preproc.preprocess_data(raw_data, drop_cols=[\"SNo\", \"time\"])\n",
                "train_df = train_df[cols]\n",
                "\n",
                "np.random.shuffle(train_data)\n",
                "X_train, y_train, X_valid, y_valid = preproc.train_valid_split(\n",
                "    train_df.to_numpy(), test_size=0.33 #, random_state=42\n",
                ")\n",
                "\n",
                "print(train_df.columns)\n",
                "\n",
                "X_train = preproc.normalize_data(X_train)\n",
                "X_valid = preproc.normalize_data(X_valid)"
            ]
        },
        {
            "cell_type": "code",
            "execution_count": 5,
            "metadata": {},
            "outputs": [
                {
                    "data": {
                        "text/html": [
                            "<div>\n",
                            "<style scoped>\n",
                            "    .dataframe tbody tr th:only-of-type {\n",
                            "        vertical-align: middle;\n",
                            "    }\n",
                            "\n",
                            "    .dataframe tbody tr th {\n",
                            "        vertical-align: top;\n",
                            "    }\n",
                            "\n",
                            "    .dataframe thead th {\n",
                            "        text-align: right;\n",
                            "    }\n",
                            "</style>\n",
                            "<table border=\"1\" class=\"dataframe\">\n",
                            "  <thead>\n",
                            "    <tr style=\"text-align: right;\">\n",
                            "      <th></th>\n",
                            "      <th>0</th>\n",
                            "      <th>1</th>\n",
                            "      <th>2</th>\n",
                            "      <th>3</th>\n",
                            "      <th>4</th>\n",
                            "      <th>5</th>\n",
                            "      <th>6</th>\n",
                            "      <th>7</th>\n",
                            "      <th>8</th>\n",
                            "      <th>9</th>\n",
                            "    </tr>\n",
                            "  </thead>\n",
                            "  <tbody>\n",
                            "    <tr>\n",
                            "      <th>count</th>\n",
                            "      <td>2.998900e+04</td>\n",
                            "      <td>2.998900e+04</td>\n",
                            "      <td>2.998900e+04</td>\n",
                            "      <td>2.998900e+04</td>\n",
                            "      <td>2.998900e+04</td>\n",
                            "      <td>2.998900e+04</td>\n",
                            "      <td>2.998900e+04</td>\n",
                            "      <td>2.998900e+04</td>\n",
                            "      <td>2.998900e+04</td>\n",
                            "      <td>2.998900e+04</td>\n",
                            "    </tr>\n",
                            "    <tr>\n",
                            "      <th>mean</th>\n",
                            "      <td>-2.119616e-15</td>\n",
                            "      <td>-1.526265e-13</td>\n",
                            "      <td>-3.825070e-15</td>\n",
                            "      <td>-7.439742e-17</td>\n",
                            "      <td>-7.886519e-12</td>\n",
                            "      <td>-8.770782e-12</td>\n",
                            "      <td>-4.153046e-15</td>\n",
                            "      <td>-1.322014e-12</td>\n",
                            "      <td>-4.269559e-16</td>\n",
                            "      <td>-8.289981e-13</td>\n",
                            "    </tr>\n",
                            "    <tr>\n",
                            "      <th>std</th>\n",
                            "      <td>1.000017e+00</td>\n",
                            "      <td>1.000017e+00</td>\n",
                            "      <td>1.000017e+00</td>\n",
                            "      <td>1.000017e+00</td>\n",
                            "      <td>1.000017e+00</td>\n",
                            "      <td>1.000017e+00</td>\n",
                            "      <td>1.000017e+00</td>\n",
                            "      <td>1.000017e+00</td>\n",
                            "      <td>1.000017e+00</td>\n",
                            "      <td>1.000017e+00</td>\n",
                            "    </tr>\n",
                            "    <tr>\n",
                            "      <th>min</th>\n",
                            "      <td>-1.230698e+00</td>\n",
                            "      <td>-2.390289e+00</td>\n",
                            "      <td>-1.702147e+00</td>\n",
                            "      <td>-6.609335e+00</td>\n",
                            "      <td>-9.061124e+00</td>\n",
                            "      <td>-9.081592e+00</td>\n",
                            "      <td>-2.163515e+00</td>\n",
                            "      <td>-4.418123e+00</td>\n",
                            "      <td>-9.816620e-01</td>\n",
                            "      <td>-4.385711e+00</td>\n",
                            "    </tr>\n",
                            "    <tr>\n",
                            "      <th>25%</th>\n",
                            "      <td>-9.439705e-01</td>\n",
                            "      <td>-6.300049e-01</td>\n",
                            "      <td>-7.746334e-01</td>\n",
                            "      <td>-7.189999e-01</td>\n",
                            "      <td>-7.180413e-01</td>\n",
                            "      <td>-7.162969e-01</td>\n",
                            "      <td>-8.368656e-01</td>\n",
                            "      <td>-4.697931e-01</td>\n",
                            "      <td>-6.698200e-01</td>\n",
                            "      <td>-4.127475e-01</td>\n",
                            "    </tr>\n",
                            "    <tr>\n",
                            "      <th>50%</th>\n",
                            "      <td>6.842328e-01</td>\n",
                            "      <td>1.121266e-01</td>\n",
                            "      <td>-3.899279e-02</td>\n",
                            "      <td>-1.584250e-01</td>\n",
                            "      <td>-4.825500e-02</td>\n",
                            "      <td>-4.485125e-02</td>\n",
                            "      <td>1.238674e-02</td>\n",
                            "      <td>2.263594e-01</td>\n",
                            "      <td>-3.960074e-01</td>\n",
                            "      <td>2.355560e-01</td>\n",
                            "    </tr>\n",
                            "    <tr>\n",
                            "      <th>75%</th>\n",
                            "      <td>1.083603e+00</td>\n",
                            "      <td>9.078224e-01</td>\n",
                            "      <td>6.105163e-01</td>\n",
                            "      <td>6.058339e-01</td>\n",
                            "      <td>5.840900e-01</td>\n",
                            "      <td>5.831005e-01</td>\n",
                            "      <td>7.572449e-01</td>\n",
                            "      <td>7.615106e-01</td>\n",
                            "      <td>1.896472e-01</td>\n",
                            "      <td>7.117016e-01</td>\n",
                            "    </tr>\n",
                            "    <tr>\n",
                            "      <th>max</th>\n",
                            "      <td>1.175766e+00</td>\n",
                            "      <td>1.465700e+00</td>\n",
                            "      <td>4.551860e+00</td>\n",
                            "      <td>4.782046e+00</td>\n",
                            "      <td>4.484265e+00</td>\n",
                            "      <td>4.488067e+00</td>\n",
                            "      <td>3.598686e+00</td>\n",
                            "      <td>1.588394e+00</td>\n",
                            "      <td>2.068306e+00</td>\n",
                            "      <td>2.662933e+00</td>\n",
                            "    </tr>\n",
                            "  </tbody>\n",
                            "</table>\n",
                            "</div>"
                        ],
                        "text/plain": [
                            "                  0             1             2             3             4  \\\n",
                            "count  2.998900e+04  2.998900e+04  2.998900e+04  2.998900e+04  2.998900e+04   \n",
                            "mean  -2.119616e-15 -1.526265e-13 -3.825070e-15 -7.439742e-17 -7.886519e-12   \n",
                            "std    1.000017e+00  1.000017e+00  1.000017e+00  1.000017e+00  1.000017e+00   \n",
                            "min   -1.230698e+00 -2.390289e+00 -1.702147e+00 -6.609335e+00 -9.061124e+00   \n",
                            "25%   -9.439705e-01 -6.300049e-01 -7.746334e-01 -7.189999e-01 -7.180413e-01   \n",
                            "50%    6.842328e-01  1.121266e-01 -3.899279e-02 -1.584250e-01 -4.825500e-02   \n",
                            "75%    1.083603e+00  9.078224e-01  6.105163e-01  6.058339e-01  5.840900e-01   \n",
                            "max    1.175766e+00  1.465700e+00  4.551860e+00  4.782046e+00  4.484265e+00   \n",
                            "\n",
                            "                  5             6             7             8             9  \n",
                            "count  2.998900e+04  2.998900e+04  2.998900e+04  2.998900e+04  2.998900e+04  \n",
                            "mean  -8.770782e-12 -4.153046e-15 -1.322014e-12 -4.269559e-16 -8.289981e-13  \n",
                            "std    1.000017e+00  1.000017e+00  1.000017e+00  1.000017e+00  1.000017e+00  \n",
                            "min   -9.081592e+00 -2.163515e+00 -4.418123e+00 -9.816620e-01 -4.385711e+00  \n",
                            "25%   -7.162969e-01 -8.368656e-01 -4.697931e-01 -6.698200e-01 -4.127475e-01  \n",
                            "50%   -4.485125e-02  1.238674e-02  2.263594e-01 -3.960074e-01  2.355560e-01  \n",
                            "75%    5.831005e-01  7.572449e-01  7.615106e-01  1.896472e-01  7.117016e-01  \n",
                            "max    4.488067e+00  3.598686e+00  1.588394e+00  2.068306e+00  2.662933e+00  "
                        ]
                    },
                    "execution_count": 5,
                    "metadata": {},
                    "output_type": "execute_result"
                }
            ],
            "source": [
                "pd.DataFrame(X_train).describe()"
            ]
        },
        {
            "cell_type": "markdown",
            "metadata": {},
            "source": [
                "Removendo outliers"
            ]
        },
        {
            "cell_type": "code",
            "execution_count": 13,
            "metadata": {},
            "outputs": [],
            "source": [
                "threshold = 4\n",
                "X_train = X_train[\n",
                "    (np.abs(X_train[:,2]) < threshold) \n",
                "    & (np.abs(X_train[:,3]) < threshold)\n",
                "    & (np.abs(X_train[:,4]) < threshold)\n",
                "    & (np.abs(X_train[:,5]) < threshold)\n",
                "    & (np.abs(X_train[:,6]) < threshold)\n",
                "    & (np.abs(X_train[:,7]) < threshold)\n",
                "    & (np.abs(X_train[:,8]) < threshold)\n",
                "    & (np.abs(X_train[:,9]) < threshold),\n",
                "    :\n",
                "]"
            ]
        },
        {
            "cell_type": "code",
            "execution_count": 15,
            "metadata": {},
            "outputs": [
                {
                    "data": {
                        "text/plain": [
                            "array([[ 0.69447308,  0.82324282, -1.16649285, ...,  0.75572818,\n",
                            "        -0.41121923,  0.72944906],\n",
                            "       [ 0.69447308,  0.50298152, -0.57286522, ...,  0.26962168,\n",
                            "        -0.41121923,  0.43025037],\n",
                            "       [ 1.07336315,  1.11814644, -1.0845108 , ...,  1.0178838 ,\n",
                            "         0.14401178,  0.55964169],\n",
                            "       ...,\n",
                            "       [-1.21021757, -1.93883597,  0.36615808, ..., -1.98934874,\n",
                            "         2.04548784, -2.7375391 ],\n",
                            "       [ 1.1655256 ,  0.93802019, -1.62716589, ...,  1.23836229,\n",
                            "         0.1744354 ,  1.1469469 ],\n",
                            "       [ 0.70471335,  1.08436315, -1.20684093, ...,  0.92073793,\n",
                            "        -0.41121923,  0.86475622]])"
                        ]
                    },
                    "execution_count": 15,
                    "metadata": {},
                    "output_type": "execute_result"
                }
            ],
            "source": [
                "X_train"
            ]
        },
        {
            "cell_type": "markdown",
            "metadata": {},
            "source": [
                "### Training model"
            ]
        },
        {
            "cell_type": "code",
            "execution_count": 19,
            "metadata": {},
            "outputs": [
                {
                    "name": "stdout",
                    "output_type": "stream",
                    "text": [
                        "Epoch 0, cross entropy loss: 1.0986122886681096\n",
                        "Epoch 100, cross entropy loss: 0.7604864365664811\n",
                        "Epoch 200, cross entropy loss: 0.7449606033332898\n",
                        "Epoch 300, cross entropy loss: 0.7408726757678747\n",
                        "Epoch 400, cross entropy loss: 0.7398550647397804\n",
                        "Epoch 500, cross entropy loss: 0.7407586767168708\n",
                        "Epoch 600, cross entropy loss: 0.7429022158740011\n",
                        "Epoch 700, cross entropy loss: 0.7458515636114263\n",
                        "Epoch 800, cross entropy loss: 0.7493591294289564\n",
                        "Epoch 900, cross entropy loss: 0.7532825662289293\n",
                        "Index(['lat', 'TS', 'Z1000', 'U850', 'PS', 'PSL', 'TMQ', 'Z200', 'lon', 'T500',\n",
                        "       'Label'],\n",
                        "      dtype='object')\n",
                        "Confusion Matrix:\n",
                        "[[9267  360 1996]\n",
                        " [ 508   16   84]\n",
                        " [1991   80  469]] \n",
                        "\n",
                        "Accuracy:\n",
                        "0.0 \n",
                        "\n"
                    ]
                },
                {
                    "ename": "ValueError",
                    "evalue": "operands could not be broadcast together with shapes (14771,) (29989,) ",
                    "output_type": "error",
                    "traceback": [
                        "\u001b[0;31m---------------------------------------------------------------------------\u001b[0m",
                        "\u001b[0;31mValueError\u001b[0m                                Traceback (most recent call last)",
                        "\u001b[1;32m/Users/rafaelapinter/Library/Mobile Documents/com~apple~CloudDocs/1.UdeM/github-projects/extreme-weather-events-ift6380/notebooks/multinomial_log_reg_2_optimized_cross_valid_all_data_rm_out.ipynb Cell 10\u001b[0m line \u001b[0;36m8\n\u001b[1;32m      <a href='vscode-notebook-cell:/Users/rafaelapinter/Library/Mobile%20Documents/com~apple~CloudDocs/1.UdeM/github-projects/extreme-weather-events-ift6380/notebooks/multinomial_log_reg_2_optimized_cross_valid_all_data_rm_out.ipynb#X21sZmlsZQ%3D%3D?line=4'>5</a>\u001b[0m predictions \u001b[39m=\u001b[39m model\u001b[39m.\u001b[39mpredict(X_valid)\n\u001b[1;32m      <a href='vscode-notebook-cell:/Users/rafaelapinter/Library/Mobile%20Documents/com~apple~CloudDocs/1.UdeM/github-projects/extreme-weather-events-ift6380/notebooks/multinomial_log_reg_2_optimized_cross_valid_all_data_rm_out.ipynb#X21sZmlsZQ%3D%3D?line=5'>6</a>\u001b[0m \u001b[39mprint\u001b[39m(train_df\u001b[39m.\u001b[39mcolumns)\n\u001b[0;32m----> <a href='vscode-notebook-cell:/Users/rafaelapinter/Library/Mobile%20Documents/com~apple~CloudDocs/1.UdeM/github-projects/extreme-weather-events-ift6380/notebooks/multinomial_log_reg_2_optimized_cross_valid_all_data_rm_out.ipynb#X21sZmlsZQ%3D%3D?line=7'>8</a>\u001b[0m model\u001b[39m.\u001b[39;49mget_metrics(y_train, predictions, return_values\u001b[39m=\u001b[39;49m\u001b[39mFalse\u001b[39;49;00m)\n",
                        "File \u001b[0;32m~/Library/Mobile Documents/com~apple~CloudDocs/1.UdeM/github-projects/extreme-weather-events-ift6380/notebooks/multinomial_kernel.py:296\u001b[0m, in \u001b[0;36mMultinomialLogisticRegression.get_metrics\u001b[0;34m(self, y_true, y_pred, return_values)\u001b[0m\n\u001b[1;32m    293\u001b[0m \u001b[39mprint\u001b[39m(\u001b[39m\"\u001b[39m\u001b[39mAccuracy:\u001b[39m\u001b[39m\"\u001b[39m)\n\u001b[1;32m    294\u001b[0m \u001b[39mprint\u001b[39m(\u001b[39mround\u001b[39m(acc, \u001b[39m4\u001b[39m), \u001b[39m\"\u001b[39m\u001b[39m\\n\u001b[39;00m\u001b[39m\"\u001b[39m)\n\u001b[0;32m--> 296\u001b[0m prec \u001b[39m=\u001b[39m \u001b[39mself\u001b[39;49m\u001b[39m.\u001b[39;49mprecision(y_true, y_pred)\n\u001b[1;32m    297\u001b[0m \u001b[39mprint\u001b[39m(\u001b[39m\"\u001b[39m\u001b[39mPrecision:\u001b[39m\u001b[39m\"\u001b[39m)\n\u001b[1;32m    298\u001b[0m \u001b[39mprint\u001b[39m(\u001b[39mround\u001b[39m(prec, \u001b[39m4\u001b[39m), \u001b[39m\"\u001b[39m\u001b[39m\\n\u001b[39;00m\u001b[39m\"\u001b[39m)\n",
                        "File \u001b[0;32m~/Library/Mobile Documents/com~apple~CloudDocs/1.UdeM/github-projects/extreme-weather-events-ift6380/notebooks/multinomial_kernel.py:243\u001b[0m, in \u001b[0;36mMultinomialLogisticRegression.precision\u001b[0;34m(self, y_true, y_pred)\u001b[0m\n\u001b[1;32m    240\u001b[0m precisions \u001b[39m=\u001b[39m []\n\u001b[1;32m    242\u001b[0m \u001b[39mfor\u001b[39;00m \u001b[39mcls\u001b[39m \u001b[39min\u001b[39;00m classes:\n\u001b[0;32m--> 243\u001b[0m     true_positives \u001b[39m=\u001b[39m np\u001b[39m.\u001b[39msum((y_pred \u001b[39m==\u001b[39;49m \u001b[39mcls\u001b[39;49m) \u001b[39m&\u001b[39;49m (y_true \u001b[39m==\u001b[39;49m \u001b[39mcls\u001b[39;49m))\n\u001b[1;32m    244\u001b[0m     false_positives \u001b[39m=\u001b[39m np\u001b[39m.\u001b[39msum((y_pred \u001b[39m==\u001b[39m \u001b[39mcls\u001b[39m) \u001b[39m&\u001b[39m (y_true \u001b[39m!=\u001b[39m \u001b[39mcls\u001b[39m))\n\u001b[1;32m    246\u001b[0m     \u001b[39mif\u001b[39;00m true_positives \u001b[39m+\u001b[39m false_positives \u001b[39m==\u001b[39m \u001b[39m0\u001b[39m:\n",
                        "\u001b[0;31mValueError\u001b[0m: operands could not be broadcast together with shapes (14771,) (29989,) "
                    ]
                }
            ],
            "source": [
                "model = MultinomialLogisticRegression(learning_rate=0.1, num_iterations=1000, regularizer=0.1)\n",
                "model.fit(X_train, y_train, collist=raw_data.columns, valid_x=X_train, valid_y=y_train)\n",
                "\n",
                "# Make predictions.\n",
                "predictions = model.predict(X_valid)\n",
                "print(train_df.columns)\n",
                "\n",
                "model.get_metrics(y_train, predictions, return_values=False)"
            ]
        },
        {
            "cell_type": "code",
            "execution_count": null,
            "metadata": {},
            "outputs": [
                {
                    "data": {
                        "text/plain": [
                            "[<matplotlib.lines.Line2D at 0x174121ca0>]"
                        ]
                    },
                    "execution_count": 13,
                    "metadata": {},
                    "output_type": "execute_result"
                },
                {
                    "data": {
                        "image/png": "[encoded data removed]",
                        "text/plain": [
                            "<Figure size 640x480 with 1 Axes>"
                        ]
                    },
                    "metadata": {},
                    "output_type": "display_data"
                }
            ],
            "source": [
                "plt.plot(\n",
                "    model.iters,\n",
                "    model.train_errors\n",
                ")\n",
                "\n",
                "plt.plot(\n",
                "    model.iters,\n",
                "    model.valid_errors,\n",
                "    color='r'\n",
                ")"
            ]
        },
        {
            "cell_type": "markdown",
            "metadata": {},
            "source": [
                "predictions_2023-10-25 23:37:22.889423_opt_multinomial_all_data"
            ]
        },
        {
            "cell_type": "markdown",
            "metadata": {},
            "source": [
                "---"
            ]
        },
        {
            "cell_type": "code",
            "execution_count": 19,
            "metadata": {},
            "outputs": [
                {
                    "name": "stdout",
                    "output_type": "stream",
                    "text": [
                        "Index(['T200', 'Z200', 'VBOT', 'UBOT', 'T500', 'U850', 'TS', 'TMQ', 'V850',\n",
                        "       'Label'],\n",
                        "      dtype='object')\n"
                    ]
                }
            ],
            "source": [
                "preproc = Preprocess()\n",
                "raw_data = preproc.load_data(raw_train_data)\n",
                "\n",
                "cols = [\"T200\", \"Z200\", \"VBOT\", \"UBOT\",  \"T500\", \"U850\", \"TS\", \"TMQ\", \"V850\",\n",
                "        \"Label\"] \n",
                "\n",
                "train_df, train_data = preproc.preprocess_data(raw_data, drop_cols=[\"SNo\", \"time\"])\n",
                "train_df = train_df[cols]\n",
                "\n",
                "np.random.shuffle(train_data)\n",
                "X_train, y_train, X_valid, y_valid = preproc.train_valid_split(\n",
                "    train_df.to_numpy(), test_size=0.33 #, random_state=42\n",
                ")\n",
                "\n",
                "print(train_df.columns)\n",
                "\n",
                "X_train = preproc.normalize_data(X_train)\n",
                "X_valid = preproc.normalize_data(X_valid)"
            ]
        },
        {
            "cell_type": "code",
            "execution_count": 21,
            "metadata": {},
            "outputs": [
                {
                    "name": "stdout",
                    "output_type": "stream",
                    "text": [
                        "Epoch 0, cross entropy loss: 1.0986122886681096\n",
                        "Epoch 100, cross entropy loss: 1.3319577682487105\n",
                        "Epoch 200, cross entropy loss: 1.3522162466581074\n",
                        "Epoch 300, cross entropy loss: 1.3440761903632488\n",
                        "Epoch 400, cross entropy loss: 1.3380537770247012\n",
                        "Epoch 500, cross entropy loss: 1.336133265179013\n",
                        "Epoch 600, cross entropy loss: 1.3364211734399578\n",
                        "Epoch 700, cross entropy loss: 1.3375626636866498\n",
                        "Epoch 800, cross entropy loss: 1.3389168156016933\n",
                        "Epoch 900, cross entropy loss: 1.3402252040101712\n",
                        "Index(['T200', 'Z200', 'VBOT', 'UBOT', 'T500', 'U850', 'TS', 'TMQ', 'V850',\n",
                        "       'Label'],\n",
                        "      dtype='object')\n",
                        "Confusion Matrix:\n",
                        "[[3534 5259 2836]\n",
                        " [  48  482   48]\n",
                        " [ 226  667 1671]] \n",
                        "\n",
                        "Accuracy:\n",
                        "0.385 \n",
                        "\n",
                        "Precision:\n",
                        "0.4567 \n",
                        "\n",
                        "Recall:\n",
                        "0.5965 \n",
                        "\n",
                        "F1 Score:\n",
                        "0.5173\n"
                    ]
                }
            ],
            "source": [
                "model = MultinomialLogisticRegression(learning_rate=0.1, num_iterations=1000, regularizer=0.05)\n",
                "model.fit(X_train, y_train, collist=raw_data.columns, valid_x=X_valid, valid_y=y_valid)\n",
                "\n",
                "# Make predictions.\n",
                "predictions = model.predict(X_valid)\n",
                "print(train_df.columns)\n",
                "\n",
                "model.get_metrics(y_valid, predictions, return_values=False)"
            ]
        },
        {
            "cell_type": "markdown",
            "metadata": {},
            "source": [
                "---"
            ]
        },
        {
            "cell_type": "code",
            "execution_count": 7,
            "metadata": {},
            "outputs": [],
            "source": [
                "preproc = Preprocess()\n",
                "raw_data = preproc.load_data(raw_test_data)\n",
                "\n",
                "test_df, test_data = preproc.preprocess_data(raw_data, drop_cols=[\"SNo\", \"time\"], is_test=True)\n",
                "\n",
                "test_data = test_df[['lat', 'TS', 'Z1000', 'U850', 'PS', 'PSL', 'TMQ', 'Z200', 'lon', 'T500']].to_numpy()\n",
                "\n",
                "test_data = preproc.normalize_data(test_data)"
            ]
        },
        {
            "cell_type": "code",
            "execution_count": 8,
            "metadata": {},
            "outputs": [
                {
                    "data": {
                        "text/plain": [
                            "(10320, 10)"
                        ]
                    },
                    "execution_count": 8,
                    "metadata": {},
                    "output_type": "execute_result"
                }
            ],
            "source": [
                "test_data.shape"
            ]
        },
        {
            "cell_type": "code",
            "execution_count": 9,
            "metadata": {},
            "outputs": [],
            "source": [
                "y_pred_test = model.predict(X=test_data)"
            ]
        },
        {
            "cell_type": "code",
            "execution_count": 10,
            "metadata": {},
            "outputs": [],
            "source": [
                "submition = raw_data['SNo'].reset_index().copy()\n",
                "submition['Label'] = pd.Series(y_pred_test)\n",
                "submition.drop(\"index\", axis=1, inplace=True)\n",
                "submition.to_csv(f\"predictions_{datetime.now()}.csv\", index=False)"
            ]
        }
    ],
    "metadata": {
        "kernelspec": {
            "display_name": "dc1-env",
            "language": "python",
            "name": "python3"
        },
        "language_info": {
            "codemirror_mode": {
                "name": "ipython",
                "version": 3
            },
            "file_extension": ".py",
            "mimetype": "text/x-python",
            "name": "python",
            "nbconvert_exporter": "python",
            "pygments_lexer": "ipython3",
            "version": "3.9.18"
        }
    },
    "nbformat": 4,
    "nbformat_minor": 2
}