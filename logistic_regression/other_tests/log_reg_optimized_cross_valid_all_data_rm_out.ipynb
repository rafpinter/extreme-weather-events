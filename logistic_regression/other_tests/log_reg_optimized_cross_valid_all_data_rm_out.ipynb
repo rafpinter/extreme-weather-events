{
    "cells": [
        {
            "cell_type": "markdown",
            "metadata": {},
            "source": [
                "# Logistic Regression"
            ]
        },
        {
            "cell_type": "code",
            "execution_count": 1,
            "metadata": {},
            "outputs": [],
            "source": [
                "%load_ext autoreload\n",
                "%autoreload 2"
            ]
        },
        {
            "cell_type": "code",
            "execution_count": 2,
            "metadata": {},
            "outputs": [],
            "source": [
                "from logistic_regression import MultinomialLogisticRegression\n",
                "from preprocess import Preprocess\n",
                "import numpy as np\n",
                "import pandas as pd\n",
                "from datetime import datetime\n",
                "import matplotlib.pyplot as plt"
            ]
        },
        {
            "cell_type": "markdown",
            "metadata": {},
            "source": [
                "### Importind data"
            ]
        },
        {
            "cell_type": "code",
            "execution_count": 3,
            "metadata": {},
            "outputs": [],
            "source": [
                "raw_train_data = \"../data/train.csv\"\n",
                "raw_test_data = \"../data/test.csv\""
            ]
        },
        {
            "cell_type": "code",
            "execution_count": 16,
            "metadata": {},
            "outputs": [
                {
                    "name": "stdout",
                    "output_type": "stream",
                    "text": [
                        "Index(['lat', 'TS', 'Z1000', 'U850', 'PS', 'PSL', 'TMQ', 'Z200', 'lon', 'T500',\n",
                        "       'Label'],\n",
                        "      dtype='object')\n"
                    ]
                }
            ],
            "source": [
                "preproc = Preprocess()\n",
                "raw_data = preproc.load_data(raw_train_data)\n",
                "\n",
                "cols = ['lat', 'TS', 'Z1000', 'U850', 'PS', 'PSL', 'TMQ', 'Z200', 'lon', 'T500',\n",
                "        \"Label\"] \n",
                "\n",
                "train_df, train_data = preproc.preprocess_data(raw_data, drop_cols=[\"SNo\", \"time\"])\n",
                "train_df = train_df[cols]\n",
                "\n",
                "np.random.shuffle(train_data)\n",
                "X_train, y_train, X_valid, y_valid = preproc.train_valid_split(\n",
                "    train_df.to_numpy(), test_size=0.33 #, random_state=42\n",
                ")\n",
                "\n",
                "print(train_df.columns)\n",
                "\n",
                "X_train = preproc.normalize_data(X_train)\n",
                "X_valid = preproc.normalize_data(X_valid)"
            ]
        },
        {
            "cell_type": "markdown",
            "metadata": {},
            "source": [
                "Removing outliers"
            ]
        },
        {
            "cell_type": "code",
            "execution_count": 13,
            "metadata": {},
            "outputs": [],
            "source": [
                "threshold = 4\n",
                "X_train = X_train[\n",
                "    (np.abs(X_train[:,2]) < threshold) \n",
                "    & (np.abs(X_train[:,3]) < threshold)\n",
                "    & (np.abs(X_train[:,4]) < threshold)\n",
                "    & (np.abs(X_train[:,5]) < threshold)\n",
                "    & (np.abs(X_train[:,6]) < threshold)\n",
                "    & (np.abs(X_train[:,7]) < threshold)\n",
                "    & (np.abs(X_train[:,8]) < threshold)\n",
                "    & (np.abs(X_train[:,9]) < threshold),\n",
                "    :\n",
                "]"
            ]
        },
        {
            "cell_type": "code",
            "execution_count": 15,
            "metadata": {},
            "outputs": [
                {
                    "data": {
                        "text/plain": [
                            "array([[ 0.69447308,  0.82324282, -1.16649285, ...,  0.75572818,\n",
                            "        -0.41121923,  0.72944906],\n",
                            "       [ 0.69447308,  0.50298152, -0.57286522, ...,  0.26962168,\n",
                            "        -0.41121923,  0.43025037],\n",
                            "       [ 1.07336315,  1.11814644, -1.0845108 , ...,  1.0178838 ,\n",
                            "         0.14401178,  0.55964169],\n",
                            "       ...,\n",
                            "       [-1.21021757, -1.93883597,  0.36615808, ..., -1.98934874,\n",
                            "         2.04548784, -2.7375391 ],\n",
                            "       [ 1.1655256 ,  0.93802019, -1.62716589, ...,  1.23836229,\n",
                            "         0.1744354 ,  1.1469469 ],\n",
                            "       [ 0.70471335,  1.08436315, -1.20684093, ...,  0.92073793,\n",
                            "        -0.41121923,  0.86475622]])"
                        ]
                    },
                    "execution_count": 15,
                    "metadata": {},
                    "output_type": "execute_result"
                }
            ],
            "source": [
                "X_train"
            ]
        },
        {
            "cell_type": "markdown",
            "metadata": {},
            "source": [
                "### Training model"
            ]
        },
        {
            "cell_type": "code",
            "execution_count": null,
            "metadata": {},
            "outputs": [],
            "source": [
                "model = MultinomialLogisticRegression(learning_rate=0.1, num_iterations=1000, regularizer=0.1)\n",
                "model.fit(X_train, y_train, collist=raw_data.columns, valid_x=X_train, valid_y=y_train)\n",
                "\n",
                "# Make predictions.\n",
                "predictions = model.predict(X_valid)\n",
                "print(train_df.columns)\n",
                "\n",
                "model.get_metrics(y_train, predictions, return_values=False)"
            ]
        },
        {
            "cell_type": "markdown",
            "metadata": {},
            "source": [
                "---"
            ]
        },
        {
            "cell_type": "code",
            "execution_count": 19,
            "metadata": {},
            "outputs": [
                {
                    "name": "stdout",
                    "output_type": "stream",
                    "text": [
                        "Index(['T200', 'Z200', 'VBOT', 'UBOT', 'T500', 'U850', 'TS', 'TMQ', 'V850',\n",
                        "       'Label'],\n",
                        "      dtype='object')\n"
                    ]
                }
            ],
            "source": [
                "preproc = Preprocess()\n",
                "raw_data = preproc.load_data(raw_train_data)\n",
                "\n",
                "cols = [\"T200\", \"Z200\", \"VBOT\", \"UBOT\",  \"T500\", \"U850\", \"TS\", \"TMQ\", \"V850\",\n",
                "        \"Label\"] \n",
                "\n",
                "train_df, train_data = preproc.preprocess_data(raw_data, drop_cols=[\"SNo\", \"time\"])\n",
                "train_df = train_df[cols]\n",
                "\n",
                "np.random.shuffle(train_data)\n",
                "X_train, y_train, X_valid, y_valid = preproc.train_valid_split(\n",
                "    train_df.to_numpy(), test_size=0.33 #, random_state=42\n",
                ")\n",
                "\n",
                "print(train_df.columns)\n",
                "\n",
                "X_train = preproc.normalize_data(X_train)\n",
                "X_valid = preproc.normalize_data(X_valid)"
            ]
        },
        {
            "cell_type": "code",
            "execution_count": 21,
            "metadata": {},
            "outputs": [
                {
                    "name": "stdout",
                    "output_type": "stream",
                    "text": [
                        "Epoch 0, cross entropy loss: 1.0986122886681096\n",
                        "Epoch 100, cross entropy loss: 1.3319577682487105\n",
                        "Epoch 200, cross entropy loss: 1.3522162466581074\n",
                        "Epoch 300, cross entropy loss: 1.3440761903632488\n",
                        "Epoch 400, cross entropy loss: 1.3380537770247012\n",
                        "Epoch 500, cross entropy loss: 1.336133265179013\n",
                        "Epoch 600, cross entropy loss: 1.3364211734399578\n",
                        "Epoch 700, cross entropy loss: 1.3375626636866498\n",
                        "Epoch 800, cross entropy loss: 1.3389168156016933\n",
                        "Epoch 900, cross entropy loss: 1.3402252040101712\n",
                        "Index(['T200', 'Z200', 'VBOT', 'UBOT', 'T500', 'U850', 'TS', 'TMQ', 'V850',\n",
                        "       'Label'],\n",
                        "      dtype='object')\n",
                        "Confusion Matrix:\n",
                        "[[3534 5259 2836]\n",
                        " [  48  482   48]\n",
                        " [ 226  667 1671]] \n",
                        "\n",
                        "Accuracy:\n",
                        "0.385 \n",
                        "\n",
                        "Precision:\n",
                        "0.4567 \n",
                        "\n",
                        "Recall:\n",
                        "0.5965 \n",
                        "\n",
                        "F1 Score:\n",
                        "0.5173\n"
                    ]
                }
            ],
            "source": [
                "model = MultinomialLogisticRegression(learning_rate=0.1, num_iterations=1000, regularizer=0.05)\n",
                "model.fit(X_train, y_train, collist=raw_data.columns, valid_x=X_valid, valid_y=y_valid)\n",
                "\n",
                "# Make predictions.\n",
                "predictions = model.predict(X_valid)\n",
                "print(train_df.columns)\n",
                "\n",
                "model.get_metrics(y_valid, predictions, return_values=False)"
            ]
        },
        {
            "cell_type": "markdown",
            "metadata": {},
            "source": [
                "---"
            ]
        },
        {
            "cell_type": "code",
            "execution_count": 7,
            "metadata": {},
            "outputs": [],
            "source": [
                "preproc = Preprocess()\n",
                "raw_data = preproc.load_data(raw_test_data)\n",
                "\n",
                "test_df, test_data = preproc.preprocess_data(raw_data, drop_cols=[\"SNo\", \"time\"], is_test=True)\n",
                "\n",
                "test_data = test_df[['lat', 'TS', 'Z1000', 'U850', 'PS', 'PSL', 'TMQ', 'Z200', 'lon', 'T500']].to_numpy()\n",
                "\n",
                "test_data = preproc.normalize_data(test_data)"
            ]
        },
        {
            "cell_type": "code",
            "execution_count": 8,
            "metadata": {},
            "outputs": [
                {
                    "data": {
                        "text/plain": [
                            "(10320, 10)"
                        ]
                    },
                    "execution_count": 8,
                    "metadata": {},
                    "output_type": "execute_result"
                }
            ],
            "source": [
                "test_data.shape"
            ]
        },
        {
            "cell_type": "code",
            "execution_count": 9,
            "metadata": {},
            "outputs": [],
            "source": [
                "y_pred_test = model.predict(X=test_data)"
            ]
        },
        {
            "cell_type": "code",
            "execution_count": 10,
            "metadata": {},
            "outputs": [],
            "source": [
                "submition = raw_data['SNo'].reset_index().copy()\n",
                "submition['Label'] = pd.Series(y_pred_test)\n",
                "submition.drop(\"index\", axis=1, inplace=True)\n",
                "submition.to_csv(f\"predictions_{datetime.now()}.csv\", index=False)"
            ]
        }
    ],
    "metadata": {
        "kernelspec": {
            "display_name": "dc1-env",
            "language": "python",
            "name": "python3"
        },
        "language_info": {
            "codemirror_mode": {
                "name": "ipython",
                "version": 3
            },
            "file_extension": ".py",
            "mimetype": "text/x-python",
            "name": "python",
            "nbconvert_exporter": "python",
            "pygments_lexer": "ipython3",
            "version": "3.9.18"
        }
    },
    "nbformat": 4,
    "nbformat_minor": 2
}
