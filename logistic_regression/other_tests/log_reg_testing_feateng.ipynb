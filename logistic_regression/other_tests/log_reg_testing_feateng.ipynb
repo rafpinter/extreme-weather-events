{
    "cells": [
        {
            "cell_type": "markdown",
            "metadata": {},
            "source": [
                "# Logistic Regression"
            ]
        },
        {
            "cell_type": "code",
            "execution_count": 10,
            "metadata": {},
            "outputs": [
                {
                    "name": "stdout",
                    "output_type": "stream",
                    "text": [
                        "The autoreload extension is already loaded. To reload it, use:\n",
                        "  %reload_ext autoreload\n"
                    ]
                }
            ],
            "source": [
                "%load_ext autoreload\n",
                "%autoreload 2"
            ]
        },
        {
            "cell_type": "code",
            "execution_count": 11,
            "metadata": {},
            "outputs": [],
            "source": [
                "from logistic_regression import MultinomialLogisticRegression\n",
                "from preprocess import Preprocess\n",
                "import numpy as np\n",
                "import pandas as pd\n",
                "from datetime import datetime\n",
                "import matplotlib.pyplot as plt"
            ]
        },
        {
            "cell_type": "code",
            "execution_count": 12,
            "metadata": {},
            "outputs": [],
            "source": [
                "raw_train_data = \"../../data/train.csv\"\n",
                "raw_test_data = \"../../data/test.csv\""
            ]
        },
        {
            "cell_type": "code",
            "execution_count": 13,
            "metadata": {},
            "outputs": [],
            "source": [
                "preproc = Preprocess()\n",
                "raw_data = preproc.load_data(raw_train_data)"
            ]
        },
        {
            "cell_type": "code",
            "execution_count": 14,
            "metadata": {},
            "outputs": [
                {
                    "name": "stdout",
                    "output_type": "stream",
                    "text": [
                        "Index(['lat', 'lon', 'TMQ', 'U850', 'V850', 'UBOT', 'VBOT', 'QREFHT', 'PS',\n",
                        "       'PSL', 'T200', 'T500', 'PRECT', 'TS', 'TREFHT', 'Z1000', 'Z200', 'ZBOT',\n",
                        "       'lon_sin', 'lon_cos', 'PS-PSL', 'T200-T500', 'TREFHT-T200',\n",
                        "       'TREFHT-T500', 'U850-UBOT', 'V850-VBOT', 'Z200-Z1000', 'ZBOT-Z1000',\n",
                        "       'ZBOT-Z200', 'V850-U850', 'UBOT-VBOT', 'PS*PSL', 'T200*T500',\n",
                        "       'TREFHT*T200', 'TREFHT*T500', 'U850*UBOT', 'V850*VBOT', 'Z200*Z1000',\n",
                        "       'ZBOT*Z1000', 'ZBOT*Z200', 'V850*U850', 'UBOT*VBOT', 'month', 'Label'],\n",
                        "      dtype='object')\n"
                    ]
                }
            ],
            "source": [
                "# cols = ['lat', 'TS', 'TMQ', 'U850', 'PS', 'Z1000', 'PSL', 'Z200', 'lon', 'UBOT', 'T500',\n",
                "#         \"Label\"]\n",
                "\n",
                "train_df, train_data = preproc.preprocess_data(raw_data, drop_cols=[\"SNo\", \"time\"])\n",
                "# train_df = train_df[cols]\n",
                "\n",
                "np.random.shuffle(train_data)\n",
                "X_train, y_train, X_valid, y_valid = preproc.train_valid_split(\n",
                "    train_df.to_numpy(), test_size=0.33 #, random_state=42\n",
                ")\n",
                "\n",
                "print(train_df.columns)\n",
                "\n",
                "X_train = preproc.normalize_data(X_train)\n",
                "X_valid = preproc.normalize_data(X_valid)\n",
                "\n",
                "train_df_norm = preproc.normalize_data(train_df.to_numpy())"
            ]
        },
        {
            "cell_type": "markdown",
            "metadata": {},
            "source": [
                "### Training model"
            ]
        },
        {
            "cell_type": "code",
            "execution_count": 8,
            "metadata": {},
            "outputs": [
                {
                    "name": "stdout",
                    "output_type": "stream",
                    "text": [
                        "Epoch 0, cross entropy loss: 1.0986122886681096\n",
                        "Epoch 100, cross entropy loss: 0.9774939248885908\n",
                        "Epoch 200, cross entropy loss: 0.972920866401118\n",
                        "Epoch 300, cross entropy loss: 0.9837783024688341\n",
                        "Epoch 400, cross entropy loss: 1.000031284845685\n",
                        "Epoch 500, cross entropy loss: 1.018611341271762\n",
                        "Epoch 600, cross entropy loss: 1.038179766627913\n",
                        "Epoch 700, cross entropy loss: 1.0580245104286463\n",
                        "Epoch 800, cross entropy loss: 1.0777375380597884\n",
                        "Epoch 900, cross entropy loss: 1.0970853993862166\n",
                        "Index(['lat', 'lon', 'TMQ', 'U850', 'V850', 'UBOT', 'VBOT', 'QREFHT', 'PS',\n",
                        "       'PSL', 'T200', 'T500', 'PRECT', 'TS', 'TREFHT', 'Z1000', 'Z200', 'ZBOT',\n",
                        "       'lon_sin', 'lon_cos', 'PS-PSL', 'T200-T500', 'TREFHT-T200',\n",
                        "       'TREFHT-T500', 'U850-UBOT', 'V850-VBOT', 'Z200-Z1000', 'ZBOT-Z1000',\n",
                        "       'ZBOT-Z200', 'V850-U850', 'UBOT-VBOT', 'PS*PSL', 'T200*T500',\n",
                        "       'TREFHT*T200', 'TREFHT*T500', 'U850*UBOT', 'V850*VBOT', 'Z200*Z1000',\n",
                        "       'ZBOT*Z1000', 'ZBOT*Z200', 'V850*U850', 'UBOT*VBOT', 'month', 'Label'],\n",
                        "      dtype='object')\n",
                        "Confusion Matrix:\n",
                        "[[4790 4872 1967]\n",
                        " [  44  534    0]\n",
                        " [ 203  702 1659]] \n",
                        "\n",
                        "Accuracy:\n",
                        "0.4728 \n",
                        "\n",
                        "Precision:\n",
                        "0.4986 \n",
                        "\n",
                        "Recall:\n",
                        "0.6609 \n",
                        "\n",
                        "F1 Score:\n",
                        "0.5684\n"
                    ]
                }
            ],
            "source": [
                "model = MultinomialLogisticRegression(learning_rate=0.01, num_iterations=1000, regularizer=0.01)\n",
                "model.fit(X_train, y_train, collist=raw_data.columns, valid_x=X_valid, valid_y=y_valid)\n",
                "\n",
                "# Make predictions.\n",
                "predictions = model.predict(X_valid)\n",
                "print(train_df.columns)\n",
                "\n",
                "model.get_metrics(y_valid, predictions, return_values=False)"
            ]
        },
        {
            "cell_type": "code",
            "execution_count": 10,
            "metadata": {},
            "outputs": [
                {
                    "data": {
                        "text/plain": [
                            "[<matplotlib.lines.Line2D at 0x15a95dc70>]"
                        ]
                    },
                    "execution_count": 10,
                    "metadata": {},
                    "output_type": "execute_result"
                },
                {
                    "data": {
                        "image/png": "[encoded data removed]",
                        "text/plain": [
                            "<Figure size 640x480 with 1 Axes>"
                        ]
                    },
                    "metadata": {},
                    "output_type": "display_data"
                }
            ],
            "source": [
                "plt.plot(\n",
                "    model.iters,\n",
                "    model.train_errors\n",
                ")\n",
                "\n",
                "plt.plot(\n",
                "    model.iters,\n",
                "    model.valid_errors,\n",
                "    color='r'\n",
                ")"
            ]
        },
        {
            "cell_type": "markdown",
            "metadata": {},
            "source": [
                "This has a lot of error. Let's limit the number of iterations."
            ]
        },
        {
            "cell_type": "code",
            "execution_count": 11,
            "metadata": {},
            "outputs": [
                {
                    "name": "stdout",
                    "output_type": "stream",
                    "text": [
                        "Epoch 0, cross entropy loss: 1.0986122886681096\n",
                        "Epoch 100, cross entropy loss: 0.9774939248885908\n",
                        "Index(['lat', 'lon', 'TMQ', 'U850', 'V850', 'UBOT', 'VBOT', 'QREFHT', 'PS',\n",
                        "       'PSL', 'T200', 'T500', 'PRECT', 'TS', 'TREFHT', 'Z1000', 'Z200', 'ZBOT',\n",
                        "       'lon_sin', 'lon_cos', 'PS-PSL', 'T200-T500', 'TREFHT-T200',\n",
                        "       'TREFHT-T500', 'U850-UBOT', 'V850-VBOT', 'Z200-Z1000', 'ZBOT-Z1000',\n",
                        "       'ZBOT-Z200', 'V850-U850', 'UBOT-VBOT', 'PS*PSL', 'T200*T500',\n",
                        "       'TREFHT*T200', 'TREFHT*T500', 'U850*UBOT', 'V850*VBOT', 'Z200*Z1000',\n",
                        "       'ZBOT*Z1000', 'ZBOT*Z200', 'V850*U850', 'UBOT*VBOT', 'month', 'Label'],\n",
                        "      dtype='object')\n",
                        "Confusion Matrix:\n",
                        "[[6868 2792 1969]\n",
                        " [ 105  466    7]\n",
                        " [ 664  422 1478]] \n",
                        "\n",
                        "Accuracy:\n",
                        "0.5966 \n",
                        "\n",
                        "Precision:\n",
                        "0.4846 \n",
                        "\n",
                        "Recall:\n",
                        "0.6578 \n",
                        "\n",
                        "F1 Score:\n",
                        "0.5581\n"
                    ]
                }
            ],
            "source": [
                "model = MultinomialLogisticRegression(learning_rate=0.01, num_iterations=150, regularizer=0.01)\n",
                "model.fit(X_train, y_train, collist=raw_data.columns, valid_x=X_valid, valid_y=y_valid)\n",
                "\n",
                "# Make predictions.\n",
                "predictions = model.predict(X_valid)\n",
                "print(train_df.columns)\n",
                "\n",
                "model.get_metrics(y_valid, predictions, return_values=False)"
            ]
        },
        {
            "cell_type": "code",
            "execution_count": 12,
            "metadata": {},
            "outputs": [
                {
                    "data": {
                        "text/plain": [
                            "[<matplotlib.lines.Line2D at 0x15a9ddd00>]"
                        ]
                    },
                    "execution_count": 12,
                    "metadata": {},
                    "output_type": "execute_result"
                },
                {
                    "data": {
                        "image/png": "[encoded data removed]",
                        "text/plain": [
                            "<Figure size 640x480 with 1 Axes>"
                        ]
                    },
                    "metadata": {},
                    "output_type": "display_data"
                }
            ],
            "source": [
                "plt.plot(\n",
                "    model.iters,\n",
                "    model.train_errors\n",
                ")\n",
                "\n",
                "plt.plot(\n",
                "    model.iters,\n",
                "    model.valid_errors,\n",
                "    color='r'\n",
                ")"
            ]
        },
        {
            "cell_type": "markdown",
            "metadata": {},
            "source": [
                "This has a lot of error. Let's remove some columns based on their weights."
            ]
        },
        {
            "cell_type": "code",
            "execution_count": 41,
            "metadata": {},
            "outputs": [
                {
                    "name": "stdout",
                    "output_type": "stream",
                    "text": [
                        "Index(['lat', 'lon', 'TMQ', 'U850', 'V850', 'UBOT', 'VBOT', 'QREFHT', 'PS',\n",
                        "       'PSL', 'T200', 'T500', 'PRECT', 'TS', 'TREFHT', 'Z1000', 'Z200', 'ZBOT',\n",
                        "       'lon_sin', 'lon_cos', 'PS-PSL', 'T200-T500', 'TREFHT-T200',\n",
                        "       'TREFHT-T500', 'U850-UBOT', 'V850-VBOT', 'Z200-Z1000', 'ZBOT-Z1000',\n",
                        "       'ZBOT-Z200', 'V850-U850', 'UBOT-VBOT', 'PS*PSL', 'T200*T500',\n",
                        "       'TREFHT*T200', 'TREFHT*T500', 'U850*UBOT', 'V850*VBOT', 'Z200*Z1000',\n",
                        "       'ZBOT*Z1000', 'ZBOT*Z200', 'V850*U850', 'UBOT*VBOT', 'month', 'Label'],\n",
                        "      dtype='object')\n",
                        "Epoch 0, cross entropy loss: 1.0986122886681096\n",
                        "Epoch 100, cross entropy loss: 0.9774939248885908\n",
                        "Epoch 200, cross entropy loss: 0.972920866401118\n",
                        "Epoch 300, cross entropy loss: 0.9837783024688341\n",
                        "Epoch 400, cross entropy loss: 1.000031284845685\n",
                        "Epoch 500, cross entropy loss: 1.018611341271762\n",
                        "Epoch 600, cross entropy loss: 1.038179766627913\n",
                        "Epoch 700, cross entropy loss: 1.0580245104286463\n",
                        "Epoch 800, cross entropy loss: 1.0777375380597884\n",
                        "Epoch 900, cross entropy loss: 1.0970853993862166\n",
                        "Index(['lat', 'lon', 'TMQ', 'U850', 'V850', 'UBOT', 'VBOT', 'QREFHT', 'PS',\n",
                        "       'PSL', 'T200', 'T500', 'PRECT', 'TS', 'TREFHT', 'Z1000', 'Z200', 'ZBOT',\n",
                        "       'lon_sin', 'lon_cos', 'PS-PSL', 'T200-T500', 'TREFHT-T200',\n",
                        "       'TREFHT-T500', 'U850-UBOT', 'V850-VBOT', 'Z200-Z1000', 'ZBOT-Z1000',\n",
                        "       'ZBOT-Z200', 'V850-U850', 'UBOT-VBOT', 'PS*PSL', 'T200*T500',\n",
                        "       'TREFHT*T200', 'TREFHT*T500', 'U850*UBOT', 'V850*VBOT', 'Z200*Z1000',\n",
                        "       'ZBOT*Z1000', 'ZBOT*Z200', 'V850*U850', 'UBOT*VBOT', 'month', 'Label'],\n",
                        "      dtype='object')\n",
                        "Confusion Matrix:\n",
                        "[[4790 4872 1967]\n",
                        " [  44  534    0]\n",
                        " [ 203  702 1659]] \n",
                        "\n",
                        "Accuracy:\n",
                        "0.4728 \n",
                        "\n",
                        "Precision:\n",
                        "0.4986 \n",
                        "\n",
                        "Recall:\n",
                        "0.6609 \n",
                        "\n",
                        "F1 Score:\n",
                        "0.5684\n"
                    ]
                }
            ],
            "source": [
                "cols = ['lat', 'TS', 'TMQ', 'U850', 'PS', 'Z1000', 'PSL', 'Z200', 'lon', 'UBOT', 'T500',\"SNo\", \"time\",\n",
                "        \"Label\"]\n",
                "\n",
                "raw_data_sel = raw_data[cols]\n",
                "train_df, train_data = preproc.preprocess_data(raw_data, drop_cols=[\"SNo\", \"time\"])\n",
                "\n",
                "np.random.shuffle(train_data)\n",
                "X_train, y_train, X_valid, y_valid = preproc.train_valid_split(\n",
                "    train_df.to_numpy(), test_size=0.33 #, random_state=42\n",
                ")\n",
                "\n",
                "print(train_df.columns)\n",
                "\n",
                "X_train = preproc.normalize_data(X_train)\n",
                "X_valid = preproc.normalize_data(X_valid)\n",
                "\n",
                "train_df_norm = preproc.normalize_data(train_df.to_numpy())\n",
                "\n",
                "model = MultinomialLogisticRegression(learning_rate=0.01, num_iterations=1000, regularizer=0.01)\n",
                "model.fit(X_train, y_train, collist=raw_data.columns, valid_x=X_valid, valid_y=y_valid)\n",
                "\n",
                "# Make predictions.\n",
                "predictions = model.predict(X_valid)\n",
                "print(train_df.columns)\n",
                "\n",
                "model.get_metrics(y_valid, predictions, return_values=False)"
            ]
        },
        {
            "cell_type": "markdown",
            "metadata": {},
            "source": [
                "Retrieveing the features absolute weights"
            ]
        },
        {
            "cell_type": "code",
            "execution_count": 42,
            "metadata": {},
            "outputs": [
                {
                    "data": {
                        "text/html": [
                            "<div>\n",
                            "<style scoped>\n",
                            "    .dataframe tbody tr th:only-of-type {\n",
                            "        vertical-align: middle;\n",
                            "    }\n",
                            "\n",
                            "    .dataframe tbody tr th {\n",
                            "        vertical-align: top;\n",
                            "    }\n",
                            "\n",
                            "    .dataframe thead th {\n",
                            "        text-align: right;\n",
                            "    }\n",
                            "</style>\n",
                            "<table border=\"1\" class=\"dataframe\">\n",
                            "  <thead>\n",
                            "    <tr style=\"text-align: right;\">\n",
                            "      <th></th>\n",
                            "      <th>0</th>\n",
                            "      <th>1</th>\n",
                            "      <th>2</th>\n",
                            "    </tr>\n",
                            "  </thead>\n",
                            "  <tbody>\n",
                            "    <tr>\n",
                            "      <th>lat</th>\n",
                            "      <td>0.324961</td>\n",
                            "      <td>0.013771</td>\n",
                            "      <td>0.338733</td>\n",
                            "    </tr>\n",
                            "    <tr>\n",
                            "      <th>U850-UBOT</th>\n",
                            "      <td>0.131747</td>\n",
                            "      <td>0.025141</td>\n",
                            "      <td>0.156888</td>\n",
                            "    </tr>\n",
                            "    <tr>\n",
                            "      <th>U850</th>\n",
                            "      <td>0.155688</td>\n",
                            "      <td>0.004743</td>\n",
                            "      <td>0.150945</td>\n",
                            "    </tr>\n",
                            "    <tr>\n",
                            "      <th>U850*UBOT</th>\n",
                            "      <td>0.383028</td>\n",
                            "      <td>0.233948</td>\n",
                            "      <td>0.149080</td>\n",
                            "    </tr>\n",
                            "    <tr>\n",
                            "      <th>UBOT*VBOT</th>\n",
                            "      <td>0.183823</td>\n",
                            "      <td>0.042095</td>\n",
                            "      <td>0.141729</td>\n",
                            "    </tr>\n",
                            "    <tr>\n",
                            "      <th>TMQ</th>\n",
                            "      <td>0.192941</td>\n",
                            "      <td>0.075634</td>\n",
                            "      <td>0.117307</td>\n",
                            "    </tr>\n",
                            "    <tr>\n",
                            "      <th>V850-U850</th>\n",
                            "      <td>0.115491</td>\n",
                            "      <td>0.001807</td>\n",
                            "      <td>0.117298</td>\n",
                            "    </tr>\n",
                            "    <tr>\n",
                            "      <th>TS</th>\n",
                            "      <td>0.145043</td>\n",
                            "      <td>0.028938</td>\n",
                            "      <td>0.116105</td>\n",
                            "    </tr>\n",
                            "    <tr>\n",
                            "      <th>V850*VBOT</th>\n",
                            "      <td>0.315058</td>\n",
                            "      <td>0.209997</td>\n",
                            "      <td>0.105061</td>\n",
                            "    </tr>\n",
                            "    <tr>\n",
                            "      <th>lon_cos</th>\n",
                            "      <td>0.052749</td>\n",
                            "      <td>0.026765</td>\n",
                            "      <td>0.079514</td>\n",
                            "    </tr>\n",
                            "    <tr>\n",
                            "      <th>UBOT</th>\n",
                            "      <td>0.097631</td>\n",
                            "      <td>0.020407</td>\n",
                            "      <td>0.077224</td>\n",
                            "    </tr>\n",
                            "    <tr>\n",
                            "      <th>V850*U850</th>\n",
                            "      <td>0.170776</td>\n",
                            "      <td>0.094570</td>\n",
                            "      <td>0.076205</td>\n",
                            "    </tr>\n",
                            "    <tr>\n",
                            "      <th>lon</th>\n",
                            "      <td>0.039761</td>\n",
                            "      <td>0.030425</td>\n",
                            "      <td>0.070187</td>\n",
                            "    </tr>\n",
                            "    <tr>\n",
                            "      <th>lon_sin</th>\n",
                            "      <td>0.081895</td>\n",
                            "      <td>0.012062</td>\n",
                            "      <td>0.069832</td>\n",
                            "    </tr>\n",
                            "    <tr>\n",
                            "      <th>UBOT-VBOT</th>\n",
                            "      <td>0.057149</td>\n",
                            "      <td>0.011740</td>\n",
                            "      <td>0.045410</td>\n",
                            "    </tr>\n",
                            "    <tr>\n",
                            "      <th>PRECT</th>\n",
                            "      <td>0.096305</td>\n",
                            "      <td>0.057358</td>\n",
                            "      <td>0.038947</td>\n",
                            "    </tr>\n",
                            "    <tr>\n",
                            "      <th>TREFHT*T200</th>\n",
                            "      <td>0.025689</td>\n",
                            "      <td>0.000210</td>\n",
                            "      <td>0.025899</td>\n",
                            "    </tr>\n",
                            "    <tr>\n",
                            "      <th>QREFHT</th>\n",
                            "      <td>0.045201</td>\n",
                            "      <td>0.020010</td>\n",
                            "      <td>0.025191</td>\n",
                            "    </tr>\n",
                            "    <tr>\n",
                            "      <th>T200*T500</th>\n",
                            "      <td>0.011059</td>\n",
                            "      <td>0.009782</td>\n",
                            "      <td>0.020841</td>\n",
                            "    </tr>\n",
                            "    <tr>\n",
                            "      <th>TREFHT*T500</th>\n",
                            "      <td>0.017245</td>\n",
                            "      <td>0.003048</td>\n",
                            "      <td>0.020294</td>\n",
                            "    </tr>\n",
                            "    <tr>\n",
                            "      <th>TREFHT</th>\n",
                            "      <td>0.025234</td>\n",
                            "      <td>0.005062</td>\n",
                            "      <td>0.020172</td>\n",
                            "    </tr>\n",
                            "    <tr>\n",
                            "      <th>VBOT</th>\n",
                            "      <td>0.025917</td>\n",
                            "      <td>0.005768</td>\n",
                            "      <td>0.020148</td>\n",
                            "    </tr>\n",
                            "    <tr>\n",
                            "      <th>month</th>\n",
                            "      <td>0.030979</td>\n",
                            "      <td>0.011452</td>\n",
                            "      <td>0.019527</td>\n",
                            "    </tr>\n",
                            "    <tr>\n",
                            "      <th>PS*PSL</th>\n",
                            "      <td>0.080039</td>\n",
                            "      <td>0.061357</td>\n",
                            "      <td>0.018682</td>\n",
                            "    </tr>\n",
                            "    <tr>\n",
                            "      <th>PS</th>\n",
                            "      <td>0.080047</td>\n",
                            "      <td>0.063064</td>\n",
                            "      <td>0.016983</td>\n",
                            "    </tr>\n",
                            "    <tr>\n",
                            "      <th>T200</th>\n",
                            "      <td>0.013357</td>\n",
                            "      <td>0.003491</td>\n",
                            "      <td>0.016848</td>\n",
                            "    </tr>\n",
                            "    <tr>\n",
                            "      <th>PSL</th>\n",
                            "      <td>0.080136</td>\n",
                            "      <td>0.063506</td>\n",
                            "      <td>0.016630</td>\n",
                            "    </tr>\n",
                            "    <tr>\n",
                            "      <th>TREFHT-T500</th>\n",
                            "      <td>0.035526</td>\n",
                            "      <td>0.020127</td>\n",
                            "      <td>0.015399</td>\n",
                            "    </tr>\n",
                            "    <tr>\n",
                            "      <th>V850-VBOT</th>\n",
                            "      <td>0.008308</td>\n",
                            "      <td>0.006099</td>\n",
                            "      <td>0.014407</td>\n",
                            "    </tr>\n",
                            "    <tr>\n",
                            "      <th>Z1000</th>\n",
                            "      <td>0.004693</td>\n",
                            "      <td>0.009028</td>\n",
                            "      <td>0.013721</td>\n",
                            "    </tr>\n",
                            "    <tr>\n",
                            "      <th>ZBOT-Z1000</th>\n",
                            "      <td>0.004471</td>\n",
                            "      <td>0.008855</td>\n",
                            "      <td>0.013326</td>\n",
                            "    </tr>\n",
                            "    <tr>\n",
                            "      <th>T500</th>\n",
                            "      <td>0.003457</td>\n",
                            "      <td>0.008706</td>\n",
                            "      <td>0.012163</td>\n",
                            "    </tr>\n",
                            "    <tr>\n",
                            "      <th>PS-PSL</th>\n",
                            "      <td>0.001717</td>\n",
                            "      <td>0.010319</td>\n",
                            "      <td>0.012036</td>\n",
                            "    </tr>\n",
                            "    <tr>\n",
                            "      <th>V850</th>\n",
                            "      <td>0.022435</td>\n",
                            "      <td>0.011090</td>\n",
                            "      <td>0.011346</td>\n",
                            "    </tr>\n",
                            "    <tr>\n",
                            "      <th>TREFHT-T200</th>\n",
                            "      <td>0.018360</td>\n",
                            "      <td>0.007370</td>\n",
                            "      <td>0.010990</td>\n",
                            "    </tr>\n",
                            "    <tr>\n",
                            "      <th>Z200-Z1000</th>\n",
                            "      <td>0.002504</td>\n",
                            "      <td>0.007458</td>\n",
                            "      <td>0.009962</td>\n",
                            "    </tr>\n",
                            "    <tr>\n",
                            "      <th>ZBOT-Z200</th>\n",
                            "      <td>0.001588</td>\n",
                            "      <td>0.006223</td>\n",
                            "      <td>0.007811</td>\n",
                            "    </tr>\n",
                            "    <tr>\n",
                            "      <th>Z200</th>\n",
                            "      <td>0.001529</td>\n",
                            "      <td>0.006173</td>\n",
                            "      <td>0.007702</td>\n",
                            "    </tr>\n",
                            "    <tr>\n",
                            "      <th>ZBOT</th>\n",
                            "      <td>0.006083</td>\n",
                            "      <td>0.001068</td>\n",
                            "      <td>0.007151</td>\n",
                            "    </tr>\n",
                            "    <tr>\n",
                            "      <th>Z200*Z1000</th>\n",
                            "      <td>0.000705</td>\n",
                            "      <td>0.006531</td>\n",
                            "      <td>0.005826</td>\n",
                            "    </tr>\n",
                            "    <tr>\n",
                            "      <th>ZBOT*Z200</th>\n",
                            "      <td>0.005286</td>\n",
                            "      <td>0.001034</td>\n",
                            "      <td>0.004252</td>\n",
                            "    </tr>\n",
                            "    <tr>\n",
                            "      <th>ZBOT*Z1000</th>\n",
                            "      <td>0.001535</td>\n",
                            "      <td>0.005413</td>\n",
                            "      <td>0.003878</td>\n",
                            "    </tr>\n",
                            "    <tr>\n",
                            "      <th>T200-T500</th>\n",
                            "      <td>0.005562</td>\n",
                            "      <td>0.006622</td>\n",
                            "      <td>0.001060</td>\n",
                            "    </tr>\n",
                            "  </tbody>\n",
                            "</table>\n",
                            "</div>"
                        ],
                        "text/plain": [
                            "                    0         1         2\n",
                            "lat          0.324961  0.013771  0.338733\n",
                            "U850-UBOT    0.131747  0.025141  0.156888\n",
                            "U850         0.155688  0.004743  0.150945\n",
                            "U850*UBOT    0.383028  0.233948  0.149080\n",
                            "UBOT*VBOT    0.183823  0.042095  0.141729\n",
                            "TMQ          0.192941  0.075634  0.117307\n",
                            "V850-U850    0.115491  0.001807  0.117298\n",
                            "TS           0.145043  0.028938  0.116105\n",
                            "V850*VBOT    0.315058  0.209997  0.105061\n",
                            "lon_cos      0.052749  0.026765  0.079514\n",
                            "UBOT         0.097631  0.020407  0.077224\n",
                            "V850*U850    0.170776  0.094570  0.076205\n",
                            "lon          0.039761  0.030425  0.070187\n",
                            "lon_sin      0.081895  0.012062  0.069832\n",
                            "UBOT-VBOT    0.057149  0.011740  0.045410\n",
                            "PRECT        0.096305  0.057358  0.038947\n",
                            "TREFHT*T200  0.025689  0.000210  0.025899\n",
                            "QREFHT       0.045201  0.020010  0.025191\n",
                            "T200*T500    0.011059  0.009782  0.020841\n",
                            "TREFHT*T500  0.017245  0.003048  0.020294\n",
                            "TREFHT       0.025234  0.005062  0.020172\n",
                            "VBOT         0.025917  0.005768  0.020148\n",
                            "month        0.030979  0.011452  0.019527\n",
                            "PS*PSL       0.080039  0.061357  0.018682\n",
                            "PS           0.080047  0.063064  0.016983\n",
                            "T200         0.013357  0.003491  0.016848\n",
                            "PSL          0.080136  0.063506  0.016630\n",
                            "TREFHT-T500  0.035526  0.020127  0.015399\n",
                            "V850-VBOT    0.008308  0.006099  0.014407\n",
                            "Z1000        0.004693  0.009028  0.013721\n",
                            "ZBOT-Z1000   0.004471  0.008855  0.013326\n",
                            "T500         0.003457  0.008706  0.012163\n",
                            "PS-PSL       0.001717  0.010319  0.012036\n",
                            "V850         0.022435  0.011090  0.011346\n",
                            "TREFHT-T200  0.018360  0.007370  0.010990\n",
                            "Z200-Z1000   0.002504  0.007458  0.009962\n",
                            "ZBOT-Z200    0.001588  0.006223  0.007811\n",
                            "Z200         0.001529  0.006173  0.007702\n",
                            "ZBOT         0.006083  0.001068  0.007151\n",
                            "Z200*Z1000   0.000705  0.006531  0.005826\n",
                            "ZBOT*Z200    0.005286  0.001034  0.004252\n",
                            "ZBOT*Z1000   0.001535  0.005413  0.003878\n",
                            "T200-T500    0.005562  0.006622  0.001060"
                        ]
                    },
                    "execution_count": 42,
                    "metadata": {},
                    "output_type": "execute_result"
                }
            ],
            "source": [
                "weights = pd.DataFrame(model.weights, index=['lat', 'lon', 'TMQ', 'U850', 'V850', 'UBOT', 'VBOT', 'QREFHT', 'PS',\n",
                "       'PSL', 'T200', 'T500', 'PRECT', 'TS', 'TREFHT', 'Z1000', 'Z200', 'ZBOT',\n",
                "       'lon_sin', 'lon_cos', 'PS-PSL', 'T200-T500', 'TREFHT-T200',\n",
                "       'TREFHT-T500', 'U850-UBOT', 'V850-VBOT', 'Z200-Z1000', 'ZBOT-Z1000',\n",
                "       'ZBOT-Z200', 'V850-U850', 'UBOT-VBOT', 'PS*PSL', 'T200*T500',\n",
                "       'TREFHT*T200', 'TREFHT*T500', 'U850*UBOT', 'V850*VBOT', 'Z200*Z1000',\n",
                "       'ZBOT*Z1000', 'ZBOT*Z200', 'V850*U850', 'UBOT*VBOT', 'month',], columns=[0,1,2])\n",
                "weights.abs().sort_values(by=[0], ascending=False)"
            ]
        },
        {
            "cell_type": "markdown",
            "metadata": {},
            "source": [
                "Let's train the model again."
            ]
        },
        {
            "cell_type": "code",
            "execution_count": 9,
            "metadata": {},
            "outputs": [
                {
                    "name": "stdout",
                    "output_type": "stream",
                    "text": [
                        "Index(['lat', 'lon', 'TMQ', 'U850', 'V850', 'UBOT', 'VBOT', 'QREFHT', 'PS',\n",
                        "       'PSL', 'T200', 'T500', 'PRECT', 'TS', 'TREFHT', 'Z1000', 'Z200', 'ZBOT',\n",
                        "       'lon_sin', 'lon_cos', 'PS-PSL', 'T200-T500', 'TREFHT-T200',\n",
                        "       'TREFHT-T500', 'U850-UBOT', 'V850-VBOT', 'Z200-Z1000', 'ZBOT-Z1000',\n",
                        "       'ZBOT-Z200', 'V850-U850', 'UBOT-VBOT', 'PS*PSL', 'T200*T500',\n",
                        "       'TREFHT*T200', 'TREFHT*T500', 'U850*UBOT', 'V850*VBOT', 'Z200*Z1000',\n",
                        "       'ZBOT*Z1000', 'ZBOT*Z200', 'V850*U850', 'UBOT*VBOT', 'month', 'Label'],\n",
                        "      dtype='object')\n",
                        "Epoch 0, cross entropy loss: 1.0986122886681096\n",
                        "Epoch 100, cross entropy loss: 0.9774939248885908\n",
                        "Epoch 200, cross entropy loss: 0.972920866401118\n",
                        "Epoch 300, cross entropy loss: 0.9837783024688341\n",
                        "Epoch 400, cross entropy loss: 1.000031284845685\n",
                        "Epoch 500, cross entropy loss: 1.018611341271762\n",
                        "Epoch 600, cross entropy loss: 1.038179766627913\n",
                        "Epoch 700, cross entropy loss: 1.0580245104286463\n",
                        "Epoch 800, cross entropy loss: 1.0777375380597884\n",
                        "Epoch 900, cross entropy loss: 1.0970853993862166\n",
                        "Index(['lat', 'lon', 'TMQ', 'U850', 'V850', 'UBOT', 'VBOT', 'QREFHT', 'PS',\n",
                        "       'PSL', 'T200', 'T500', 'PRECT', 'TS', 'TREFHT', 'Z1000', 'Z200', 'ZBOT',\n",
                        "       'lon_sin', 'lon_cos', 'PS-PSL', 'T200-T500', 'TREFHT-T200',\n",
                        "       'TREFHT-T500', 'U850-UBOT', 'V850-VBOT', 'Z200-Z1000', 'ZBOT-Z1000',\n",
                        "       'ZBOT-Z200', 'V850-U850', 'UBOT-VBOT', 'PS*PSL', 'T200*T500',\n",
                        "       'TREFHT*T200', 'TREFHT*T500', 'U850*UBOT', 'V850*VBOT', 'Z200*Z1000',\n",
                        "       'ZBOT*Z1000', 'ZBOT*Z200', 'V850*U850', 'UBOT*VBOT', 'month', 'Label'],\n",
                        "      dtype='object')\n",
                        "Confusion Matrix:\n",
                        "[[4790 4872 1967]\n",
                        " [  44  534    0]\n",
                        " [ 203  702 1659]] \n",
                        "\n",
                        "Accuracy:\n",
                        "0.4728 \n",
                        "\n",
                        "Precision:\n",
                        "0.4986 \n",
                        "\n",
                        "Recall:\n",
                        "0.6609 \n",
                        "\n",
                        "F1 Score:\n",
                        "0.5684\n"
                    ]
                },
                {
                    "data": {
                        "image/png": "[encoded data removed]",
                        "text/plain": [
                            "<Figure size 640x480 with 1 Axes>"
                        ]
                    },
                    "metadata": {},
                    "output_type": "display_data"
                }
            ],
            "source": [
                "# raw_data_sel = raw_data[cols]\n",
                "train_df, train_data = preproc.preprocess_data(raw_data, drop_cols=[\"SNo\", \"time\"])\n",
                "\n",
                "np.random.shuffle(train_data)\n",
                "X_train, y_train, X_valid, y_valid = preproc.train_valid_split(\n",
                "    train_df.to_numpy(), test_size=0.33 #, random_state=42\n",
                ")\n",
                "\n",
                "print(train_df.columns)\n",
                "\n",
                "X_train = preproc.normalize_data(X_train)\n",
                "X_valid = preproc.normalize_data(X_valid)\n",
                "\n",
                "train_df_norm = preproc.normalize_data(train_df.to_numpy())\n",
                "\n",
                "model = MultinomialLogisticRegression(learning_rate=0.01, num_iterations=1000, regularizer=0.01)\n",
                "model.fit(X_train, y_train, collist=raw_data.columns, valid_x=X_valid, valid_y=y_valid)\n",
                "\n",
                "# Make predictions.\n",
                "predictions = model.predict(X_valid)\n",
                "print(train_df.columns)\n",
                "\n",
                "model.get_metrics(y_valid, predictions, return_values=False)\n",
                "\n",
                "plt.plot(\n",
                "    model.iters,\n",
                "    model.train_errors,\n",
                "    label=\"Train\"\n",
                ")\n",
                "\n",
                "plt.plot(\n",
                "    model.iters,\n",
                "    model.valid_errors,\n",
                "    label=\"Validation\",\n",
                "    color='r'\n",
                ")\n",
                "\n",
                "plt.ylabel(\"Loss\")\n",
                "plt.title(\"Original and engineered features | Learning rate = 0.01\")\n",
                "plt.xlabel(\"Epoch\")\n",
                "plt.legend()\n",
                "plt.show()"
            ]
        },
        {
            "cell_type": "markdown",
            "metadata": {},
            "source": [
                "This has a lot of error. Let's keep removing some columns based on their weights."
            ]
        },
        {
            "cell_type": "code",
            "execution_count": 47,
            "metadata": {},
            "outputs": [
                {
                    "name": "stdout",
                    "output_type": "stream",
                    "text": [
                        "Index(['lat', 'TS', 'TMQ', 'PS', 'U850', 'UBOT', 'Z1000', 'PSL', 'Z200', 'lon',\n",
                        "       'T500', 'U850*UBOT', 'U850-UBOT', 'Label'],\n",
                        "      dtype='object')\n",
                        "Epoch 0, cross entropy loss: 1.0986122886681096\n",
                        "Epoch 100, cross entropy loss: 1.0427847606563758\n",
                        "Epoch 200, cross entropy loss: 1.0279644018344063\n",
                        "Epoch 300, cross entropy loss: 1.0202816571738655\n",
                        "Epoch 400, cross entropy loss: 1.0171292624851365\n",
                        "Epoch 500, cross entropy loss: 1.0174792042959293\n",
                        "Epoch 600, cross entropy loss: 1.0206398382030109\n",
                        "Epoch 700, cross entropy loss: 1.0260777718466998\n",
                        "Epoch 800, cross entropy loss: 1.033372769010684\n",
                        "Epoch 900, cross entropy loss: 1.0421957426993054\n",
                        "Index(['lat', 'TS', 'TMQ', 'PS', 'U850', 'UBOT', 'Z1000', 'PSL', 'Z200', 'lon',\n",
                        "       'T500', 'U850*UBOT', 'U850-UBOT', 'Label'],\n",
                        "      dtype='object')\n",
                        "Confusion Matrix:\n",
                        "[[5585 2311 3733]\n",
                        " [  73  488   17]\n",
                        " [ 232  139 2193]] \n",
                        "\n",
                        "Accuracy:\n",
                        "0.5596 \n",
                        "\n",
                        "Precision:\n",
                        "0.4944 \n",
                        "\n",
                        "Recall:\n",
                        "0.7266 \n",
                        "\n",
                        "F1 Score:\n",
                        "0.5885\n"
                    ]
                }
            ],
            "source": [
                "cols = ['lat', 'TS', 'TMQ',  'PS', \"U850\", \"UBOT\", 'Z1000', 'PSL', 'Z200', 'lon', 'T500', \"U850*UBOT\", \"U850-UBOT\", \n",
                "        \"Label\"]\n",
                "\n",
                "train_df, train_data = preproc.preprocess_data(raw_data, drop_cols=[\"SNo\", \"time\"])\n",
                "train_df = train_df[cols]\n",
                "\n",
                "np.random.shuffle(train_data)\n",
                "X_train, y_train, X_valid, y_valid = preproc.train_valid_split(\n",
                "    train_df.to_numpy(), test_size=0.33 #, random_state=42\n",
                ")\n",
                "\n",
                "print(train_df.columns)\n",
                "\n",
                "X_train = preproc.normalize_data(X_train)\n",
                "X_valid = preproc.normalize_data(X_valid)\n",
                "\n",
                "train_df_norm = preproc.normalize_data(train_df.to_numpy())\n",
                "\n",
                "model = MultinomialLogisticRegression(learning_rate=0.01, num_iterations=1000, regularizer=0.01)\n",
                "model.fit(X_train, y_train, collist=raw_data.columns, valid_x=X_valid, valid_y=y_valid)\n",
                "\n",
                "# Make predictions.\n",
                "predictions = model.predict(X_valid)\n",
                "print(train_df.columns)\n",
                "\n",
                "model.get_metrics(y_valid, predictions, return_values=False)"
            ]
        },
        {
            "cell_type": "code",
            "execution_count": 48,
            "metadata": {},
            "outputs": [
                {
                    "data": {
                        "text/plain": [
                            "[<matplotlib.lines.Line2D at 0x1538b75b0>]"
                        ]
                    },
                    "execution_count": 48,
                    "metadata": {},
                    "output_type": "execute_result"
                },
                {
                    "data": {
                        "image/png": "[encoded data removed]",
                        "text/plain": [
                            "<Figure size 640x480 with 1 Axes>"
                        ]
                    },
                    "metadata": {},
                    "output_type": "display_data"
                }
            ],
            "source": [
                "plt.plot(\n",
                "    model.iters,\n",
                "    model.train_errors\n",
                ")\n",
                "\n",
                "plt.plot(\n",
                "    model.iters,\n",
                "    model.valid_errors,\n",
                "    color='r'\n",
                ")"
            ]
        },
        {
            "cell_type": "markdown",
            "metadata": {},
            "source": [
                "Removing more columns"
            ]
        },
        {
            "cell_type": "code",
            "execution_count": 15,
            "metadata": {},
            "outputs": [
                {
                    "name": "stdout",
                    "output_type": "stream",
                    "text": [
                        "Index(['lat', 'TS', 'TMQ', 'PS', 'Z1000', 'PSL', 'Z200', 'lon', 'T500',\n",
                        "       'U850*UBOT', 'U850-UBOT', 'Label'],\n",
                        "      dtype='object')\n",
                        "Epoch 0, cross entropy loss: 1.0986122886681096\n",
                        "Epoch 100, cross entropy loss: 0.9612548810019955\n",
                        "Epoch 200, cross entropy loss: 0.8915496476984809\n",
                        "Epoch 300, cross entropy loss: 0.8475207155184781\n",
                        "Epoch 400, cross entropy loss: 0.8187143091739096\n",
                        "Epoch 500, cross entropy loss: 0.7994493976649334\n",
                        "Epoch 600, cross entropy loss: 0.7863722494915486\n",
                        "Epoch 700, cross entropy loss: 0.7774216404097869\n",
                        "Epoch 800, cross entropy loss: 0.7712832799452163\n",
                        "Epoch 900, cross entropy loss: 0.7670912566496082\n",
                        "Index(['lat', 'TS', 'TMQ', 'PS', 'Z1000', 'PSL', 'Z200', 'lon', 'T500',\n",
                        "       'U850*UBOT', 'U850-UBOT', 'Label'],\n",
                        "      dtype='object')\n",
                        "Confusion Matrix:\n",
                        "[[10156   674   799]\n",
                        " [  247   331     0]\n",
                        " [ 1397   222   945]] \n",
                        "\n",
                        "Accuracy:\n",
                        "0.7739 \n",
                        "\n",
                        "Precision:\n",
                        "0.5574 \n",
                        "\n",
                        "Recall:\n",
                        "0.6049 \n",
                        "\n",
                        "F1 Score:\n",
                        "0.5802\n"
                    ]
                }
            ],
            "source": [
                "cols = ['lat', 'TS', 'TMQ',  'PS', 'Z1000', 'PSL', 'Z200', 'lon', 'T500', \"U850*UBOT\", \"U850-UBOT\", \n",
                "        \"Label\"]\n",
                "raw_data = preproc.load_data(raw_train_data)\n",
                "train_df, train_data = preproc.preprocess_data(raw_data, drop_cols=[\"SNo\", \"time\"])\n",
                "train_df = train_df[cols]\n",
                "\n",
                "np.random.shuffle(train_data)\n",
                "X_train, y_train, X_valid, y_valid = preproc.train_valid_split(\n",
                "    train_df.to_numpy(), test_size=0.33 #, random_state=42\n",
                ")\n",
                "\n",
                "print(train_df.columns)\n",
                "\n",
                "X_train = preproc.normalize_data(X_train)\n",
                "X_valid = preproc.normalize_data(X_valid)\n",
                "\n",
                "train_df_norm = preproc.normalize_data(train_df.to_numpy())\n",
                "\n",
                "model = MultinomialLogisticRegression(learning_rate=0.01, num_iterations=1000, regularizer=0.01)\n",
                "model.fit(X_train, y_train, collist=raw_data.columns, valid_x=X_valid, valid_y=y_valid)\n",
                "\n",
                "# Make predictions.\n",
                "predictions = model.predict(X_valid)\n",
                "print(train_df.columns)\n",
                "\n",
                "model.get_metrics(y_valid, predictions, return_values=False)"
            ]
        },
        {
            "cell_type": "code",
            "execution_count": 55,
            "metadata": {},
            "outputs": [
                {
                    "data": {
                        "text/plain": [
                            "[<matplotlib.lines.Line2D at 0x153acab20>]"
                        ]
                    },
                    "execution_count": 55,
                    "metadata": {},
                    "output_type": "execute_result"
                },
                {
                    "data": {
                        "image/png": "[encoded data removed]",
                        "text/plain": [
                            "<Figure size 640x480 with 1 Axes>"
                        ]
                    },
                    "metadata": {},
                    "output_type": "display_data"
                }
            ],
            "source": [
                "plt.plot(\n",
                "    model.iters,\n",
                "    model.train_errors\n",
                ")\n",
                "\n",
                "plt.plot(\n",
                "    model.iters,\n",
                "    model.valid_errors,\n",
                "    color='r'\n",
                ")"
            ]
        },
        {
            "cell_type": "markdown",
            "metadata": {},
            "source": [
                "Ok, I could prevent the model error from exploding. Let's submit."
            ]
        },
        {
            "cell_type": "markdown",
            "metadata": {},
            "source": [
                "Training the model with all data"
            ]
        },
        {
            "cell_type": "code",
            "execution_count": 6,
            "metadata": {},
            "outputs": [
                {
                    "name": "stdout",
                    "output_type": "stream",
                    "text": [
                        "Index(['lat', 'TS', 'TMQ', 'PS', 'Z1000', 'PSL', 'Z200', 'lon', 'T500',\n",
                        "       'U850*UBOT', 'U850-UBOT', 'Label'],\n",
                        "      dtype='object')\n",
                        "Epoch 0, cross entropy loss: 1.0986122886681093\n",
                        "Epoch 100, cross entropy loss: 0.9623947497702539\n",
                        "Epoch 200, cross entropy loss: 0.8932224760518804\n",
                        "Epoch 300, cross entropy loss: 0.8495706537052896\n",
                        "Epoch 400, cross entropy loss: 0.8210712410505046\n",
                        "Epoch 500, cross entropy loss: 0.8020855757845338\n",
                        "Epoch 600, cross entropy loss: 0.78927777599367\n",
                        "Epoch 700, cross entropy loss: 0.7805923917720777\n",
                        "Epoch 800, cross entropy loss: 0.7747155039977848\n",
                        "Epoch 900, cross entropy loss: 0.770779432689587\n",
                        "Index(['lat', 'TS', 'TMQ', 'PS', 'Z1000', 'PSL', 'Z200', 'lon', 'T500',\n",
                        "       'U850*UBOT', 'U850-UBOT', 'Label'],\n",
                        "      dtype='object')\n",
                        "Confusion Matrix:\n",
                        "[[0 0 0]\n",
                        " [0 0 0]\n",
                        " [1 0 0]] \n",
                        "\n",
                        "Accuracy:\n",
                        "0.7859 \n",
                        "\n",
                        "Precision:\n",
                        "0.262 \n",
                        "\n",
                        "Recall:\n",
                        "0.3333 \n",
                        "\n",
                        "F1 Score:\n",
                        "0.2934\n"
                    ]
                }
            ],
            "source": [
                "cols = ['lat', 'TS', 'TMQ',  'PS', 'Z1000', 'PSL', 'Z200', 'lon', 'T500', \"U850*UBOT\", \"U850-UBOT\", \n",
                "        \"Label\"]\n",
                "raw_data = preproc.load_data(raw_train_data)\n",
                "train_df, train_data = preproc.preprocess_data(raw_data, drop_cols=[\"SNo\", \"time\"])\n",
                "train_df = train_df[cols]\n",
                "\n",
                "np.random.shuffle(train_data)\n",
                "X_train, y_train, X_valid, y_valid = preproc.train_valid_split(\n",
                "    train_df.to_numpy(), test_size=1 #, random_state=42\n",
                ")\n",
                "\n",
                "print(train_df.columns)\n",
                "\n",
                "X_train = preproc.normalize_data(X_train)\n",
                "# X_valid = preproc.normalize_data(X_valid)\n",
                "\n",
                "train_df_norm = preproc.normalize_data(train_df.to_numpy())\n",
                "\n",
                "model = MultinomialLogisticRegression(learning_rate=0.01, num_iterations=1000, regularizer=0.01)\n",
                "model.fit(X_train, y_train, collist=raw_data.columns, valid_x=X_train, valid_y=y_train)\n",
                "\n",
                "# Make predictions.\n",
                "predictions = model.predict(X_valid)\n",
                "print(train_df.columns)\n",
                "\n",
                "model.get_metrics(y_train, predictions, return_values=False)"
            ]
        },
        {
            "cell_type": "markdown",
            "metadata": {},
            "source": [
                "---"
            ]
        },
        {
            "cell_type": "code",
            "execution_count": 16,
            "metadata": {},
            "outputs": [],
            "source": [
                "preproc = Preprocess()\n",
                "raw_data = preproc.load_data(raw_test_data)\n",
                "\n",
                "test_df, test_data = preproc.preprocess_data(raw_data, drop_cols=[\"SNo\", \"time\"], is_test=True)\n",
                "\n",
                "test_data = test_df[['lat', 'TS', 'TMQ', 'PS', 'Z1000', 'PSL', 'Z200', 'lon', 'T500',\n",
                "       'U850*UBOT', 'U850-UBOT',]].to_numpy()\n",
                "\n",
                "test_data = preproc.normalize_data(test_data)"
            ]
        },
        {
            "cell_type": "code",
            "execution_count": 17,
            "metadata": {},
            "outputs": [
                {
                    "data": {
                        "text/plain": [
                            "(10320, 11)"
                        ]
                    },
                    "execution_count": 17,
                    "metadata": {},
                    "output_type": "execute_result"
                }
            ],
            "source": [
                "test_data.shape"
            ]
        },
        {
            "cell_type": "code",
            "execution_count": 18,
            "metadata": {},
            "outputs": [],
            "source": [
                "y_pred_test = model.predict(X=test_data)"
            ]
        },
        {
            "cell_type": "code",
            "execution_count": 19,
            "metadata": {},
            "outputs": [
                {
                    "data": {
                        "text/plain": [
                            "0    0.794671\n",
                            "2    0.124031\n",
                            "1    0.081298\n",
                            "dtype: float64"
                        ]
                    },
                    "execution_count": 19,
                    "metadata": {},
                    "output_type": "execute_result"
                }
            ],
            "source": [
                "pd.DataFrame(y_pred_test).value_counts(normalize=True)"
            ]
        },
        {
            "cell_type": "code",
            "execution_count": 60,
            "metadata": {},
            "outputs": [],
            "source": [
                "submition = raw_data['SNo'].reset_index().copy()\n",
                "submition['Label'] = pd.Series(y_pred_test)\n",
                "submition.drop(\"index\", axis=1, inplace=True)\n",
                "submition.to_csv(f\"predictions_{datetime.now()}_rm_dupls_top_cols_feateng.csv\", index=False)"
            ]
        },
        {
            "cell_type": "markdown",
            "metadata": {},
            "source": [
                "Submission: 0.738"
            ]
        }
    ],
    "metadata": {
        "kernelspec": {
            "display_name": "dc1-env",
            "language": "python",
            "name": "python3"
        },
        "language_info": {
            "codemirror_mode": {
                "name": "ipython",
                "version": 3
            },
            "file_extension": ".py",
            "mimetype": "text/x-python",
            "name": "python",
            "nbconvert_exporter": "python",
            "pygments_lexer": "ipython3",
            "version": "3.9.18"
        }
    },
    "nbformat": 4,
    "nbformat_minor": 2
}
