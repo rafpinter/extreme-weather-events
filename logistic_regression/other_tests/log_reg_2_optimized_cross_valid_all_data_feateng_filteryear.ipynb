{
 "cells": [
  {
   "cell_type": "code",
   "execution_count": 18,
   "metadata": {},
   "outputs": [
    {
     "name": "stdout",
     "output_type": "stream",
     "text": [
      "The autoreload extension is already loaded. To reload it, use:\n",
      "  %reload_ext autoreload\n"
     ]
    }
   ],
   "source": [
    "%load_ext autoreload\n",
    "%autoreload 2"
   ]
  },
  {
   "cell_type": "code",
   "execution_count": 19,
   "metadata": {},
   "outputs": [],
   "source": [
    "from multinomial_kernel import MultinomialLogisticRegression\n",
    "from preprocess import Preprocess\n",
    "import numpy as np\n",
    "import pandas as pd\n",
    "from datetime import datetime\n",
    "import matplotlib.pyplot as plt"
   ]
  },
  {
   "cell_type": "code",
   "execution_count": 20,
   "metadata": {},
   "outputs": [],
   "source": [
    "raw_train_data = \"../../data/train.csv\"\n",
    "raw_test_data = \"../../data/test.csv\""
   ]
  },
  {
   "cell_type": "code",
   "execution_count": 21,
   "metadata": {},
   "outputs": [
    {
     "name": "stdout",
     "output_type": "stream",
     "text": [
      "Index(['lat', 'TS', 'TMQ', 'U850', 'PS', 'Z1000', 'PSL', 'Z200', 'lon', 'UBOT',\n",
      "       'T500', 'Label'],\n",
      "      dtype='object')\n"
     ]
    }
   ],
   "source": [
    "preproc = Preprocess()\n",
    "raw_data = preproc.load_data(raw_train_data)\n",
    "\n",
    "train_df = raw_data[raw_data['time'] < 20090101]\n",
    "valid_df = raw_data[raw_data['time'] >= 20090101]\n",
    "\n",
    "cols = ['lat', 'TS', 'TMQ', 'U850', 'PS', 'Z1000', 'PSL', 'Z200', 'lon', 'UBOT', 'T500',\n",
    "        \"Label\"]\n",
    "\n",
    "train_df, train_data = preproc.preprocess_data(train_df, drop_cols=[\"SNo\", \"time\"])\n",
    "train_df = train_df[cols]\n",
    "\n",
    "valid_df, valid_data = preproc.preprocess_data(valid_df, drop_cols=[\"SNo\", \"time\"])\n",
    "valid_df = valid_df[cols]\n",
    "\n",
    "# np.random.shuffle(train_df)\n",
    "X_train = train_df.drop(\"Label\", axis=1).to_numpy()\n",
    "y_train = train_df[\"Label\"]#.to_numpy()\n",
    "\n",
    "# np.random.shuffle(valid_df)\n",
    "X_valid = valid_df.drop(\"Label\", axis=1).to_numpy()\n",
    "y_valid = valid_df[\"Label\"]#.to_numpy()\n",
    "\n",
    "print(train_df.columns)\n",
    "\n",
    "X_train = preproc.normalize_data(X_train)\n",
    "X_valid = preproc.normalize_data(X_valid)\n",
    "\n",
    "train_df_norm = preproc.normalize_data(train_df.to_numpy())"
   ]
  },
  {
   "cell_type": "code",
   "execution_count": 24,
   "metadata": {},
   "outputs": [
    {
     "name": "stderr",
     "output_type": "stream",
     "text": [
      "/Users/rafaelapinter/Library/Mobile Documents/com~apple~CloudDocs/1.UdeM/github-projects/extreme-weather-events-ift6380/notebooks/logistic_regression/multinomial_kernel.py:111: FutureWarning: Support for multi-dimensional indexing (e.g. `obj[:, None]`) is deprecated and will be removed in a future version.  Convert to a numpy array before indexing instead.\n",
      "  (probs - (np.arange(self.num_classes) == y[:, None]).astype(int)) / len(y),\n"
     ]
    },
    {
     "name": "stdout",
     "output_type": "stream",
     "text": [
      "Epoch 0, cross entropy loss: 1.0986122886681093\n",
      "Epoch 100, cross entropy loss: 0.7463807906527501\n",
      "Epoch 200, cross entropy loss: 0.70272854864697\n",
      "Epoch 300, cross entropy loss: 0.6881895362567\n",
      "Epoch 400, cross entropy loss: 0.6804957644399963\n",
      "Epoch 500, cross entropy loss: 0.6753698184479886\n",
      "Epoch 600, cross entropy loss: 0.671515163870679\n",
      "Epoch 700, cross entropy loss: 0.6684132976093302\n",
      "Epoch 800, cross entropy loss: 0.6658146990071333\n",
      "Epoch 900, cross entropy loss: 0.6635819421695405\n",
      "Index(['lat', 'TS', 'TMQ', 'U850', 'PS', 'Z1000', 'PSL', 'Z200', 'lon', 'UBOT',\n",
      "       'T500', 'Label'],\n",
      "      dtype='object')\n",
      "Confusion Matrix:\n",
      "[[1710   38   88]\n",
      " [ 101   11    0]\n",
      " [ 192    0  260]] \n",
      "\n",
      "Accuracy:\n",
      "0.8254 \n",
      "\n",
      "Precision:\n",
      "0.6084 \n",
      "\n",
      "Recall:\n",
      "0.5349 \n",
      "\n",
      "F1 Score:\n",
      "0.5693\n"
     ]
    }
   ],
   "source": [
    "model = MultinomialLogisticRegression(learning_rate=0.1, num_iterations=1000, regularizer=0.01)\n",
    "model.fit(X_train, y_train, collist=raw_data.columns, valid_x=X_valid, valid_y=y_valid)\n",
    "\n",
    "# Make predictions.\n",
    "predictions = model.predict(X_valid)\n",
    "print(train_df.columns)\n",
    "\n",
    "model.get_metrics(y_valid, predictions, return_values=False)"
   ]
  },
  {
   "cell_type": "markdown",
   "metadata": {},
   "source": [
    "# Wrapper method"
   ]
  },
  {
   "cell_type": "code",
   "execution_count": 20,
   "metadata": {},
   "outputs": [
    {
     "name": "stderr",
     "output_type": "stream",
     "text": [
      "/Users/rafaelapinter/Library/Mobile Documents/com~apple~CloudDocs/1.UdeM/github-projects/extreme-weather-events-ift6380/notebooks/logistic_regression/multinomial_kernel.py:111: FutureWarning: Support for multi-dimensional indexing (e.g. `obj[:, None]`) is deprecated and will be removed in a future version.  Convert to a numpy array before indexing instead.\n",
      "  (probs - (np.arange(self.num_classes) == y[:, None]).astype(int)) / len(y),\n"
     ]
    },
    {
     "name": "stdout",
     "output_type": "stream",
     "text": [
      "Epoch 0, cross entropy loss: 1.0986122886681093\n",
      "Epoch 100, cross entropy loss: 0.7463807906527501\n",
      "Epoch 200, cross entropy loss: 0.70272854864697\n",
      "Epoch 300, cross entropy loss: 0.6881895362567\n",
      "Epoch 400, cross entropy loss: 0.6804957644399963\n",
      "Epoch 500, cross entropy loss: 0.6753698184479886\n",
      "Epoch 600, cross entropy loss: 0.671515163870679\n",
      "Epoch 700, cross entropy loss: 0.6684132976093302\n",
      "Epoch 800, cross entropy loss: 0.6658146990071333\n",
      "Epoch 900, cross entropy loss: 0.6635819421695405\n",
      "Index(['lat', 'TS', 'TMQ', 'U850', 'PS', 'Z1000', 'PSL', 'Z200', 'lon', 'UBOT',\n",
      "       'T500', 'Label'],\n",
      "      dtype='object')\n",
      "Confusion Matrix:\n",
      "[[1710   38   88]\n",
      " [ 101   11    0]\n",
      " [ 192    0  260]] \n",
      "\n",
      "Accuracy:\n",
      "0.8254 \n",
      "\n",
      "Precision:\n",
      "0.6084 \n",
      "\n",
      "Recall:\n",
      "0.5349 \n",
      "\n",
      "F1 Score:\n",
      "0.5693\n"
     ]
    }
   ],
   "source": [
    "model = MultinomialLogisticRegression(learning_rate=0.1, num_iterations=1000, regularizer=0.01)\n",
    "model.fit(X_train, y_train, collist=raw_data.columns, valid_x=X_valid, valid_y=y_valid)\n",
    "\n",
    "# Make predictions.\n",
    "predictions = model.predict(X_valid)\n",
    "print(train_df.columns)\n",
    "\n",
    "model.get_metrics(y_valid, predictions, return_values=False)"
   ]
  },
  {
   "cell_type": "code",
   "execution_count": 5,
   "metadata": {},
   "outputs": [
    {
     "name": "stderr",
     "output_type": "stream",
     "text": [
      "/Users/rafaelapinter/Library/Mobile Documents/com~apple~CloudDocs/1.UdeM/github-projects/extreme-weather-events-ift6380/notebooks/logistic_regression/multinomial_kernel.py:111: FutureWarning: Support for multi-dimensional indexing (e.g. `obj[:, None]`) is deprecated and will be removed in a future version.  Convert to a numpy array before indexing instead.\n",
      "  (probs - (np.arange(self.num_classes) == y[:, None]).astype(int)) / len(y),\n"
     ]
    },
    {
     "name": "stdout",
     "output_type": "stream",
     "text": [
      "Epoch 0, cross entropy loss: 1.0986122886681093\n",
      "Epoch 100, cross entropy loss: 0.7463807906527501\n",
      "Epoch 200, cross entropy loss: 0.70272854864697\n",
      "Epoch 300, cross entropy loss: 0.6881895362567\n",
      "Epoch 400, cross entropy loss: 0.6804957644399963\n",
      "Epoch 500, cross entropy loss: 0.6753698184479886\n",
      "Epoch 600, cross entropy loss: 0.671515163870679\n",
      "Epoch 700, cross entropy loss: 0.6684132976093302\n",
      "Epoch 800, cross entropy loss: 0.6658146990071333\n",
      "Epoch 900, cross entropy loss: 0.6635819421695405\n",
      "Index(['lat', 'TS', 'TMQ', 'U850', 'PS', 'Z1000', 'PSL', 'Z200', 'lon', 'UBOT',\n",
      "       'T500', 'Label'],\n",
      "      dtype='object')\n",
      "Confusion Matrix:\n",
      "[[1710   38   88]\n",
      " [ 101   11    0]\n",
      " [ 192    0  260]] \n",
      "\n",
      "Accuracy:\n",
      "0.8254 \n",
      "\n",
      "Precision:\n",
      "0.6084 \n",
      "\n",
      "Recall:\n",
      "0.5349 \n",
      "\n",
      "F1 Score:\n",
      "0.5693\n"
     ]
    }
   ],
   "source": [
    "model = MultinomialLogisticRegression(learning_rate=0.1, num_iterations=1000, regularizer=0.01)\n",
    "model.fit(X_train, y_train, collist=raw_data.columns, valid_x=X_valid, valid_y=y_valid)\n",
    "\n",
    "# Make predictions.\n",
    "predictions = model.predict(X_valid)\n",
    "print(train_df.columns)\n",
    "\n",
    "model.get_metrics(y_valid, predictions, return_values=False)"
   ]
  },
  {
   "cell_type": "code",
   "execution_count": 13,
   "metadata": {},
   "outputs": [
    {
     "data": {
      "image/png": "[encoded data removed]",
      "text/plain": [
       "<Figure size 640x480 with 1 Axes>"
      ]
     },
     "metadata": {},
     "output_type": "display_data"
    }
   ],
   "source": [
    "plt.plot(\n",
    "    model.iters,\n",
    "    model.train_errors,\n",
    "    label=\"Train\"\n",
    ")\n",
    "\n",
    "plt.plot(\n",
    "    model.iters,\n",
    "    model.valid_errors,\n",
    "    label=\"Validation\",\n",
    "    color='r'\n",
    ")\n",
    "\n",
    "plt.ylabel(\"Loss\")\n",
    "plt.title(\"Temporal split\")\n",
    "plt.xlabel(\"Epoch\")\n",
    "plt.legend()\n",
    "plt.show()"
   ]
  },
  {
   "cell_type": "code",
   "execution_count": null,
   "metadata": {},
   "outputs": [],
   "source": []
  },
  {
   "cell_type": "markdown",
   "metadata": {},
   "source": [
    "---"
   ]
  },
  {
   "cell_type": "code",
   "execution_count": 23,
   "metadata": {},
   "outputs": [],
   "source": [
    "preproc = Preprocess()\n",
    "raw_data = preproc.load_data(raw_test_data)\n",
    "\n",
    "test_df, test_data = preproc.preprocess_data(raw_data, drop_cols=[\"SNo\", \"time\"], is_test=True)\n",
    "\n",
    "test_data = test_df[['lat', 'TS', 'TMQ', 'U850', 'PS', 'Z1000', 'PSL', 'Z200', 'lon', 'UBOT', 'T500',\n",
    "                     ]].to_numpy()\n",
    "\n",
    "test_data = preproc.normalize_data(test_data)"
   ]
  },
  {
   "cell_type": "code",
   "execution_count": 24,
   "metadata": {},
   "outputs": [
    {
     "data": {
      "text/plain": [
       "(10320, 11)"
      ]
     },
     "execution_count": 24,
     "metadata": {},
     "output_type": "execute_result"
    }
   ],
   "source": [
    "test_data.shape"
   ]
  },
  {
   "cell_type": "code",
   "execution_count": 25,
   "metadata": {},
   "outputs": [],
   "source": [
    "y_pred_test = model.predict(X=test_data)"
   ]
  },
  {
   "cell_type": "code",
   "execution_count": 26,
   "metadata": {},
   "outputs": [
    {
     "data": {
      "text/plain": [
       "0    0.822093\n",
       "2    0.146512\n",
       "1    0.031395\n",
       "dtype: float64"
      ]
     },
     "execution_count": 26,
     "metadata": {},
     "output_type": "execute_result"
    }
   ],
   "source": [
    "pd.Series(y_pred_test).value_counts(normalize=True)"
   ]
  },
  {
   "cell_type": "code",
   "execution_count": 27,
   "metadata": {},
   "outputs": [
    {
     "data": {
      "text/plain": [
       "array([2, 2, 2, ..., 1, 1, 1])"
      ]
     },
     "execution_count": 27,
     "metadata": {},
     "output_type": "execute_result"
    }
   ],
   "source": [
    "y_pred_test"
   ]
  },
  {
   "cell_type": "code",
   "execution_count": 28,
   "metadata": {},
   "outputs": [],
   "source": [
    "submition = raw_data['SNo'].reset_index().copy()\n",
    "submition['Label'] = pd.Series(y_pred_test)\n",
    "submition.drop(\"index\", axis=1, inplace=True)\n",
    "submition.to_csv(f\"predictions_{datetime.now()}_rm_dupls_top_cols_temporal_separation.csv\", index=False)"
   ]
  },
  {
   "cell_type": "markdown",
   "metadata": {},
   "source": [
    "0.738"
   ]
  }
 ],
 "metadata": {
  "kernelspec": {
   "display_name": "dc1-env",
   "language": "python",
   "name": "python3"
  },
  "language_info": {
   "codemirror_mode": {
    "name": "ipython",
    "version": 3
   },
   "file_extension": ".py",
   "mimetype": "text/x-python",
   "name": "python",
   "nbconvert_exporter": "python",
   "pygments_lexer": "ipython3",
   "version": "3.9.18"
  }
 },
 "nbformat": 4,
 "nbformat_minor": 2
}
