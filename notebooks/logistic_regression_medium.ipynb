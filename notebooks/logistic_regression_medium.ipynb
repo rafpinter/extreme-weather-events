{
 "cells": [
  {
   "cell_type": "code",
   "execution_count": 1,
   "metadata": {},
   "outputs": [],
   "source": [
    "%load_ext autoreload\n",
    "%autoreload 2"
   ]
  },
  {
   "cell_type": "code",
   "execution_count": 13,
   "metadata": {},
   "outputs": [],
   "source": [
    "import pandas as pd\n",
    "import numpy as np\n",
    "from logistic_medium import LogisticMedium\n",
    "from sklearn.model_selection import train_test_split\n",
    "from preprocess import Preprocess"
   ]
  },
  {
   "cell_type": "markdown",
   "metadata": {},
   "source": [
    "Loading data"
   ]
  },
  {
   "cell_type": "code",
   "execution_count": 3,
   "metadata": {},
   "outputs": [],
   "source": [
    "raw_train_data = \"../data/train.csv\"\n",
    "raw_test_data = \"../data/test.csv\""
   ]
  },
  {
   "cell_type": "markdown",
   "metadata": {},
   "source": [
    "Preprocessing"
   ]
  },
  {
   "cell_type": "code",
   "execution_count": 4,
   "metadata": {},
   "outputs": [
    {
     "data": {
      "text/plain": [
       "(44760, 20)"
      ]
     },
     "execution_count": 4,
     "metadata": {},
     "output_type": "execute_result"
    }
   ],
   "source": [
    "preproc = Preprocess()\n",
    "raw_data = preproc.load_data(raw_train_data)\n",
    "train_df, train_data = preproc.preprocess_data(raw_data)\n",
    "train_data.shape"
   ]
  },
  {
   "cell_type": "code",
   "execution_count": 5,
   "metadata": {},
   "outputs": [
    {
     "data": {
      "text/plain": [
       "0    0.785947\n",
       "2    0.173280\n",
       "1    0.040773\n",
       "Name: Label, dtype: float64"
      ]
     },
     "execution_count": 5,
     "metadata": {},
     "output_type": "execute_result"
    }
   ],
   "source": [
    "train_df.Label.value_counts(normalize=True)"
   ]
  },
  {
   "cell_type": "code",
   "execution_count": 6,
   "metadata": {},
   "outputs": [],
   "source": [
    "X_train, y_train, X_valid, y_valid = preproc.train_valid_split(\n",
    "    train_data, test_size=0.33, random_state=42)"
   ]
  },
  {
   "cell_type": "code",
   "execution_count": 38,
   "metadata": {},
   "outputs": [],
   "source": [
    "X_train = preproc.normalize_data(X_train)\n",
    "X_valid = preproc.normalize_data(X_valid)"
   ]
  },
  {
   "cell_type": "markdown",
   "metadata": {},
   "source": [
    "Teste com uma classe só"
   ]
  },
  {
   "cell_type": "code",
   "execution_count": 14,
   "metadata": {},
   "outputs": [],
   "source": [
    "y_train = (y_train == 1).astype(int)\n",
    "y_valid = (y_valid == 1).astype(int)"
   ]
  },
  {
   "cell_type": "code",
   "execution_count": 16,
   "metadata": {},
   "outputs": [
    {
     "data": {
      "text/plain": [
       "array([0, 0, 0, ..., 0, 0, 0])"
      ]
     },
     "execution_count": 16,
     "metadata": {},
     "output_type": "execute_result"
    }
   ],
   "source": [
    "y_valid"
   ]
  },
  {
   "cell_type": "code",
   "execution_count": 15,
   "metadata": {},
   "outputs": [
    {
     "ename": "ValueError",
     "evalue": "operands could not be broadcast together with shapes (29989,) (1,19) ",
     "output_type": "error",
     "traceback": [
      "\u001b[0;31m---------------------------------------------------------------------------\u001b[0m",
      "\u001b[0;31mValueError\u001b[0m                                Traceback (most recent call last)",
      "\u001b[1;32m/Users/rafaelapinter/Library/Mobile Documents/com~apple~CloudDocs/1.UdeM/github-projects/extreme-weather-events-ift6380/notebooks/logistic_regression_medium.ipynb Cell 12\u001b[0m line \u001b[0;36m5\n\u001b[1;32m      <a href='vscode-notebook-cell:/Users/rafaelapinter/Library/Mobile%20Documents/com~apple~CloudDocs/1.UdeM/github-projects/extreme-weather-events-ift6380/notebooks/logistic_regression_medium.ipynb#X11sZmlsZQ%3D%3D?line=1'>2</a>\u001b[0m lr \u001b[39m=\u001b[39m LogisticMedium()\n\u001b[1;32m      <a href='vscode-notebook-cell:/Users/rafaelapinter/Library/Mobile%20Documents/com~apple~CloudDocs/1.UdeM/github-projects/extreme-weather-events-ift6380/notebooks/logistic_regression_medium.ipynb#X11sZmlsZQ%3D%3D?line=3'>4</a>\u001b[0m \u001b[39m# Fitting model\u001b[39;00m\n\u001b[0;32m----> <a href='vscode-notebook-cell:/Users/rafaelapinter/Library/Mobile%20Documents/com~apple~CloudDocs/1.UdeM/github-projects/extreme-weather-events-ift6380/notebooks/logistic_regression_medium.ipynb#X11sZmlsZQ%3D%3D?line=4'>5</a>\u001b[0m lr\u001b[39m.\u001b[39;49mtrain_model(X_train, y_train, X_valid, y_valid)\n\u001b[1;32m      <a href='vscode-notebook-cell:/Users/rafaelapinter/Library/Mobile%20Documents/com~apple~CloudDocs/1.UdeM/github-projects/extreme-weather-events-ift6380/notebooks/logistic_regression_medium.ipynb#X11sZmlsZQ%3D%3D?line=6'>7</a>\u001b[0m \u001b[39m# Predict\u001b[39;00m\n\u001b[1;32m      <a href='vscode-notebook-cell:/Users/rafaelapinter/Library/Mobile%20Documents/com~apple~CloudDocs/1.UdeM/github-projects/extreme-weather-events-ift6380/notebooks/logistic_regression_medium.ipynb#X11sZmlsZQ%3D%3D?line=7'>8</a>\u001b[0m y_pred \u001b[39m=\u001b[39m lr\u001b[39m.\u001b[39mpredict(X\u001b[39m=\u001b[39mX_valid)\n",
      "File \u001b[0;32m~/Library/Mobile Documents/com~apple~CloudDocs/1.UdeM/github-projects/extreme-weather-events-ift6380/notebooks/logistic_medium.py:173\u001b[0m, in \u001b[0;36mLogisticMedium.train_model\u001b[0;34m(self, X_train, Y_train, X_test, Y_test, print_cost)\u001b[0m\n\u001b[1;32m    171\u001b[0m w, b \u001b[39m=\u001b[39m \u001b[39mself\u001b[39m\u001b[39m.\u001b[39minitialize_weight(dim)\n\u001b[1;32m    172\u001b[0m \u001b[39m# Gradient descent\u001b[39;00m\n\u001b[0;32m--> 173\u001b[0m parameters, grads, costs \u001b[39m=\u001b[39m \u001b[39mself\u001b[39;49m\u001b[39m.\u001b[39;49mgradient_descent(\n\u001b[1;32m    174\u001b[0m     w, b, X_train, Y_train, print_cost\u001b[39m=\u001b[39;49m\u001b[39mFalse\u001b[39;49;00m\n\u001b[1;32m    175\u001b[0m )\n\u001b[1;32m    177\u001b[0m \u001b[39m# Retrieve parameters w and b from dictionary \"parameters\"\u001b[39;00m\n\u001b[1;32m    178\u001b[0m \u001b[39mself\u001b[39m\u001b[39m.\u001b[39mw \u001b[39m=\u001b[39m parameters[\u001b[39m\"\u001b[39m\u001b[39mw\u001b[39m\u001b[39m\"\u001b[39m]\n",
      "File \u001b[0;32m~/Library/Mobile Documents/com~apple~CloudDocs/1.UdeM/github-projects/extreme-weather-events-ift6380/notebooks/logistic_medium.py:100\u001b[0m, in \u001b[0;36mLogisticMedium.gradient_descent\u001b[0;34m(self, w, b, X, Y, print_cost)\u001b[0m\n\u001b[1;32m     96\u001b[0m costs \u001b[39m=\u001b[39m []\n\u001b[1;32m     98\u001b[0m \u001b[39mfor\u001b[39;00m i \u001b[39min\u001b[39;00m \u001b[39mrange\u001b[39m(\u001b[39mself\u001b[39m\u001b[39m.\u001b[39mnum_iterations):\n\u001b[1;32m     99\u001b[0m     \u001b[39m# Cost and gradient calculation\u001b[39;00m\n\u001b[0;32m--> 100\u001b[0m     grads, cost \u001b[39m=\u001b[39m \u001b[39mself\u001b[39;49m\u001b[39m.\u001b[39;49mgradient_position(w, b, X, Y)\n\u001b[1;32m    102\u001b[0m \u001b[39m# Retrieve derivatives from grads\u001b[39;00m\n\u001b[1;32m    103\u001b[0m dw \u001b[39m=\u001b[39m grads[\u001b[39m\"\u001b[39m\u001b[39mdw\u001b[39m\u001b[39m\"\u001b[39m]\n",
      "File \u001b[0;32m~/Library/Mobile Documents/com~apple~CloudDocs/1.UdeM/github-projects/extreme-weather-events-ift6380/notebooks/logistic_medium.py:75\u001b[0m, in \u001b[0;36mLogisticMedium.gradient_position\u001b[0;34m(self, w, b, X, Y)\u001b[0m\n\u001b[1;32m     73\u001b[0m m \u001b[39m=\u001b[39m X\u001b[39m.\u001b[39mshape[\u001b[39m1\u001b[39m]\n\u001b[1;32m     74\u001b[0m H \u001b[39m=\u001b[39m \u001b[39mself\u001b[39m\u001b[39m.\u001b[39mhypothesis(w, X, b)  \u001b[39m# compute activation\u001b[39;00m\n\u001b[0;32m---> 75\u001b[0m cost \u001b[39m=\u001b[39m \u001b[39mself\u001b[39;49m\u001b[39m.\u001b[39;49mcost(H, Y, m)  \u001b[39m# compute cost\u001b[39;00m\n\u001b[1;32m     76\u001b[0m grads \u001b[39m=\u001b[39m \u001b[39mself\u001b[39m\u001b[39m.\u001b[39mcal_gradient(w, H, X, Y)  \u001b[39m# compute gradient\u001b[39;00m\n\u001b[1;32m     77\u001b[0m \u001b[39mreturn\u001b[39;00m grads, cost\n",
      "File \u001b[0;32m~/Library/Mobile Documents/com~apple~CloudDocs/1.UdeM/github-projects/extreme-weather-events-ift6380/notebooks/logistic_medium.py:49\u001b[0m, in \u001b[0;36mLogisticMedium.cost\u001b[0;34m(self, H, Y, m)\u001b[0m\n\u001b[1;32m     41\u001b[0m \u001b[39mdef\u001b[39;00m \u001b[39mcost\u001b[39m(\u001b[39mself\u001b[39m, H, Y, m):\n\u001b[1;32m     42\u001b[0m \u001b[39m    \u001b[39m\u001b[39m\"\"\"\u001b[39;00m\n\u001b[1;32m     43\u001b[0m \u001b[39m    This function calculates the cost of hypothesis\u001b[39;00m\n\u001b[1;32m     44\u001b[0m \u001b[39m    Arguments:\u001b[39;00m\n\u001b[0;32m   (...)\u001b[0m\n\u001b[1;32m     47\u001b[0m \u001b[39m    m -- Number training samples\u001b[39;00m\n\u001b[1;32m     48\u001b[0m \u001b[39m    \"\"\"\u001b[39;00m\n\u001b[0;32m---> 49\u001b[0m     cost \u001b[39m=\u001b[39m \u001b[39m-\u001b[39mnp\u001b[39m.\u001b[39msum(Y \u001b[39m*\u001b[39;49m np\u001b[39m.\u001b[39;49mlog(H) \u001b[39m+\u001b[39m (\u001b[39m1\u001b[39m \u001b[39m-\u001b[39m Y) \u001b[39m*\u001b[39m np\u001b[39m.\u001b[39mlog(\u001b[39m1\u001b[39m \u001b[39m-\u001b[39m H)) \u001b[39m/\u001b[39m m\n\u001b[1;32m     50\u001b[0m     cost \u001b[39m=\u001b[39m np\u001b[39m.\u001b[39msqueeze(cost)\n\u001b[1;32m     51\u001b[0m     \u001b[39mreturn\u001b[39;00m cost\n",
      "\u001b[0;31mValueError\u001b[0m: operands could not be broadcast together with shapes (29989,) (1,19) "
     ]
    }
   ],
   "source": [
    "# Creating model instance\n",
    "lr = LogisticMedium()\n",
    "\n",
    "# Fitting model\n",
    "lr.train_model(X_train, y_train, X_valid, y_valid)\n",
    "\n",
    "# Predict\n",
    "y_pred = lr.predict(X=X_valid)"
   ]
  },
  {
   "cell_type": "code",
   "execution_count": 33,
   "metadata": {},
   "outputs": [
    {
     "name": "stdout",
     "output_type": "stream",
     "text": [
      "Confusion Matrix:\n",
      "[[    0     0 11629]\n",
      " [    0     0   578]\n",
      " [    0     0  2564]] \n",
      "\n",
      "Accuracy:\n",
      "0.1736 \n",
      "\n",
      "Precision:\n",
      "0.0579 \n",
      "\n",
      "Recall:\n",
      "0.3333\n"
     ]
    }
   ],
   "source": [
    "lr.get_metrics(y_true=y_valid, y_pred=y_pred)"
   ]
  }
 ],
 "metadata": {
  "kernelspec": {
   "display_name": "dc1-env",
   "language": "python",
   "name": "python3"
  },
  "language_info": {
   "codemirror_mode": {
    "name": "ipython",
    "version": 3
   },
   "file_extension": ".py",
   "mimetype": "text/x-python",
   "name": "python",
   "nbconvert_exporter": "python",
   "pygments_lexer": "ipython3",
   "version": "3.9.18"
  }
 },
 "nbformat": 4,
 "nbformat_minor": 2
}
